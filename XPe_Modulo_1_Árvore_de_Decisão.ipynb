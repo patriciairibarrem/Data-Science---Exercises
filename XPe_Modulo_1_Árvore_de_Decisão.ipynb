{
  "nbformat": 4,
  "nbformat_minor": 0,
  "metadata": {
    "colab": {
      "provenance": [],
      "authorship_tag": "ABX9TyP8o+8vBNnni4hMyHvlloqW",
      "include_colab_link": true
    },
    "kernelspec": {
      "name": "python3",
      "display_name": "Python 3"
    },
    "language_info": {
      "name": "python"
    }
  },
  "cells": [
    {
      "cell_type": "markdown",
      "metadata": {
        "id": "view-in-github",
        "colab_type": "text"
      },
      "source": [
        "<a href=\"https://colab.research.google.com/github/patriciairibarrem/Data-Science---Exercises/blob/main/XPe_Modulo_1_%C3%81rvore_de_Decis%C3%A3o.ipynb\" target=\"_parent\"><img src=\"https://colab.research.google.com/assets/colab-badge.svg\" alt=\"Open In Colab\"/></a>"
      ]
    },
    {
      "cell_type": "code",
      "execution_count": null,
      "metadata": {
        "id": "RjpJzxQ-cg1a"
      },
      "outputs": [],
      "source": [
        "import pandas as pd\n",
        "import matplotlib.pyplot as plt"
      ]
    },
    {
      "cell_type": "markdown",
      "source": [
        "#Base de Dados\n",
        " \n",
        " Vamos utilizar a base que contém informações de pessoas que possuem ou não diabetes. Para isso, analisar vários atributos para predizer se a pessoa possui ou não diabetes. \n",
        "\n",
        "A base utilizada está abaixo:\n",
        "\n",
        "https://www.kaggle.com/saurabh00007/diabetescsv?select=diabetes.csv"
      ],
      "metadata": {
        "id": "YEEjfZEyc1WR"
      }
    },
    {
      "cell_type": "markdown",
      "source": [
        "#Realizando o carregamento dos dados"
      ],
      "metadata": {
        "id": "pVqzKVBmd-Jk"
      }
    },
    {
      "cell_type": "code",
      "source": [
        "dados_diabetes = pd.read_csv('diabetes.csv', sep = ',')"
      ],
      "metadata": {
        "id": "jgqV1MtucsjD"
      },
      "execution_count": null,
      "outputs": []
    },
    {
      "cell_type": "markdown",
      "source": [
        "#Verificando dados do dataset"
      ],
      "metadata": {
        "id": "S_nm4BbBe4kY"
      }
    },
    {
      "cell_type": "code",
      "source": [
        "dados_diabetes.info()"
      ],
      "metadata": {
        "colab": {
          "base_uri": "https://localhost:8080/"
        },
        "id": "MWZ-Nl97eZ2q",
        "outputId": "2df21825-9b42-4c9b-e99e-775dd72c7b82"
      },
      "execution_count": null,
      "outputs": [
        {
          "output_type": "stream",
          "name": "stdout",
          "text": [
            "<class 'pandas.core.frame.DataFrame'>\n",
            "RangeIndex: 768 entries, 0 to 767\n",
            "Data columns (total 9 columns):\n",
            " #   Column                    Non-Null Count  Dtype  \n",
            "---  ------                    --------------  -----  \n",
            " 0   Pregnancies               768 non-null    int64  \n",
            " 1   Glucose                   768 non-null    int64  \n",
            " 2   BloodPressure             768 non-null    int64  \n",
            " 3   SkinThickness             768 non-null    int64  \n",
            " 4   Insulin                   768 non-null    int64  \n",
            " 5   BMI                       768 non-null    float64\n",
            " 6   DiabetesPedigreeFunction  768 non-null    float64\n",
            " 7   Age                       768 non-null    int64  \n",
            " 8   Outcome                   768 non-null    int64  \n",
            "dtypes: float64(2), int64(7)\n",
            "memory usage: 54.1 KB\n"
          ]
        }
      ]
    },
    {
      "cell_type": "markdown",
      "source": [
        "#Tratando e analisando os dados"
      ],
      "metadata": {
        "id": "m0N26G3nfIVS"
      }
    },
    {
      "cell_type": "code",
      "source": [
        "dados_diabetes.head()"
      ],
      "metadata": {
        "colab": {
          "base_uri": "https://localhost:8080/",
          "height": 206
        },
        "id": "Wkk7BGi7e-hu",
        "outputId": "b64be391-a810-4e6e-a813-f29c7a45329a"
      },
      "execution_count": null,
      "outputs": [
        {
          "output_type": "execute_result",
          "data": {
            "text/plain": [
              "   Pregnancies  Glucose  BloodPressure  SkinThickness  Insulin   BMI  \\\n",
              "0            6      148             72             35        0  33.6   \n",
              "1            1       85             66             29        0  26.6   \n",
              "2            8      183             64              0        0  23.3   \n",
              "3            1       89             66             23       94  28.1   \n",
              "4            0      137             40             35      168  43.1   \n",
              "\n",
              "   DiabetesPedigreeFunction  Age  Outcome  \n",
              "0                     0.627   50        1  \n",
              "1                     0.351   31        0  \n",
              "2                     0.672   32        1  \n",
              "3                     0.167   21        0  \n",
              "4                     2.288   33        1  "
            ],
            "text/html": [
              "\n",
              "  <div id=\"df-7cd37816-1d2f-4dec-9012-4130ca796442\">\n",
              "    <div class=\"colab-df-container\">\n",
              "      <div>\n",
              "<style scoped>\n",
              "    .dataframe tbody tr th:only-of-type {\n",
              "        vertical-align: middle;\n",
              "    }\n",
              "\n",
              "    .dataframe tbody tr th {\n",
              "        vertical-align: top;\n",
              "    }\n",
              "\n",
              "    .dataframe thead th {\n",
              "        text-align: right;\n",
              "    }\n",
              "</style>\n",
              "<table border=\"1\" class=\"dataframe\">\n",
              "  <thead>\n",
              "    <tr style=\"text-align: right;\">\n",
              "      <th></th>\n",
              "      <th>Pregnancies</th>\n",
              "      <th>Glucose</th>\n",
              "      <th>BloodPressure</th>\n",
              "      <th>SkinThickness</th>\n",
              "      <th>Insulin</th>\n",
              "      <th>BMI</th>\n",
              "      <th>DiabetesPedigreeFunction</th>\n",
              "      <th>Age</th>\n",
              "      <th>Outcome</th>\n",
              "    </tr>\n",
              "  </thead>\n",
              "  <tbody>\n",
              "    <tr>\n",
              "      <th>0</th>\n",
              "      <td>6</td>\n",
              "      <td>148</td>\n",
              "      <td>72</td>\n",
              "      <td>35</td>\n",
              "      <td>0</td>\n",
              "      <td>33.6</td>\n",
              "      <td>0.627</td>\n",
              "      <td>50</td>\n",
              "      <td>1</td>\n",
              "    </tr>\n",
              "    <tr>\n",
              "      <th>1</th>\n",
              "      <td>1</td>\n",
              "      <td>85</td>\n",
              "      <td>66</td>\n",
              "      <td>29</td>\n",
              "      <td>0</td>\n",
              "      <td>26.6</td>\n",
              "      <td>0.351</td>\n",
              "      <td>31</td>\n",
              "      <td>0</td>\n",
              "    </tr>\n",
              "    <tr>\n",
              "      <th>2</th>\n",
              "      <td>8</td>\n",
              "      <td>183</td>\n",
              "      <td>64</td>\n",
              "      <td>0</td>\n",
              "      <td>0</td>\n",
              "      <td>23.3</td>\n",
              "      <td>0.672</td>\n",
              "      <td>32</td>\n",
              "      <td>1</td>\n",
              "    </tr>\n",
              "    <tr>\n",
              "      <th>3</th>\n",
              "      <td>1</td>\n",
              "      <td>89</td>\n",
              "      <td>66</td>\n",
              "      <td>23</td>\n",
              "      <td>94</td>\n",
              "      <td>28.1</td>\n",
              "      <td>0.167</td>\n",
              "      <td>21</td>\n",
              "      <td>0</td>\n",
              "    </tr>\n",
              "    <tr>\n",
              "      <th>4</th>\n",
              "      <td>0</td>\n",
              "      <td>137</td>\n",
              "      <td>40</td>\n",
              "      <td>35</td>\n",
              "      <td>168</td>\n",
              "      <td>43.1</td>\n",
              "      <td>2.288</td>\n",
              "      <td>33</td>\n",
              "      <td>1</td>\n",
              "    </tr>\n",
              "  </tbody>\n",
              "</table>\n",
              "</div>\n",
              "      <button class=\"colab-df-convert\" onclick=\"convertToInteractive('df-7cd37816-1d2f-4dec-9012-4130ca796442')\"\n",
              "              title=\"Convert this dataframe to an interactive table.\"\n",
              "              style=\"display:none;\">\n",
              "        \n",
              "  <svg xmlns=\"http://www.w3.org/2000/svg\" height=\"24px\"viewBox=\"0 0 24 24\"\n",
              "       width=\"24px\">\n",
              "    <path d=\"M0 0h24v24H0V0z\" fill=\"none\"/>\n",
              "    <path d=\"M18.56 5.44l.94 2.06.94-2.06 2.06-.94-2.06-.94-.94-2.06-.94 2.06-2.06.94zm-11 1L8.5 8.5l.94-2.06 2.06-.94-2.06-.94L8.5 2.5l-.94 2.06-2.06.94zm10 10l.94 2.06.94-2.06 2.06-.94-2.06-.94-.94-2.06-.94 2.06-2.06.94z\"/><path d=\"M17.41 7.96l-1.37-1.37c-.4-.4-.92-.59-1.43-.59-.52 0-1.04.2-1.43.59L10.3 9.45l-7.72 7.72c-.78.78-.78 2.05 0 2.83L4 21.41c.39.39.9.59 1.41.59.51 0 1.02-.2 1.41-.59l7.78-7.78 2.81-2.81c.8-.78.8-2.07 0-2.86zM5.41 20L4 18.59l7.72-7.72 1.47 1.35L5.41 20z\"/>\n",
              "  </svg>\n",
              "      </button>\n",
              "      \n",
              "  <style>\n",
              "    .colab-df-container {\n",
              "      display:flex;\n",
              "      flex-wrap:wrap;\n",
              "      gap: 12px;\n",
              "    }\n",
              "\n",
              "    .colab-df-convert {\n",
              "      background-color: #E8F0FE;\n",
              "      border: none;\n",
              "      border-radius: 50%;\n",
              "      cursor: pointer;\n",
              "      display: none;\n",
              "      fill: #1967D2;\n",
              "      height: 32px;\n",
              "      padding: 0 0 0 0;\n",
              "      width: 32px;\n",
              "    }\n",
              "\n",
              "    .colab-df-convert:hover {\n",
              "      background-color: #E2EBFA;\n",
              "      box-shadow: 0px 1px 2px rgba(60, 64, 67, 0.3), 0px 1px 3px 1px rgba(60, 64, 67, 0.15);\n",
              "      fill: #174EA6;\n",
              "    }\n",
              "\n",
              "    [theme=dark] .colab-df-convert {\n",
              "      background-color: #3B4455;\n",
              "      fill: #D2E3FC;\n",
              "    }\n",
              "\n",
              "    [theme=dark] .colab-df-convert:hover {\n",
              "      background-color: #434B5C;\n",
              "      box-shadow: 0px 1px 3px 1px rgba(0, 0, 0, 0.15);\n",
              "      filter: drop-shadow(0px 1px 2px rgba(0, 0, 0, 0.3));\n",
              "      fill: #FFFFFF;\n",
              "    }\n",
              "  </style>\n",
              "\n",
              "      <script>\n",
              "        const buttonEl =\n",
              "          document.querySelector('#df-7cd37816-1d2f-4dec-9012-4130ca796442 button.colab-df-convert');\n",
              "        buttonEl.style.display =\n",
              "          google.colab.kernel.accessAllowed ? 'block' : 'none';\n",
              "\n",
              "        async function convertToInteractive(key) {\n",
              "          const element = document.querySelector('#df-7cd37816-1d2f-4dec-9012-4130ca796442');\n",
              "          const dataTable =\n",
              "            await google.colab.kernel.invokeFunction('convertToInteractive',\n",
              "                                                     [key], {});\n",
              "          if (!dataTable) return;\n",
              "\n",
              "          const docLinkHtml = 'Like what you see? Visit the ' +\n",
              "            '<a target=\"_blank\" href=https://colab.research.google.com/notebooks/data_table.ipynb>data table notebook</a>'\n",
              "            + ' to learn more about interactive tables.';\n",
              "          element.innerHTML = '';\n",
              "          dataTable['output_type'] = 'display_data';\n",
              "          await google.colab.output.renderOutput(dataTable, element);\n",
              "          const docLink = document.createElement('div');\n",
              "          docLink.innerHTML = docLinkHtml;\n",
              "          element.appendChild(docLink);\n",
              "        }\n",
              "      </script>\n",
              "    </div>\n",
              "  </div>\n",
              "  "
            ]
          },
          "metadata": {},
          "execution_count": 13
        }
      ]
    },
    {
      "cell_type": "code",
      "source": [
        "dados_diabetes.describe()"
      ],
      "metadata": {
        "colab": {
          "base_uri": "https://localhost:8080/",
          "height": 300
        },
        "id": "PYFL5AZIfPFj",
        "outputId": "85a2d95a-6317-422d-aa4d-4d9ab075e291"
      },
      "execution_count": null,
      "outputs": [
        {
          "output_type": "execute_result",
          "data": {
            "text/plain": [
              "       Pregnancies     Glucose  BloodPressure  SkinThickness     Insulin  \\\n",
              "count   768.000000  768.000000     768.000000     768.000000  768.000000   \n",
              "mean      3.845052  120.894531      69.105469      20.536458   79.799479   \n",
              "std       3.369578   31.972618      19.355807      15.952218  115.244002   \n",
              "min       0.000000    0.000000       0.000000       0.000000    0.000000   \n",
              "25%       1.000000   99.000000      62.000000       0.000000    0.000000   \n",
              "50%       3.000000  117.000000      72.000000      23.000000   30.500000   \n",
              "75%       6.000000  140.250000      80.000000      32.000000  127.250000   \n",
              "max      17.000000  199.000000     122.000000      99.000000  846.000000   \n",
              "\n",
              "              BMI  DiabetesPedigreeFunction         Age     Outcome  \n",
              "count  768.000000                768.000000  768.000000  768.000000  \n",
              "mean    31.992578                  0.471876   33.240885    0.348958  \n",
              "std      7.884160                  0.331329   11.760232    0.476951  \n",
              "min      0.000000                  0.078000   21.000000    0.000000  \n",
              "25%     27.300000                  0.243750   24.000000    0.000000  \n",
              "50%     32.000000                  0.372500   29.000000    0.000000  \n",
              "75%     36.600000                  0.626250   41.000000    1.000000  \n",
              "max     67.100000                  2.420000   81.000000    1.000000  "
            ],
            "text/html": [
              "\n",
              "  <div id=\"df-f6dc7786-a1fa-492a-b478-09a1c1dda431\">\n",
              "    <div class=\"colab-df-container\">\n",
              "      <div>\n",
              "<style scoped>\n",
              "    .dataframe tbody tr th:only-of-type {\n",
              "        vertical-align: middle;\n",
              "    }\n",
              "\n",
              "    .dataframe tbody tr th {\n",
              "        vertical-align: top;\n",
              "    }\n",
              "\n",
              "    .dataframe thead th {\n",
              "        text-align: right;\n",
              "    }\n",
              "</style>\n",
              "<table border=\"1\" class=\"dataframe\">\n",
              "  <thead>\n",
              "    <tr style=\"text-align: right;\">\n",
              "      <th></th>\n",
              "      <th>Pregnancies</th>\n",
              "      <th>Glucose</th>\n",
              "      <th>BloodPressure</th>\n",
              "      <th>SkinThickness</th>\n",
              "      <th>Insulin</th>\n",
              "      <th>BMI</th>\n",
              "      <th>DiabetesPedigreeFunction</th>\n",
              "      <th>Age</th>\n",
              "      <th>Outcome</th>\n",
              "    </tr>\n",
              "  </thead>\n",
              "  <tbody>\n",
              "    <tr>\n",
              "      <th>count</th>\n",
              "      <td>768.000000</td>\n",
              "      <td>768.000000</td>\n",
              "      <td>768.000000</td>\n",
              "      <td>768.000000</td>\n",
              "      <td>768.000000</td>\n",
              "      <td>768.000000</td>\n",
              "      <td>768.000000</td>\n",
              "      <td>768.000000</td>\n",
              "      <td>768.000000</td>\n",
              "    </tr>\n",
              "    <tr>\n",
              "      <th>mean</th>\n",
              "      <td>3.845052</td>\n",
              "      <td>120.894531</td>\n",
              "      <td>69.105469</td>\n",
              "      <td>20.536458</td>\n",
              "      <td>79.799479</td>\n",
              "      <td>31.992578</td>\n",
              "      <td>0.471876</td>\n",
              "      <td>33.240885</td>\n",
              "      <td>0.348958</td>\n",
              "    </tr>\n",
              "    <tr>\n",
              "      <th>std</th>\n",
              "      <td>3.369578</td>\n",
              "      <td>31.972618</td>\n",
              "      <td>19.355807</td>\n",
              "      <td>15.952218</td>\n",
              "      <td>115.244002</td>\n",
              "      <td>7.884160</td>\n",
              "      <td>0.331329</td>\n",
              "      <td>11.760232</td>\n",
              "      <td>0.476951</td>\n",
              "    </tr>\n",
              "    <tr>\n",
              "      <th>min</th>\n",
              "      <td>0.000000</td>\n",
              "      <td>0.000000</td>\n",
              "      <td>0.000000</td>\n",
              "      <td>0.000000</td>\n",
              "      <td>0.000000</td>\n",
              "      <td>0.000000</td>\n",
              "      <td>0.078000</td>\n",
              "      <td>21.000000</td>\n",
              "      <td>0.000000</td>\n",
              "    </tr>\n",
              "    <tr>\n",
              "      <th>25%</th>\n",
              "      <td>1.000000</td>\n",
              "      <td>99.000000</td>\n",
              "      <td>62.000000</td>\n",
              "      <td>0.000000</td>\n",
              "      <td>0.000000</td>\n",
              "      <td>27.300000</td>\n",
              "      <td>0.243750</td>\n",
              "      <td>24.000000</td>\n",
              "      <td>0.000000</td>\n",
              "    </tr>\n",
              "    <tr>\n",
              "      <th>50%</th>\n",
              "      <td>3.000000</td>\n",
              "      <td>117.000000</td>\n",
              "      <td>72.000000</td>\n",
              "      <td>23.000000</td>\n",
              "      <td>30.500000</td>\n",
              "      <td>32.000000</td>\n",
              "      <td>0.372500</td>\n",
              "      <td>29.000000</td>\n",
              "      <td>0.000000</td>\n",
              "    </tr>\n",
              "    <tr>\n",
              "      <th>75%</th>\n",
              "      <td>6.000000</td>\n",
              "      <td>140.250000</td>\n",
              "      <td>80.000000</td>\n",
              "      <td>32.000000</td>\n",
              "      <td>127.250000</td>\n",
              "      <td>36.600000</td>\n",
              "      <td>0.626250</td>\n",
              "      <td>41.000000</td>\n",
              "      <td>1.000000</td>\n",
              "    </tr>\n",
              "    <tr>\n",
              "      <th>max</th>\n",
              "      <td>17.000000</td>\n",
              "      <td>199.000000</td>\n",
              "      <td>122.000000</td>\n",
              "      <td>99.000000</td>\n",
              "      <td>846.000000</td>\n",
              "      <td>67.100000</td>\n",
              "      <td>2.420000</td>\n",
              "      <td>81.000000</td>\n",
              "      <td>1.000000</td>\n",
              "    </tr>\n",
              "  </tbody>\n",
              "</table>\n",
              "</div>\n",
              "      <button class=\"colab-df-convert\" onclick=\"convertToInteractive('df-f6dc7786-a1fa-492a-b478-09a1c1dda431')\"\n",
              "              title=\"Convert this dataframe to an interactive table.\"\n",
              "              style=\"display:none;\">\n",
              "        \n",
              "  <svg xmlns=\"http://www.w3.org/2000/svg\" height=\"24px\"viewBox=\"0 0 24 24\"\n",
              "       width=\"24px\">\n",
              "    <path d=\"M0 0h24v24H0V0z\" fill=\"none\"/>\n",
              "    <path d=\"M18.56 5.44l.94 2.06.94-2.06 2.06-.94-2.06-.94-.94-2.06-.94 2.06-2.06.94zm-11 1L8.5 8.5l.94-2.06 2.06-.94-2.06-.94L8.5 2.5l-.94 2.06-2.06.94zm10 10l.94 2.06.94-2.06 2.06-.94-2.06-.94-.94-2.06-.94 2.06-2.06.94z\"/><path d=\"M17.41 7.96l-1.37-1.37c-.4-.4-.92-.59-1.43-.59-.52 0-1.04.2-1.43.59L10.3 9.45l-7.72 7.72c-.78.78-.78 2.05 0 2.83L4 21.41c.39.39.9.59 1.41.59.51 0 1.02-.2 1.41-.59l7.78-7.78 2.81-2.81c.8-.78.8-2.07 0-2.86zM5.41 20L4 18.59l7.72-7.72 1.47 1.35L5.41 20z\"/>\n",
              "  </svg>\n",
              "      </button>\n",
              "      \n",
              "  <style>\n",
              "    .colab-df-container {\n",
              "      display:flex;\n",
              "      flex-wrap:wrap;\n",
              "      gap: 12px;\n",
              "    }\n",
              "\n",
              "    .colab-df-convert {\n",
              "      background-color: #E8F0FE;\n",
              "      border: none;\n",
              "      border-radius: 50%;\n",
              "      cursor: pointer;\n",
              "      display: none;\n",
              "      fill: #1967D2;\n",
              "      height: 32px;\n",
              "      padding: 0 0 0 0;\n",
              "      width: 32px;\n",
              "    }\n",
              "\n",
              "    .colab-df-convert:hover {\n",
              "      background-color: #E2EBFA;\n",
              "      box-shadow: 0px 1px 2px rgba(60, 64, 67, 0.3), 0px 1px 3px 1px rgba(60, 64, 67, 0.15);\n",
              "      fill: #174EA6;\n",
              "    }\n",
              "\n",
              "    [theme=dark] .colab-df-convert {\n",
              "      background-color: #3B4455;\n",
              "      fill: #D2E3FC;\n",
              "    }\n",
              "\n",
              "    [theme=dark] .colab-df-convert:hover {\n",
              "      background-color: #434B5C;\n",
              "      box-shadow: 0px 1px 3px 1px rgba(0, 0, 0, 0.15);\n",
              "      filter: drop-shadow(0px 1px 2px rgba(0, 0, 0, 0.3));\n",
              "      fill: #FFFFFF;\n",
              "    }\n",
              "  </style>\n",
              "\n",
              "      <script>\n",
              "        const buttonEl =\n",
              "          document.querySelector('#df-f6dc7786-a1fa-492a-b478-09a1c1dda431 button.colab-df-convert');\n",
              "        buttonEl.style.display =\n",
              "          google.colab.kernel.accessAllowed ? 'block' : 'none';\n",
              "\n",
              "        async function convertToInteractive(key) {\n",
              "          const element = document.querySelector('#df-f6dc7786-a1fa-492a-b478-09a1c1dda431');\n",
              "          const dataTable =\n",
              "            await google.colab.kernel.invokeFunction('convertToInteractive',\n",
              "                                                     [key], {});\n",
              "          if (!dataTable) return;\n",
              "\n",
              "          const docLinkHtml = 'Like what you see? Visit the ' +\n",
              "            '<a target=\"_blank\" href=https://colab.research.google.com/notebooks/data_table.ipynb>data table notebook</a>'\n",
              "            + ' to learn more about interactive tables.';\n",
              "          element.innerHTML = '';\n",
              "          dataTable['output_type'] = 'display_data';\n",
              "          await google.colab.output.renderOutput(dataTable, element);\n",
              "          const docLink = document.createElement('div');\n",
              "          docLink.innerHTML = docLinkHtml;\n",
              "          element.appendChild(docLink);\n",
              "        }\n",
              "      </script>\n",
              "    </div>\n",
              "  </div>\n",
              "  "
            ]
          },
          "metadata": {},
          "execution_count": 14
        }
      ]
    },
    {
      "cell_type": "code",
      "source": [
        "#verificando valores nulos\n",
        "dados_diabetes.isna().sum()"
      ],
      "metadata": {
        "colab": {
          "base_uri": "https://localhost:8080/"
        },
        "id": "8erRY-AEftCp",
        "outputId": "dfc8f7f6-937c-4b42-8de4-fd13c4999a30"
      },
      "execution_count": null,
      "outputs": [
        {
          "output_type": "execute_result",
          "data": {
            "text/plain": [
              "Pregnancies                 0\n",
              "Glucose                     0\n",
              "BloodPressure               0\n",
              "SkinThickness               0\n",
              "Insulin                     0\n",
              "BMI                         0\n",
              "DiabetesPedigreeFunction    0\n",
              "Age                         0\n",
              "Outcome                     0\n",
              "dtype: int64"
            ]
          },
          "metadata": {},
          "execution_count": 15
        }
      ]
    },
    {
      "cell_type": "markdown",
      "source": [
        "#Contar número de registros de cada classe"
      ],
      "metadata": {
        "id": "auwfrWyBf4kJ"
      }
    },
    {
      "cell_type": "code",
      "source": [
        "dados_diabetes.groupby(['Outcome'])['Outcome'].count()"
      ],
      "metadata": {
        "colab": {
          "base_uri": "https://localhost:8080/"
        },
        "id": "v84mvLL6f1Eo",
        "outputId": "646d79e4-1721-44e7-b3a1-98518db9f39d"
      },
      "execution_count": null,
      "outputs": [
        {
          "output_type": "execute_result",
          "data": {
            "text/plain": [
              "Outcome\n",
              "0    500\n",
              "1    268\n",
              "Name: Outcome, dtype: int64"
            ]
          },
          "metadata": {},
          "execution_count": 18
        }
      ]
    },
    {
      "cell_type": "markdown",
      "source": [
        "Verificando que o nosso dataset se encontra desbalanceado. Precisamos coletr dados de forma  balanceada afim de não prejudicar a classificação.\n",
        "\n",
        "# Instalando bibliotca imblearn\n",
        "Um biblioteca utilizada para tratar dados desbalanceados. A biblioteca oferece várias técnicas de reamostragem comumente usadas em conjunto de dados que monstram um forte desequilibrio entre classes."
      ],
      "metadata": {
        "id": "ZVK2NqvpgT-3"
      }
    },
    {
      "cell_type": "code",
      "source": [
        "!pip install imblearn"
      ],
      "metadata": {
        "colab": {
          "base_uri": "https://localhost:8080/"
        },
        "id": "-7LVv_RigEvD",
        "outputId": "1ebb7e61-8a2a-466e-8a6e-389bc3b102d0"
      },
      "execution_count": null,
      "outputs": [
        {
          "output_type": "stream",
          "name": "stdout",
          "text": [
            "Looking in indexes: https://pypi.org/simple, https://us-python.pkg.dev/colab-wheels/public/simple/\n",
            "Requirement already satisfied: imblearn in /usr/local/lib/python3.7/dist-packages (0.0)\n",
            "Requirement already satisfied: imbalanced-learn in /usr/local/lib/python3.7/dist-packages (from imblearn) (0.8.1)\n",
            "Requirement already satisfied: scipy>=0.19.1 in /usr/local/lib/python3.7/dist-packages (from imbalanced-learn->imblearn) (1.7.3)\n",
            "Requirement already satisfied: numpy>=1.13.3 in /usr/local/lib/python3.7/dist-packages (from imbalanced-learn->imblearn) (1.21.6)\n",
            "Requirement already satisfied: scikit-learn>=0.24 in /usr/local/lib/python3.7/dist-packages (from imbalanced-learn->imblearn) (1.0.2)\n",
            "Requirement already satisfied: joblib>=0.11 in /usr/local/lib/python3.7/dist-packages (from imbalanced-learn->imblearn) (1.1.0)\n",
            "Requirement already satisfied: threadpoolctl>=2.0.0 in /usr/local/lib/python3.7/dist-packages (from scikit-learn>=0.24->imbalanced-learn->imblearn) (3.1.0)\n"
          ]
        }
      ]
    },
    {
      "cell_type": "code",
      "source": [
        "from imblearn.under_sampling import RandomUnderSampler, TomekLinks"
      ],
      "metadata": {
        "id": "FrjxTAWQgxZW"
      },
      "execution_count": null,
      "outputs": []
    },
    {
      "cell_type": "markdown",
      "source": [
        "#Separando conjunto de dados features a target\n",
        "Nesta etapa, vamos separar os conjuntos em duas bases de dados\n",
        "\n",
        "*   X_dados contém todas as features de cada amostra\n",
        "*   Y_dados contém apenas o target (possui diabetes (outcomes) ou não possui)\n",
        "\n",
        "\n",
        "\n"
      ],
      "metadata": {
        "id": "QNKc1PoxhQef"
      }
    },
    {
      "cell_type": "code",
      "source": [
        "X_dados = dados_diabetes.drop('Outcome', axis=1).values #todas as variáveis, menos a variável label\n",
        "y_dados = dados_diabetes['Outcome'].values"
      ],
      "metadata": {
        "id": "AFQqWbHBiLbi"
      },
      "execution_count": null,
      "outputs": []
    },
    {
      "cell_type": "markdown",
      "source": [
        "#Criando funções para balancear os dados\n",
        "UnderSampler é  um método que consiste em reduzir o número de observações da classse majoritária para diminuir a diferença entre as categorias."
      ],
      "metadata": {
        "id": "2iUNscT6hkLu"
      }
    },
    {
      "cell_type": "code",
      "source": [
        "def balanceamento_dados(X_dados, y_dados):\n",
        "  undersample = RandomUnderSampler(random_state = 42)\n",
        "  X_under, y_under = undersample.fit_resample(X_dados, y_dados)\n",
        "\n",
        "  tl = TomekLinks(sampling_strategy='all')\n",
        "  X_under, y_under = tl.fit_resample(X_under, y_under)\n",
        "  return X_under, y_under"
      ],
      "metadata": {
        "id": "yXEU4eJDg5M6"
      },
      "execution_count": null,
      "outputs": []
    },
    {
      "cell_type": "markdown",
      "source": [
        "#Aplicando técnica de balanceamento na base de dados"
      ],
      "metadata": {
        "id": "Of_UXbcajfn8"
      }
    },
    {
      "cell_type": "code",
      "source": [
        "X_dados_balanceados, y_dados_balanceados = balanceamento_dados(X_dados, y_dados)"
      ],
      "metadata": {
        "id": "z1FOWh96iGQn"
      },
      "execution_count": null,
      "outputs": []
    },
    {
      "cell_type": "markdown",
      "source": [
        "#Verificando balanceamento realizado"
      ],
      "metadata": {
        "id": "bHpWnqLqju1i"
      }
    },
    {
      "cell_type": "code",
      "source": [
        "print(len(X_dados_balanceados), len(y_dados_balanceados))"
      ],
      "metadata": {
        "colab": {
          "base_uri": "https://localhost:8080/"
        },
        "id": "0aqTGHdwjteK",
        "outputId": "c5387b31-c47d-49c3-b1fe-287bedb2a519"
      },
      "execution_count": null,
      "outputs": [
        {
          "output_type": "stream",
          "name": "stdout",
          "text": [
            "456 456\n"
          ]
        }
      ]
    },
    {
      "cell_type": "code",
      "source": [
        "#verificar lista com dados balanceados\n",
        "y_dados_balanceados"
      ],
      "metadata": {
        "colab": {
          "base_uri": "https://localhost:8080/"
        },
        "id": "WdFbrlv9j7NK",
        "outputId": "77b78e96-98e0-4d26-a908-093ad26dba9f"
      },
      "execution_count": null,
      "outputs": [
        {
          "output_type": "execute_result",
          "data": {
            "text/plain": [
              "array([0, 0, 0, 0, 0, 0, 0, 0, 0, 0, 0, 0, 0, 0, 0, 0, 0, 0, 0, 0, 0, 0,\n",
              "       0, 0, 0, 0, 0, 0, 0, 0, 0, 0, 0, 0, 0, 0, 0, 0, 0, 0, 0, 0, 0, 0,\n",
              "       0, 0, 0, 0, 0, 0, 0, 0, 0, 0, 0, 0, 0, 0, 0, 0, 0, 0, 0, 0, 0, 0,\n",
              "       0, 0, 0, 0, 0, 0, 0, 0, 0, 0, 0, 0, 0, 0, 0, 0, 0, 0, 0, 0, 0, 0,\n",
              "       0, 0, 0, 0, 0, 0, 0, 0, 0, 0, 0, 0, 0, 0, 0, 0, 0, 0, 0, 0, 0, 0,\n",
              "       0, 0, 0, 0, 0, 0, 0, 0, 0, 0, 0, 0, 0, 0, 0, 0, 0, 0, 0, 0, 0, 0,\n",
              "       0, 0, 0, 0, 0, 0, 0, 0, 0, 0, 0, 0, 0, 0, 0, 0, 0, 0, 0, 0, 0, 0,\n",
              "       0, 0, 0, 0, 0, 0, 0, 0, 0, 0, 0, 0, 0, 0, 0, 0, 0, 0, 0, 0, 0, 0,\n",
              "       0, 0, 0, 0, 0, 0, 0, 0, 0, 0, 0, 0, 0, 0, 0, 0, 0, 0, 0, 0, 0, 0,\n",
              "       0, 0, 0, 0, 0, 0, 0, 0, 0, 0, 0, 0, 0, 0, 0, 0, 0, 0, 0, 0, 0, 0,\n",
              "       0, 0, 0, 0, 0, 0, 0, 0, 1, 1, 1, 1, 1, 1, 1, 1, 1, 1, 1, 1, 1, 1,\n",
              "       1, 1, 1, 1, 1, 1, 1, 1, 1, 1, 1, 1, 1, 1, 1, 1, 1, 1, 1, 1, 1, 1,\n",
              "       1, 1, 1, 1, 1, 1, 1, 1, 1, 1, 1, 1, 1, 1, 1, 1, 1, 1, 1, 1, 1, 1,\n",
              "       1, 1, 1, 1, 1, 1, 1, 1, 1, 1, 1, 1, 1, 1, 1, 1, 1, 1, 1, 1, 1, 1,\n",
              "       1, 1, 1, 1, 1, 1, 1, 1, 1, 1, 1, 1, 1, 1, 1, 1, 1, 1, 1, 1, 1, 1,\n",
              "       1, 1, 1, 1, 1, 1, 1, 1, 1, 1, 1, 1, 1, 1, 1, 1, 1, 1, 1, 1, 1, 1,\n",
              "       1, 1, 1, 1, 1, 1, 1, 1, 1, 1, 1, 1, 1, 1, 1, 1, 1, 1, 1, 1, 1, 1,\n",
              "       1, 1, 1, 1, 1, 1, 1, 1, 1, 1, 1, 1, 1, 1, 1, 1, 1, 1, 1, 1, 1, 1,\n",
              "       1, 1, 1, 1, 1, 1, 1, 1, 1, 1, 1, 1, 1, 1, 1, 1, 1, 1, 1, 1, 1, 1,\n",
              "       1, 1, 1, 1, 1, 1, 1, 1, 1, 1, 1, 1, 1, 1, 1, 1, 1, 1, 1, 1, 1, 1,\n",
              "       1, 1, 1, 1, 1, 1, 1, 1, 1, 1, 1, 1, 1, 1, 1, 1])"
            ]
          },
          "metadata": {},
          "execution_count": 40
        }
      ]
    },
    {
      "cell_type": "code",
      "source": [
        "df_dados_balanceados = pd.DataFrame(y_dados_balanceados,columns=['Outcome'])\n",
        "df_dados_balanceados.groupby('Outcome')['Outcome'].count()"
      ],
      "metadata": {
        "colab": {
          "base_uri": "https://localhost:8080/"
        },
        "id": "bS822B6gkd2k",
        "outputId": "c5cc522a-bfb8-4deb-8979-94d266e69aa4"
      },
      "execution_count": null,
      "outputs": [
        {
          "output_type": "execute_result",
          "data": {
            "text/plain": [
              "Outcome\n",
              "0    228\n",
              "1    228\n",
              "Name: Outcome, dtype: int64"
            ]
          },
          "metadata": {},
          "execution_count": 42
        }
      ]
    },
    {
      "cell_type": "markdown",
      "source": [
        "#Criando função para realizar sepaaração entre o conjunto de treinamento e teste\n",
        "Para que o modelo de árvore de decisão tenha êxito, é necessário separarmos nossos dataset em um conjunto de daddos para trainar o modelo e um conjunto de dados para testá-lo:"
      ],
      "metadata": {
        "id": "O1uWWG0kmdE1"
      }
    },
    {
      "cell_type": "code",
      "source": [
        "from sklearn.model_selection import train_test_split"
      ],
      "metadata": {
        "id": "u5KLnqO9k_Z5"
      },
      "execution_count": null,
      "outputs": []
    },
    {
      "cell_type": "code",
      "source": [
        "def separa_treino_testa(X_dados_balanceados, y_dados_balanceados):\n",
        "  X_train, X_test, y_train, y_test = train_test_split(X_dados_balanceados, y_dados_balanceados, random_state=42, test_size=0.2)\n",
        "  return X_train, X_test, y_train, y_test"
      ],
      "metadata": {
        "id": "bnbQH0cim37h"
      },
      "execution_count": null,
      "outputs": []
    },
    {
      "cell_type": "code",
      "source": [
        "#separando conjuntos de treino e teste\n",
        "X_train, X_test, y_train, y_test = separa_treino_testa(X_dados_balanceados, y_dados_balanceados)"
      ],
      "metadata": {
        "id": "lTq0c5dVnzTh"
      },
      "execution_count": null,
      "outputs": []
    },
    {
      "cell_type": "markdown",
      "source": [
        "#Verificando dados em cada variável"
      ],
      "metadata": {
        "id": "he17wLK9oFy9"
      }
    },
    {
      "cell_type": "code",
      "source": [
        "print(f'''vamos treinar o modelo com {len(X_train)} registros de classe X e {len(y_train)} registros de classe y testaremos o modelo com {len(X_test)} registros de classe X e {len(y_test)} registros de classe y\n",
        "''')"
      ],
      "metadata": {
        "colab": {
          "base_uri": "https://localhost:8080/"
        },
        "id": "-oRxOxeCoEcC",
        "outputId": "c6988b73-2723-4b76-dced-c4c8a937aa89"
      },
      "execution_count": null,
      "outputs": [
        {
          "output_type": "stream",
          "name": "stdout",
          "text": [
            "vamos treinar o modelo com 364 registros de classe X e 364 registros de classe y testaremos o modelo com 92 registros de classe X e 92 registros de classe y\n",
            "\n"
          ]
        }
      ]
    },
    {
      "cell_type": "markdown",
      "source": [
        "#Criando Árvore de Decisão"
      ],
      "metadata": {
        "id": "SAQ4fIIopHX1"
      }
    },
    {
      "cell_type": "code",
      "source": [
        "from sklearn import tree"
      ],
      "metadata": {
        "id": "Mo-YDb3fo8Ap"
      },
      "execution_count": null,
      "outputs": []
    },
    {
      "cell_type": "code",
      "source": [
        "algoritmo_arvore = tree.DecisionTreeClassifier()\n",
        "modelo = algoritmo_arvore.fit(X_train, y_train)\n",
        "y_pred = modelo.predict(X_test)"
      ],
      "metadata": {
        "id": "R96d5otLpPFi"
      },
      "execution_count": null,
      "outputs": []
    },
    {
      "cell_type": "markdown",
      "source": [
        "#Verificando a Importância de cada feature no modelo\n",
        "é muito importante visualizar a importancia de cada feature representa no modelo. Para isso, temos a função feature_importances que nos auxilia a ver o resultado desse dado"
      ],
      "metadata": {
        "id": "DRdnmPtEpqWN"
      }
    },
    {
      "cell_type": "code",
      "source": [
        "print(modelo.feature_importances_)"
      ],
      "metadata": {
        "colab": {
          "base_uri": "https://localhost:8080/"
        },
        "id": "9_i7yXhSpioY",
        "outputId": "854c8cd6-3ab4-4674-c0c8-66ea73716246"
      },
      "execution_count": null,
      "outputs": [
        {
          "output_type": "stream",
          "name": "stdout",
          "text": [
            "[0.03682339 0.42021429 0.05014932 0.05414172 0.05105089 0.17107828\n",
            " 0.05038475 0.16615736]\n"
          ]
        }
      ]
    },
    {
      "cell_type": "code",
      "source": [
        "dados_diabetes.columns"
      ],
      "metadata": {
        "colab": {
          "base_uri": "https://localhost:8080/"
        },
        "id": "2BPOd7XPp7_O",
        "outputId": "3118cc7e-4d11-40a3-d258-390d759732b3"
      },
      "execution_count": null,
      "outputs": [
        {
          "output_type": "execute_result",
          "data": {
            "text/plain": [
              "Index(['Pregnancies', 'Glucose', 'BloodPressure', 'SkinThickness', 'Insulin',\n",
              "       'BMI', 'DiabetesPedigreeFunction', 'Age', 'Outcome'],\n",
              "      dtype='object')"
            ]
          },
          "metadata": {},
          "execution_count": 52
        }
      ]
    },
    {
      "cell_type": "code",
      "source": [
        "pd.DataFrame(modelo.feature_importances_, columns =['Importance'],\n",
        "             index = ['Pregnancies', 'Glucose', 'BloodPressure', 'SkinThickness', 'Insulin',\n",
        "       'BMI', 'DiabetesPedigreeFunction', 'Age']).sort_values('Importance', ascending=False)"
      ],
      "metadata": {
        "colab": {
          "base_uri": "https://localhost:8080/",
          "height": 300
        },
        "id": "mr4zLv0CqAiY",
        "outputId": "8fc608e8-4209-46d1-ec8a-3c8694a8f9cb"
      },
      "execution_count": null,
      "outputs": [
        {
          "output_type": "execute_result",
          "data": {
            "text/plain": [
              "                          Importance\n",
              "Glucose                     0.420214\n",
              "BMI                         0.171078\n",
              "Age                         0.166157\n",
              "SkinThickness               0.054142\n",
              "Insulin                     0.051051\n",
              "DiabetesPedigreeFunction    0.050385\n",
              "BloodPressure               0.050149\n",
              "Pregnancies                 0.036823"
            ],
            "text/html": [
              "\n",
              "  <div id=\"df-c528a209-03f6-41e5-953e-f5fdce50b15e\">\n",
              "    <div class=\"colab-df-container\">\n",
              "      <div>\n",
              "<style scoped>\n",
              "    .dataframe tbody tr th:only-of-type {\n",
              "        vertical-align: middle;\n",
              "    }\n",
              "\n",
              "    .dataframe tbody tr th {\n",
              "        vertical-align: top;\n",
              "    }\n",
              "\n",
              "    .dataframe thead th {\n",
              "        text-align: right;\n",
              "    }\n",
              "</style>\n",
              "<table border=\"1\" class=\"dataframe\">\n",
              "  <thead>\n",
              "    <tr style=\"text-align: right;\">\n",
              "      <th></th>\n",
              "      <th>Importance</th>\n",
              "    </tr>\n",
              "  </thead>\n",
              "  <tbody>\n",
              "    <tr>\n",
              "      <th>Glucose</th>\n",
              "      <td>0.420214</td>\n",
              "    </tr>\n",
              "    <tr>\n",
              "      <th>BMI</th>\n",
              "      <td>0.171078</td>\n",
              "    </tr>\n",
              "    <tr>\n",
              "      <th>Age</th>\n",
              "      <td>0.166157</td>\n",
              "    </tr>\n",
              "    <tr>\n",
              "      <th>SkinThickness</th>\n",
              "      <td>0.054142</td>\n",
              "    </tr>\n",
              "    <tr>\n",
              "      <th>Insulin</th>\n",
              "      <td>0.051051</td>\n",
              "    </tr>\n",
              "    <tr>\n",
              "      <th>DiabetesPedigreeFunction</th>\n",
              "      <td>0.050385</td>\n",
              "    </tr>\n",
              "    <tr>\n",
              "      <th>BloodPressure</th>\n",
              "      <td>0.050149</td>\n",
              "    </tr>\n",
              "    <tr>\n",
              "      <th>Pregnancies</th>\n",
              "      <td>0.036823</td>\n",
              "    </tr>\n",
              "  </tbody>\n",
              "</table>\n",
              "</div>\n",
              "      <button class=\"colab-df-convert\" onclick=\"convertToInteractive('df-c528a209-03f6-41e5-953e-f5fdce50b15e')\"\n",
              "              title=\"Convert this dataframe to an interactive table.\"\n",
              "              style=\"display:none;\">\n",
              "        \n",
              "  <svg xmlns=\"http://www.w3.org/2000/svg\" height=\"24px\"viewBox=\"0 0 24 24\"\n",
              "       width=\"24px\">\n",
              "    <path d=\"M0 0h24v24H0V0z\" fill=\"none\"/>\n",
              "    <path d=\"M18.56 5.44l.94 2.06.94-2.06 2.06-.94-2.06-.94-.94-2.06-.94 2.06-2.06.94zm-11 1L8.5 8.5l.94-2.06 2.06-.94-2.06-.94L8.5 2.5l-.94 2.06-2.06.94zm10 10l.94 2.06.94-2.06 2.06-.94-2.06-.94-.94-2.06-.94 2.06-2.06.94z\"/><path d=\"M17.41 7.96l-1.37-1.37c-.4-.4-.92-.59-1.43-.59-.52 0-1.04.2-1.43.59L10.3 9.45l-7.72 7.72c-.78.78-.78 2.05 0 2.83L4 21.41c.39.39.9.59 1.41.59.51 0 1.02-.2 1.41-.59l7.78-7.78 2.81-2.81c.8-.78.8-2.07 0-2.86zM5.41 20L4 18.59l7.72-7.72 1.47 1.35L5.41 20z\"/>\n",
              "  </svg>\n",
              "      </button>\n",
              "      \n",
              "  <style>\n",
              "    .colab-df-container {\n",
              "      display:flex;\n",
              "      flex-wrap:wrap;\n",
              "      gap: 12px;\n",
              "    }\n",
              "\n",
              "    .colab-df-convert {\n",
              "      background-color: #E8F0FE;\n",
              "      border: none;\n",
              "      border-radius: 50%;\n",
              "      cursor: pointer;\n",
              "      display: none;\n",
              "      fill: #1967D2;\n",
              "      height: 32px;\n",
              "      padding: 0 0 0 0;\n",
              "      width: 32px;\n",
              "    }\n",
              "\n",
              "    .colab-df-convert:hover {\n",
              "      background-color: #E2EBFA;\n",
              "      box-shadow: 0px 1px 2px rgba(60, 64, 67, 0.3), 0px 1px 3px 1px rgba(60, 64, 67, 0.15);\n",
              "      fill: #174EA6;\n",
              "    }\n",
              "\n",
              "    [theme=dark] .colab-df-convert {\n",
              "      background-color: #3B4455;\n",
              "      fill: #D2E3FC;\n",
              "    }\n",
              "\n",
              "    [theme=dark] .colab-df-convert:hover {\n",
              "      background-color: #434B5C;\n",
              "      box-shadow: 0px 1px 3px 1px rgba(0, 0, 0, 0.15);\n",
              "      filter: drop-shadow(0px 1px 2px rgba(0, 0, 0, 0.3));\n",
              "      fill: #FFFFFF;\n",
              "    }\n",
              "  </style>\n",
              "\n",
              "      <script>\n",
              "        const buttonEl =\n",
              "          document.querySelector('#df-c528a209-03f6-41e5-953e-f5fdce50b15e button.colab-df-convert');\n",
              "        buttonEl.style.display =\n",
              "          google.colab.kernel.accessAllowed ? 'block' : 'none';\n",
              "\n",
              "        async function convertToInteractive(key) {\n",
              "          const element = document.querySelector('#df-c528a209-03f6-41e5-953e-f5fdce50b15e');\n",
              "          const dataTable =\n",
              "            await google.colab.kernel.invokeFunction('convertToInteractive',\n",
              "                                                     [key], {});\n",
              "          if (!dataTable) return;\n",
              "\n",
              "          const docLinkHtml = 'Like what you see? Visit the ' +\n",
              "            '<a target=\"_blank\" href=https://colab.research.google.com/notebooks/data_table.ipynb>data table notebook</a>'\n",
              "            + ' to learn more about interactive tables.';\n",
              "          element.innerHTML = '';\n",
              "          dataTable['output_type'] = 'display_data';\n",
              "          await google.colab.output.renderOutput(dataTable, element);\n",
              "          const docLink = document.createElement('div');\n",
              "          docLink.innerHTML = docLinkHtml;\n",
              "          element.appendChild(docLink);\n",
              "        }\n",
              "      </script>\n",
              "    </div>\n",
              "  </div>\n",
              "  "
            ]
          },
          "metadata": {},
          "execution_count": 54
        }
      ]
    },
    {
      "cell_type": "markdown",
      "source": [
        "Aqui a glicose tem maior importância."
      ],
      "metadata": {
        "id": "8rIs9k0lrLIo"
      }
    },
    {
      "cell_type": "markdown",
      "source": [
        "#Verificando e analisando as classes do  modelo\n",
        "Nessa etapa, vamos analisar e criar rótulos que serão utilizados no nosso modelo visual da árvore de decisão."
      ],
      "metadata": {
        "id": "VmqRl3pMrQrH"
      }
    },
    {
      "cell_type": "code",
      "source": [
        "modelo.classes_"
      ],
      "metadata": {
        "colab": {
          "base_uri": "https://localhost:8080/"
        },
        "id": "013uDT5iq42K",
        "outputId": "a85fbf8a-7997-4903-f507-bfa9e8057d15"
      },
      "execution_count": null,
      "outputs": [
        {
          "output_type": "execute_result",
          "data": {
            "text/plain": [
              "array([0, 1])"
            ]
          },
          "metadata": {},
          "execution_count": 55
        }
      ]
    },
    {
      "cell_type": "markdown",
      "source": [
        "#Criando Lista com os nomes das features e dos rótulos"
      ],
      "metadata": {
        "id": "Gy3PyfdBrngF"
      }
    },
    {
      "cell_type": "code",
      "source": [
        "nomes_features = ['Pregnancies', 'Glucose', 'BloodPressure', 'SkinThickness', 'Insulin',\n",
        "       'BMI', 'DiabetesPedigreeFunction', 'Age']\n",
        "nomes_classes = ['NÃO DIABETICO', 'DIABÉTICO']"
      ],
      "metadata": {
        "id": "K4sCNYrQrnO-"
      },
      "execution_count": null,
      "outputs": []
    },
    {
      "cell_type": "markdown",
      "source": [
        "#Instalando biblioteca para visualização da árvore de decisão\n",
        "Graphviz é um software de visualização de gráficos de código aberto. A visualização de gráficos é uma forma de representar informações estruturais como diagramas de gráficos abstratos e redes."
      ],
      "metadata": {
        "id": "KvaO4IBnsG9D"
      }
    },
    {
      "cell_type": "code",
      "source": [
        "!pip install graphviz"
      ],
      "metadata": {
        "colab": {
          "base_uri": "https://localhost:8080/"
        },
        "id": "8hUoTTpori8Y",
        "outputId": "978bfd08-7011-40af-953e-5e1f71136081"
      },
      "execution_count": null,
      "outputs": [
        {
          "output_type": "stream",
          "name": "stdout",
          "text": [
            "Looking in indexes: https://pypi.org/simple, https://us-python.pkg.dev/colab-wheels/public/simple/\n",
            "Requirement already satisfied: graphviz in /usr/local/lib/python3.7/dist-packages (0.10.1)\n"
          ]
        }
      ]
    },
    {
      "cell_type": "markdown",
      "source": [
        "#Observação importante!\n",
        "Em alguns casos ao executar a visualização utilizando a biblioteca graphviz faz necessário realizar a instalação da ferramenta na máquina e atualizar o diretório no path do windows. "
      ],
      "metadata": {
        "id": "vL6SGxURspkT"
      }
    },
    {
      "cell_type": "markdown",
      "source": [
        "#Criando função para visualização da árvore gerada"
      ],
      "metadata": {
        "id": "xex0jSQatB0v"
      }
    },
    {
      "cell_type": "code",
      "source": [
        "import graphviz"
      ],
      "metadata": {
        "id": "W92_a55sslr9"
      },
      "execution_count": null,
      "outputs": []
    },
    {
      "cell_type": "code",
      "source": [
        "def visualiza_arvore(modelo):\n",
        "    arvore = tree.export_graphviz(modelo,\n",
        "                     feature_names=nomes_features,\n",
        "                     class_names=nomes_classes,\n",
        "                     rounded=True,\n",
        "                     special_characters=True, filled=True)\n",
        "    graph = graphviz.Source(arvore)\n",
        "    return graph"
      ],
      "metadata": {
        "id": "fBr6-w3itkfO"
      },
      "execution_count": null,
      "outputs": []
    },
    {
      "cell_type": "code",
      "source": [
        "visualiza_arvore(modelo)"
      ],
      "metadata": {
        "colab": {
          "base_uri": "https://localhost:8080/",
          "height": 1000
        },
        "id": "nM5GQpFxt9bB",
        "outputId": "2a2e2f5e-8667-4334-b022-0fe929d11a32"
      },
      "execution_count": null,
      "outputs": [
        {
          "output_type": "execute_result",
          "data": {
            "text/plain": [
              "<graphviz.files.Source at 0x7fe39fd00950>"
            ],
            "image/svg+xml": "<?xml version=\"1.0\" encoding=\"UTF-8\" standalone=\"no\"?>\n<!DOCTYPE svg PUBLIC \"-//W3C//DTD SVG 1.1//EN\"\n \"http://www.w3.org/Graphics/SVG/1.1/DTD/svg11.dtd\">\n<!-- Generated by graphviz version 2.40.1 (20161225.0304)\n -->\n<!-- Title: Tree Pages: 1 -->\n<svg width=\"4092pt\" height=\"1504pt\"\n viewBox=\"0.00 0.00 4091.50 1504.00\" xmlns=\"http://www.w3.org/2000/svg\" xmlns:xlink=\"http://www.w3.org/1999/xlink\">\n<g id=\"graph0\" class=\"graph\" transform=\"scale(1 1) rotate(0) translate(4 1500)\">\n<title>Tree</title>\n<polygon fill=\"#ffffff\" stroke=\"transparent\" points=\"-4,4 -4,-1500 4087.5,-1500 4087.5,4 -4,4\"/>\n<!-- 0 -->\n<g id=\"node1\" class=\"node\">\n<title>0</title>\n<path fill=\"#f9fcfe\" stroke=\"#000000\" d=\"M2292.5,-1496C2292.5,-1496 2172.5,-1496 2172.5,-1496 2166.5,-1496 2160.5,-1490 2160.5,-1484 2160.5,-1484 2160.5,-1425 2160.5,-1425 2160.5,-1419 2166.5,-1413 2172.5,-1413 2172.5,-1413 2292.5,-1413 2292.5,-1413 2298.5,-1413 2304.5,-1419 2304.5,-1425 2304.5,-1425 2304.5,-1484 2304.5,-1484 2304.5,-1490 2298.5,-1496 2292.5,-1496\"/>\n<text text-anchor=\"start\" x=\"2179.5\" y=\"-1480.8\" font-family=\"Helvetica,sans-Serif\" font-size=\"14.00\" fill=\"#000000\">Glucose ≤ 127.5</text>\n<text text-anchor=\"start\" x=\"2203\" y=\"-1465.8\" font-family=\"Helvetica,sans-Serif\" font-size=\"14.00\" fill=\"#000000\">gini = 0.5</text>\n<text text-anchor=\"start\" x=\"2184.5\" y=\"-1450.8\" font-family=\"Helvetica,sans-Serif\" font-size=\"14.00\" fill=\"#000000\">samples = 364</text>\n<text text-anchor=\"start\" x=\"2174.5\" y=\"-1435.8\" font-family=\"Helvetica,sans-Serif\" font-size=\"14.00\" fill=\"#000000\">value = [179, 185]</text>\n<text text-anchor=\"start\" x=\"2168.5\" y=\"-1420.8\" font-family=\"Helvetica,sans-Serif\" font-size=\"14.00\" fill=\"#000000\">class = DIABÉTICO</text>\n</g>\n<!-- 1 -->\n<g id=\"node2\" class=\"node\">\n<title>1</title>\n<path fill=\"#efb286\" stroke=\"#000000\" d=\"M1656,-1377C1656,-1377 1501,-1377 1501,-1377 1495,-1377 1489,-1371 1489,-1365 1489,-1365 1489,-1306 1489,-1306 1489,-1300 1495,-1294 1501,-1294 1501,-1294 1656,-1294 1656,-1294 1662,-1294 1668,-1300 1668,-1306 1668,-1306 1668,-1365 1668,-1365 1668,-1371 1662,-1377 1656,-1377\"/>\n<text text-anchor=\"start\" x=\"1543.5\" y=\"-1361.8\" font-family=\"Helvetica,sans-Serif\" font-size=\"14.00\" fill=\"#000000\">Age ≤ 28.5</text>\n<text text-anchor=\"start\" x=\"1540.5\" y=\"-1346.8\" font-family=\"Helvetica,sans-Serif\" font-size=\"14.00\" fill=\"#000000\">gini = 0.404</text>\n<text text-anchor=\"start\" x=\"1530.5\" y=\"-1331.8\" font-family=\"Helvetica,sans-Serif\" font-size=\"14.00\" fill=\"#000000\">samples = 217</text>\n<text text-anchor=\"start\" x=\"1524.5\" y=\"-1316.8\" font-family=\"Helvetica,sans-Serif\" font-size=\"14.00\" fill=\"#000000\">value = [156, 61]</text>\n<text text-anchor=\"start\" x=\"1497\" y=\"-1301.8\" font-family=\"Helvetica,sans-Serif\" font-size=\"14.00\" fill=\"#000000\">class = NÃO DIABETICO</text>\n</g>\n<!-- 0&#45;&gt;1 -->\n<g id=\"edge1\" class=\"edge\">\n<title>0&#45;&gt;1</title>\n<path fill=\"none\" stroke=\"#000000\" d=\"M2160.326,-1441.3674C2043.1243,-1420.0417 1811.1765,-1377.8372 1678.2719,-1353.6542\"/>\n<polygon fill=\"#000000\" stroke=\"#000000\" points=\"1678.555,-1350.1483 1668.09,-1351.8015 1677.3019,-1357.0353 1678.555,-1350.1483\"/>\n<text text-anchor=\"middle\" x=\"1682.3175\" y=\"-1368.6583\" font-family=\"Helvetica,sans-Serif\" font-size=\"14.00\" fill=\"#000000\">True</text>\n</g>\n<!-- 76 -->\n<g id=\"node77\" class=\"node\">\n<title>76</title>\n<path fill=\"#5eafea\" stroke=\"#000000\" d=\"M2973.5,-1377C2973.5,-1377 2853.5,-1377 2853.5,-1377 2847.5,-1377 2841.5,-1371 2841.5,-1365 2841.5,-1365 2841.5,-1306 2841.5,-1306 2841.5,-1300 2847.5,-1294 2853.5,-1294 2853.5,-1294 2973.5,-1294 2973.5,-1294 2979.5,-1294 2985.5,-1300 2985.5,-1306 2985.5,-1306 2985.5,-1365 2985.5,-1365 2985.5,-1371 2979.5,-1377 2973.5,-1377\"/>\n<text text-anchor=\"start\" x=\"2874.5\" y=\"-1361.8\" font-family=\"Helvetica,sans-Serif\" font-size=\"14.00\" fill=\"#000000\">BMI ≤ 29.85</text>\n<text text-anchor=\"start\" x=\"2875.5\" y=\"-1346.8\" font-family=\"Helvetica,sans-Serif\" font-size=\"14.00\" fill=\"#000000\">gini = 0.264</text>\n<text text-anchor=\"start\" x=\"2865.5\" y=\"-1331.8\" font-family=\"Helvetica,sans-Serif\" font-size=\"14.00\" fill=\"#000000\">samples = 147</text>\n<text text-anchor=\"start\" x=\"2859.5\" y=\"-1316.8\" font-family=\"Helvetica,sans-Serif\" font-size=\"14.00\" fill=\"#000000\">value = [23, 124]</text>\n<text text-anchor=\"start\" x=\"2849.5\" y=\"-1301.8\" font-family=\"Helvetica,sans-Serif\" font-size=\"14.00\" fill=\"#000000\">class = DIABÉTICO</text>\n</g>\n<!-- 0&#45;&gt;76 -->\n<g id=\"edge76\" class=\"edge\">\n<title>0&#45;&gt;76</title>\n<path fill=\"none\" stroke=\"#000000\" d=\"M2304.7342,-1441.8776C2432.3439,-1419.5787 2696.8542,-1373.3573 2831.26,-1349.8709\"/>\n<polygon fill=\"#000000\" stroke=\"#000000\" points=\"2832.2468,-1353.2515 2841.495,-1348.0824 2831.0418,-1346.356 2832.2468,-1353.2515\"/>\n<text text-anchor=\"middle\" x=\"2827.1242\" y=\"-1364.8391\" font-family=\"Helvetica,sans-Serif\" font-size=\"14.00\" fill=\"#000000\">False</text>\n</g>\n<!-- 2 -->\n<g id=\"node3\" class=\"node\">\n<title>2</title>\n<path fill=\"#e88f50\" stroke=\"#000000\" d=\"M1110,-1258C1110,-1258 955,-1258 955,-1258 949,-1258 943,-1252 943,-1246 943,-1246 943,-1187 943,-1187 943,-1181 949,-1175 955,-1175 955,-1175 1110,-1175 1110,-1175 1116,-1175 1122,-1181 1122,-1187 1122,-1187 1122,-1246 1122,-1246 1122,-1252 1116,-1258 1110,-1258\"/>\n<text text-anchor=\"start\" x=\"997.5\" y=\"-1242.8\" font-family=\"Helvetica,sans-Serif\" font-size=\"14.00\" fill=\"#000000\">BMI ≤ 42.8</text>\n<text text-anchor=\"start\" x=\"994.5\" y=\"-1227.8\" font-family=\"Helvetica,sans-Serif\" font-size=\"14.00\" fill=\"#000000\">gini = 0.184</text>\n<text text-anchor=\"start\" x=\"984.5\" y=\"-1212.8\" font-family=\"Helvetica,sans-Serif\" font-size=\"14.00\" fill=\"#000000\">samples = 107</text>\n<text text-anchor=\"start\" x=\"982.5\" y=\"-1197.8\" font-family=\"Helvetica,sans-Serif\" font-size=\"14.00\" fill=\"#000000\">value = [96, 11]</text>\n<text text-anchor=\"start\" x=\"951\" y=\"-1182.8\" font-family=\"Helvetica,sans-Serif\" font-size=\"14.00\" fill=\"#000000\">class = NÃO DIABETICO</text>\n</g>\n<!-- 1&#45;&gt;2 -->\n<g id=\"edge2\" class=\"edge\">\n<title>1&#45;&gt;2</title>\n<path fill=\"none\" stroke=\"#000000\" d=\"M1488.9506,-1315.9828C1390.867,-1294.6056 1233.9819,-1260.4127 1132.0901,-1238.2055\"/>\n<polygon fill=\"#000000\" stroke=\"#000000\" points=\"1132.6143,-1234.7377 1122.0983,-1236.0278 1131.1236,-1241.5771 1132.6143,-1234.7377\"/>\n</g>\n<!-- 27 -->\n<g id=\"node28\" class=\"node\">\n<title>27</title>\n<path fill=\"#fbeade\" stroke=\"#000000\" d=\"M1656,-1258C1656,-1258 1501,-1258 1501,-1258 1495,-1258 1489,-1252 1489,-1246 1489,-1246 1489,-1187 1489,-1187 1489,-1181 1495,-1175 1501,-1175 1501,-1175 1656,-1175 1656,-1175 1662,-1175 1668,-1181 1668,-1187 1668,-1187 1668,-1246 1668,-1246 1668,-1252 1662,-1258 1656,-1258\"/>\n<text text-anchor=\"start\" x=\"1543.5\" y=\"-1242.8\" font-family=\"Helvetica,sans-Serif\" font-size=\"14.00\" fill=\"#000000\">BMI ≤ 26.8</text>\n<text text-anchor=\"start\" x=\"1540.5\" y=\"-1227.8\" font-family=\"Helvetica,sans-Serif\" font-size=\"14.00\" fill=\"#000000\">gini = 0.496</text>\n<text text-anchor=\"start\" x=\"1530.5\" y=\"-1212.8\" font-family=\"Helvetica,sans-Serif\" font-size=\"14.00\" fill=\"#000000\">samples = 110</text>\n<text text-anchor=\"start\" x=\"1528.5\" y=\"-1197.8\" font-family=\"Helvetica,sans-Serif\" font-size=\"14.00\" fill=\"#000000\">value = [60, 50]</text>\n<text text-anchor=\"start\" x=\"1497\" y=\"-1182.8\" font-family=\"Helvetica,sans-Serif\" font-size=\"14.00\" fill=\"#000000\">class = NÃO DIABETICO</text>\n</g>\n<!-- 1&#45;&gt;27 -->\n<g id=\"edge27\" class=\"edge\">\n<title>1&#45;&gt;27</title>\n<path fill=\"none\" stroke=\"#000000\" d=\"M1578.5,-1293.8796C1578.5,-1285.6838 1578.5,-1276.9891 1578.5,-1268.5013\"/>\n<polygon fill=\"#000000\" stroke=\"#000000\" points=\"1582.0001,-1268.298 1578.5,-1258.2981 1575.0001,-1268.2981 1582.0001,-1268.298\"/>\n</g>\n<!-- 3 -->\n<g id=\"node4\" class=\"node\">\n<title>3</title>\n<path fill=\"#e78c4a\" stroke=\"#000000\" d=\"M816,-1139C816,-1139 599,-1139 599,-1139 593,-1139 587,-1133 587,-1127 587,-1127 587,-1068 587,-1068 587,-1062 593,-1056 599,-1056 599,-1056 816,-1056 816,-1056 822,-1056 828,-1062 828,-1068 828,-1068 828,-1127 828,-1127 828,-1133 822,-1139 816,-1139\"/>\n<text text-anchor=\"start\" x=\"595\" y=\"-1123.8\" font-family=\"Helvetica,sans-Serif\" font-size=\"14.00\" fill=\"#000000\">DiabetesPedigreeFunction ≤ 0.666</text>\n<text text-anchor=\"start\" x=\"669.5\" y=\"-1108.8\" font-family=\"Helvetica,sans-Serif\" font-size=\"14.00\" fill=\"#000000\">gini = 0.143</text>\n<text text-anchor=\"start\" x=\"659.5\" y=\"-1093.8\" font-family=\"Helvetica,sans-Serif\" font-size=\"14.00\" fill=\"#000000\">samples = 103</text>\n<text text-anchor=\"start\" x=\"662\" y=\"-1078.8\" font-family=\"Helvetica,sans-Serif\" font-size=\"14.00\" fill=\"#000000\">value = [95, 8]</text>\n<text text-anchor=\"start\" x=\"626\" y=\"-1063.8\" font-family=\"Helvetica,sans-Serif\" font-size=\"14.00\" fill=\"#000000\">class = NÃO DIABETICO</text>\n</g>\n<!-- 2&#45;&gt;3 -->\n<g id=\"edge3\" class=\"edge\">\n<title>2&#45;&gt;3</title>\n<path fill=\"none\" stroke=\"#000000\" d=\"M942.832,-1183.6677C908.1038,-1170.9518 867.7798,-1156.1871 830.4264,-1142.51\"/>\n<polygon fill=\"#000000\" stroke=\"#000000\" points=\"831.5927,-1139.2098 820.999,-1139.0581 829.1859,-1145.7831 831.5927,-1139.2098\"/>\n</g>\n<!-- 24 -->\n<g id=\"node25\" class=\"node\">\n<title>24</title>\n<path fill=\"#7bbeee\" stroke=\"#000000\" d=\"M1141,-1139C1141,-1139 924,-1139 924,-1139 918,-1139 912,-1133 912,-1127 912,-1127 912,-1068 912,-1068 912,-1062 918,-1056 924,-1056 924,-1056 1141,-1056 1141,-1056 1147,-1056 1153,-1062 1153,-1068 1153,-1068 1153,-1127 1153,-1127 1153,-1133 1147,-1139 1141,-1139\"/>\n<text text-anchor=\"start\" x=\"920\" y=\"-1123.8\" font-family=\"Helvetica,sans-Serif\" font-size=\"14.00\" fill=\"#000000\">DiabetesPedigreeFunction ≤ 0.787</text>\n<text text-anchor=\"start\" x=\"994.5\" y=\"-1108.8\" font-family=\"Helvetica,sans-Serif\" font-size=\"14.00\" fill=\"#000000\">gini = 0.375</text>\n<text text-anchor=\"start\" x=\"993\" y=\"-1093.8\" font-family=\"Helvetica,sans-Serif\" font-size=\"14.00\" fill=\"#000000\">samples = 4</text>\n<text text-anchor=\"start\" x=\"991\" y=\"-1078.8\" font-family=\"Helvetica,sans-Serif\" font-size=\"14.00\" fill=\"#000000\">value = [1, 3]</text>\n<text text-anchor=\"start\" x=\"968.5\" y=\"-1063.8\" font-family=\"Helvetica,sans-Serif\" font-size=\"14.00\" fill=\"#000000\">class = DIABÉTICO</text>\n</g>\n<!-- 2&#45;&gt;24 -->\n<g id=\"edge24\" class=\"edge\">\n<title>2&#45;&gt;24</title>\n<path fill=\"none\" stroke=\"#000000\" d=\"M1032.5,-1174.8796C1032.5,-1166.6838 1032.5,-1157.9891 1032.5,-1149.5013\"/>\n<polygon fill=\"#000000\" stroke=\"#000000\" points=\"1036.0001,-1149.298 1032.5,-1139.2981 1029.0001,-1149.2981 1036.0001,-1149.298\"/>\n</g>\n<!-- 4 -->\n<g id=\"node5\" class=\"node\">\n<title>4</title>\n<path fill=\"#e68742\" stroke=\"#000000\" d=\"M557,-1020C557,-1020 402,-1020 402,-1020 396,-1020 390,-1014 390,-1008 390,-1008 390,-949 390,-949 390,-943 396,-937 402,-937 402,-937 557,-937 557,-937 563,-937 569,-943 569,-949 569,-949 569,-1008 569,-1008 569,-1014 563,-1020 557,-1020\"/>\n<text text-anchor=\"start\" x=\"426.5\" y=\"-1004.8\" font-family=\"Helvetica,sans-Serif\" font-size=\"14.00\" fill=\"#000000\">Glucose ≤ 112.5</text>\n<text text-anchor=\"start\" x=\"441.5\" y=\"-989.8\" font-family=\"Helvetica,sans-Serif\" font-size=\"14.00\" fill=\"#000000\">gini = 0.086</text>\n<text text-anchor=\"start\" x=\"435.5\" y=\"-974.8\" font-family=\"Helvetica,sans-Serif\" font-size=\"14.00\" fill=\"#000000\">samples = 89</text>\n<text text-anchor=\"start\" x=\"434\" y=\"-959.8\" font-family=\"Helvetica,sans-Serif\" font-size=\"14.00\" fill=\"#000000\">value = [85, 4]</text>\n<text text-anchor=\"start\" x=\"398\" y=\"-944.8\" font-family=\"Helvetica,sans-Serif\" font-size=\"14.00\" fill=\"#000000\">class = NÃO DIABETICO</text>\n</g>\n<!-- 3&#45;&gt;4 -->\n<g id=\"edge4\" class=\"edge\">\n<title>3&#45;&gt;4</title>\n<path fill=\"none\" stroke=\"#000000\" d=\"M627.7567,-1055.8796C608.4914,-1045.8244 587.7871,-1035.0183 568.1413,-1024.7645\"/>\n<polygon fill=\"#000000\" stroke=\"#000000\" points=\"569.6829,-1021.6212 559.1983,-1020.0969 566.444,-1027.8268 569.6829,-1021.6212\"/>\n</g>\n<!-- 15 -->\n<g id=\"node16\" class=\"node\">\n<title>15</title>\n<path fill=\"#efb388\" stroke=\"#000000\" d=\"M816,-1020C816,-1020 599,-1020 599,-1020 593,-1020 587,-1014 587,-1008 587,-1008 587,-949 587,-949 587,-943 593,-937 599,-937 599,-937 816,-937 816,-937 822,-937 828,-943 828,-949 828,-949 828,-1008 828,-1008 828,-1014 822,-1020 816,-1020\"/>\n<text text-anchor=\"start\" x=\"595\" y=\"-1004.8\" font-family=\"Helvetica,sans-Serif\" font-size=\"14.00\" fill=\"#000000\">DiabetesPedigreeFunction ≤ 0.691</text>\n<text text-anchor=\"start\" x=\"669.5\" y=\"-989.8\" font-family=\"Helvetica,sans-Serif\" font-size=\"14.00\" fill=\"#000000\">gini = 0.408</text>\n<text text-anchor=\"start\" x=\"663.5\" y=\"-974.8\" font-family=\"Helvetica,sans-Serif\" font-size=\"14.00\" fill=\"#000000\">samples = 14</text>\n<text text-anchor=\"start\" x=\"662\" y=\"-959.8\" font-family=\"Helvetica,sans-Serif\" font-size=\"14.00\" fill=\"#000000\">value = [10, 4]</text>\n<text text-anchor=\"start\" x=\"626\" y=\"-944.8\" font-family=\"Helvetica,sans-Serif\" font-size=\"14.00\" fill=\"#000000\">class = NÃO DIABETICO</text>\n</g>\n<!-- 3&#45;&gt;15 -->\n<g id=\"edge15\" class=\"edge\">\n<title>3&#45;&gt;15</title>\n<path fill=\"none\" stroke=\"#000000\" d=\"M707.5,-1055.8796C707.5,-1047.6838 707.5,-1038.9891 707.5,-1030.5013\"/>\n<polygon fill=\"#000000\" stroke=\"#000000\" points=\"711.0001,-1030.298 707.5,-1020.2981 704.0001,-1030.2981 711.0001,-1030.298\"/>\n</g>\n<!-- 5 -->\n<g id=\"node6\" class=\"node\">\n<title>5</title>\n<path fill=\"#e5833c\" stroke=\"#000000\" d=\"M364,-901C364,-901 209,-901 209,-901 203,-901 197,-895 197,-889 197,-889 197,-830 197,-830 197,-824 203,-818 209,-818 209,-818 364,-818 364,-818 370,-818 376,-824 376,-830 376,-830 376,-889 376,-889 376,-895 370,-901 364,-901\"/>\n<text text-anchor=\"start\" x=\"217\" y=\"-885.8\" font-family=\"Helvetica,sans-Serif\" font-size=\"14.00\" fill=\"#000000\">SkinThickness ≤ 41.0</text>\n<text text-anchor=\"start\" x=\"248.5\" y=\"-870.8\" font-family=\"Helvetica,sans-Serif\" font-size=\"14.00\" fill=\"#000000\">gini = 0.028</text>\n<text text-anchor=\"start\" x=\"242.5\" y=\"-855.8\" font-family=\"Helvetica,sans-Serif\" font-size=\"14.00\" fill=\"#000000\">samples = 70</text>\n<text text-anchor=\"start\" x=\"241\" y=\"-840.8\" font-family=\"Helvetica,sans-Serif\" font-size=\"14.00\" fill=\"#000000\">value = [69, 1]</text>\n<text text-anchor=\"start\" x=\"205\" y=\"-825.8\" font-family=\"Helvetica,sans-Serif\" font-size=\"14.00\" fill=\"#000000\">class = NÃO DIABETICO</text>\n</g>\n<!-- 4&#45;&gt;5 -->\n<g id=\"edge5\" class=\"edge\">\n<title>4&#45;&gt;5</title>\n<path fill=\"none\" stroke=\"#000000\" d=\"M411.998,-936.8796C396.1308,-927.0962 379.1106,-916.6019 362.8844,-906.5971\"/>\n<polygon fill=\"#000000\" stroke=\"#000000\" points=\"364.3129,-903.3661 353.9639,-901.0969 360.639,-909.3245 364.3129,-903.3661\"/>\n</g>\n<!-- 10 -->\n<g id=\"node11\" class=\"node\">\n<title>10</title>\n<path fill=\"#ea995e\" stroke=\"#000000\" d=\"M561,-901C561,-901 406,-901 406,-901 400,-901 394,-895 394,-889 394,-889 394,-830 394,-830 394,-824 400,-818 406,-818 406,-818 561,-818 561,-818 567,-818 573,-824 573,-830 573,-830 573,-889 573,-889 573,-895 567,-901 561,-901\"/>\n<text text-anchor=\"start\" x=\"418\" y=\"-885.8\" font-family=\"Helvetica,sans-Serif\" font-size=\"14.00\" fill=\"#000000\">SkinThickness ≤ 5.0</text>\n<text text-anchor=\"start\" x=\"445.5\" y=\"-870.8\" font-family=\"Helvetica,sans-Serif\" font-size=\"14.00\" fill=\"#000000\">gini = 0.266</text>\n<text text-anchor=\"start\" x=\"439.5\" y=\"-855.8\" font-family=\"Helvetica,sans-Serif\" font-size=\"14.00\" fill=\"#000000\">samples = 19</text>\n<text text-anchor=\"start\" x=\"438\" y=\"-840.8\" font-family=\"Helvetica,sans-Serif\" font-size=\"14.00\" fill=\"#000000\">value = [16, 3]</text>\n<text text-anchor=\"start\" x=\"402\" y=\"-825.8\" font-family=\"Helvetica,sans-Serif\" font-size=\"14.00\" fill=\"#000000\">class = NÃO DIABETICO</text>\n</g>\n<!-- 4&#45;&gt;10 -->\n<g id=\"edge10\" class=\"edge\">\n<title>4&#45;&gt;10</title>\n<path fill=\"none\" stroke=\"#000000\" d=\"M480.899,-936.8796C481.1745,-928.6838 481.4668,-919.9891 481.7521,-911.5013\"/>\n<polygon fill=\"#000000\" stroke=\"#000000\" points=\"485.257,-911.41 482.095,-901.2981 478.261,-911.1748 485.257,-911.41\"/>\n</g>\n<!-- 6 -->\n<g id=\"node7\" class=\"node\">\n<title>6</title>\n<path fill=\"#e58139\" stroke=\"#000000\" d=\"M167,-774.5C167,-774.5 12,-774.5 12,-774.5 6,-774.5 0,-768.5 0,-762.5 0,-762.5 0,-718.5 0,-718.5 0,-712.5 6,-706.5 12,-706.5 12,-706.5 167,-706.5 167,-706.5 173,-706.5 179,-712.5 179,-718.5 179,-718.5 179,-762.5 179,-762.5 179,-768.5 173,-774.5 167,-774.5\"/>\n<text text-anchor=\"start\" x=\"60\" y=\"-759.3\" font-family=\"Helvetica,sans-Serif\" font-size=\"14.00\" fill=\"#000000\">gini = 0.0</text>\n<text text-anchor=\"start\" x=\"45.5\" y=\"-744.3\" font-family=\"Helvetica,sans-Serif\" font-size=\"14.00\" fill=\"#000000\">samples = 67</text>\n<text text-anchor=\"start\" x=\"44\" y=\"-729.3\" font-family=\"Helvetica,sans-Serif\" font-size=\"14.00\" fill=\"#000000\">value = [67, 0]</text>\n<text text-anchor=\"start\" x=\"8\" y=\"-714.3\" font-family=\"Helvetica,sans-Serif\" font-size=\"14.00\" fill=\"#000000\">class = NÃO DIABETICO</text>\n</g>\n<!-- 5&#45;&gt;6 -->\n<g id=\"edge6\" class=\"edge\">\n<title>5&#45;&gt;6</title>\n<path fill=\"none\" stroke=\"#000000\" d=\"M217.599,-817.8796C197.2053,-805.5606 174.9455,-792.1143 154.7875,-779.9376\"/>\n<polygon fill=\"#000000\" stroke=\"#000000\" points=\"156.3587,-776.7977 145.9894,-774.623 152.7393,-782.7894 156.3587,-776.7977\"/>\n</g>\n<!-- 7 -->\n<g id=\"node8\" class=\"node\">\n<title>7</title>\n<path fill=\"#f2c09c\" stroke=\"#000000\" d=\"M364,-782C364,-782 209,-782 209,-782 203,-782 197,-776 197,-770 197,-770 197,-711 197,-711 197,-705 203,-699 209,-699 209,-699 364,-699 364,-699 370,-699 376,-705 376,-711 376,-711 376,-770 376,-770 376,-776 370,-782 364,-782\"/>\n<text text-anchor=\"start\" x=\"237.5\" y=\"-766.8\" font-family=\"Helvetica,sans-Serif\" font-size=\"14.00\" fill=\"#000000\">Glucose ≤ 99.0</text>\n<text text-anchor=\"start\" x=\"248.5\" y=\"-751.8\" font-family=\"Helvetica,sans-Serif\" font-size=\"14.00\" fill=\"#000000\">gini = 0.444</text>\n<text text-anchor=\"start\" x=\"247\" y=\"-736.8\" font-family=\"Helvetica,sans-Serif\" font-size=\"14.00\" fill=\"#000000\">samples = 3</text>\n<text text-anchor=\"start\" x=\"245\" y=\"-721.8\" font-family=\"Helvetica,sans-Serif\" font-size=\"14.00\" fill=\"#000000\">value = [2, 1]</text>\n<text text-anchor=\"start\" x=\"205\" y=\"-706.8\" font-family=\"Helvetica,sans-Serif\" font-size=\"14.00\" fill=\"#000000\">class = NÃO DIABETICO</text>\n</g>\n<!-- 5&#45;&gt;7 -->\n<g id=\"edge7\" class=\"edge\">\n<title>5&#45;&gt;7</title>\n<path fill=\"none\" stroke=\"#000000\" d=\"M286.5,-817.8796C286.5,-809.6838 286.5,-800.9891 286.5,-792.5013\"/>\n<polygon fill=\"#000000\" stroke=\"#000000\" points=\"290.0001,-792.298 286.5,-782.2981 283.0001,-792.2981 290.0001,-792.298\"/>\n</g>\n<!-- 8 -->\n<g id=\"node9\" class=\"node\">\n<title>8</title>\n<path fill=\"#399de5\" stroke=\"#000000\" d=\"M166.5,-655.5C166.5,-655.5 46.5,-655.5 46.5,-655.5 40.5,-655.5 34.5,-649.5 34.5,-643.5 34.5,-643.5 34.5,-599.5 34.5,-599.5 34.5,-593.5 40.5,-587.5 46.5,-587.5 46.5,-587.5 166.5,-587.5 166.5,-587.5 172.5,-587.5 178.5,-593.5 178.5,-599.5 178.5,-599.5 178.5,-643.5 178.5,-643.5 178.5,-649.5 172.5,-655.5 166.5,-655.5\"/>\n<text text-anchor=\"start\" x=\"77\" y=\"-640.3\" font-family=\"Helvetica,sans-Serif\" font-size=\"14.00\" fill=\"#000000\">gini = 0.0</text>\n<text text-anchor=\"start\" x=\"67\" y=\"-625.3\" font-family=\"Helvetica,sans-Serif\" font-size=\"14.00\" fill=\"#000000\">samples = 1</text>\n<text text-anchor=\"start\" x=\"65\" y=\"-610.3\" font-family=\"Helvetica,sans-Serif\" font-size=\"14.00\" fill=\"#000000\">value = [0, 1]</text>\n<text text-anchor=\"start\" x=\"42.5\" y=\"-595.3\" font-family=\"Helvetica,sans-Serif\" font-size=\"14.00\" fill=\"#000000\">class = DIABÉTICO</text>\n</g>\n<!-- 7&#45;&gt;8 -->\n<g id=\"edge8\" class=\"edge\">\n<title>7&#45;&gt;8</title>\n<path fill=\"none\" stroke=\"#000000\" d=\"M223.5447,-698.8796C205.1616,-686.7263 185.1189,-673.4759 166.8979,-661.4297\"/>\n<polygon fill=\"#000000\" stroke=\"#000000\" points=\"168.3867,-658.2183 158.1147,-655.623 164.5263,-664.0576 168.3867,-658.2183\"/>\n</g>\n<!-- 9 -->\n<g id=\"node10\" class=\"node\">\n<title>9</title>\n<path fill=\"#e58139\" stroke=\"#000000\" d=\"M364,-655.5C364,-655.5 209,-655.5 209,-655.5 203,-655.5 197,-649.5 197,-643.5 197,-643.5 197,-599.5 197,-599.5 197,-593.5 203,-587.5 209,-587.5 209,-587.5 364,-587.5 364,-587.5 370,-587.5 376,-593.5 376,-599.5 376,-599.5 376,-643.5 376,-643.5 376,-649.5 370,-655.5 364,-655.5\"/>\n<text text-anchor=\"start\" x=\"257\" y=\"-640.3\" font-family=\"Helvetica,sans-Serif\" font-size=\"14.00\" fill=\"#000000\">gini = 0.0</text>\n<text text-anchor=\"start\" x=\"247\" y=\"-625.3\" font-family=\"Helvetica,sans-Serif\" font-size=\"14.00\" fill=\"#000000\">samples = 2</text>\n<text text-anchor=\"start\" x=\"245\" y=\"-610.3\" font-family=\"Helvetica,sans-Serif\" font-size=\"14.00\" fill=\"#000000\">value = [2, 0]</text>\n<text text-anchor=\"start\" x=\"205\" y=\"-595.3\" font-family=\"Helvetica,sans-Serif\" font-size=\"14.00\" fill=\"#000000\">class = NÃO DIABETICO</text>\n</g>\n<!-- 7&#45;&gt;9 -->\n<g id=\"edge9\" class=\"edge\">\n<title>7&#45;&gt;9</title>\n<path fill=\"none\" stroke=\"#000000\" d=\"M286.5,-698.8796C286.5,-688.2134 286.5,-676.7021 286.5,-665.9015\"/>\n<polygon fill=\"#000000\" stroke=\"#000000\" points=\"290.0001,-665.8149 286.5,-655.8149 283.0001,-665.815 290.0001,-665.8149\"/>\n</g>\n<!-- 11 -->\n<g id=\"node12\" class=\"node\">\n<title>11</title>\n<path fill=\"#7bbeee\" stroke=\"#000000\" d=\"M543.5,-782C543.5,-782 423.5,-782 423.5,-782 417.5,-782 411.5,-776 411.5,-770 411.5,-770 411.5,-711 411.5,-711 411.5,-705 417.5,-699 423.5,-699 423.5,-699 543.5,-699 543.5,-699 549.5,-699 555.5,-705 555.5,-711 555.5,-711 555.5,-770 555.5,-770 555.5,-776 549.5,-782 543.5,-782\"/>\n<text text-anchor=\"start\" x=\"448.5\" y=\"-766.8\" font-family=\"Helvetica,sans-Serif\" font-size=\"14.00\" fill=\"#000000\">Age ≤ 22.0</text>\n<text text-anchor=\"start\" x=\"445.5\" y=\"-751.8\" font-family=\"Helvetica,sans-Serif\" font-size=\"14.00\" fill=\"#000000\">gini = 0.375</text>\n<text text-anchor=\"start\" x=\"444\" y=\"-736.8\" font-family=\"Helvetica,sans-Serif\" font-size=\"14.00\" fill=\"#000000\">samples = 4</text>\n<text text-anchor=\"start\" x=\"442\" y=\"-721.8\" font-family=\"Helvetica,sans-Serif\" font-size=\"14.00\" fill=\"#000000\">value = [1, 3]</text>\n<text text-anchor=\"start\" x=\"419.5\" y=\"-706.8\" font-family=\"Helvetica,sans-Serif\" font-size=\"14.00\" fill=\"#000000\">class = DIABÉTICO</text>\n</g>\n<!-- 10&#45;&gt;11 -->\n<g id=\"edge11\" class=\"edge\">\n<title>10&#45;&gt;11</title>\n<path fill=\"none\" stroke=\"#000000\" d=\"M483.5,-817.8796C483.5,-809.6838 483.5,-800.9891 483.5,-792.5013\"/>\n<polygon fill=\"#000000\" stroke=\"#000000\" points=\"487.0001,-792.298 483.5,-782.2981 480.0001,-792.2981 487.0001,-792.298\"/>\n</g>\n<!-- 14 -->\n<g id=\"node15\" class=\"node\">\n<title>14</title>\n<path fill=\"#e58139\" stroke=\"#000000\" d=\"M741,-774.5C741,-774.5 586,-774.5 586,-774.5 580,-774.5 574,-768.5 574,-762.5 574,-762.5 574,-718.5 574,-718.5 574,-712.5 580,-706.5 586,-706.5 586,-706.5 741,-706.5 741,-706.5 747,-706.5 753,-712.5 753,-718.5 753,-718.5 753,-762.5 753,-762.5 753,-768.5 747,-774.5 741,-774.5\"/>\n<text text-anchor=\"start\" x=\"634\" y=\"-759.3\" font-family=\"Helvetica,sans-Serif\" font-size=\"14.00\" fill=\"#000000\">gini = 0.0</text>\n<text text-anchor=\"start\" x=\"619.5\" y=\"-744.3\" font-family=\"Helvetica,sans-Serif\" font-size=\"14.00\" fill=\"#000000\">samples = 15</text>\n<text text-anchor=\"start\" x=\"618\" y=\"-729.3\" font-family=\"Helvetica,sans-Serif\" font-size=\"14.00\" fill=\"#000000\">value = [15, 0]</text>\n<text text-anchor=\"start\" x=\"582\" y=\"-714.3\" font-family=\"Helvetica,sans-Serif\" font-size=\"14.00\" fill=\"#000000\">class = NÃO DIABETICO</text>\n</g>\n<!-- 10&#45;&gt;14 -->\n<g id=\"edge14\" class=\"edge\">\n<title>10&#45;&gt;14</title>\n<path fill=\"none\" stroke=\"#000000\" d=\"M546.4553,-817.8796C564.8384,-805.7263 584.8811,-792.4759 603.1021,-780.4297\"/>\n<polygon fill=\"#000000\" stroke=\"#000000\" points=\"605.4737,-783.0576 611.8853,-774.623 601.6133,-777.2183 605.4737,-783.0576\"/>\n</g>\n<!-- 12 -->\n<g id=\"node13\" class=\"node\">\n<title>12</title>\n<path fill=\"#e58139\" stroke=\"#000000\" d=\"M561,-655.5C561,-655.5 406,-655.5 406,-655.5 400,-655.5 394,-649.5 394,-643.5 394,-643.5 394,-599.5 394,-599.5 394,-593.5 400,-587.5 406,-587.5 406,-587.5 561,-587.5 561,-587.5 567,-587.5 573,-593.5 573,-599.5 573,-599.5 573,-643.5 573,-643.5 573,-649.5 567,-655.5 561,-655.5\"/>\n<text text-anchor=\"start\" x=\"454\" y=\"-640.3\" font-family=\"Helvetica,sans-Serif\" font-size=\"14.00\" fill=\"#000000\">gini = 0.0</text>\n<text text-anchor=\"start\" x=\"444\" y=\"-625.3\" font-family=\"Helvetica,sans-Serif\" font-size=\"14.00\" fill=\"#000000\">samples = 1</text>\n<text text-anchor=\"start\" x=\"442\" y=\"-610.3\" font-family=\"Helvetica,sans-Serif\" font-size=\"14.00\" fill=\"#000000\">value = [1, 0]</text>\n<text text-anchor=\"start\" x=\"402\" y=\"-595.3\" font-family=\"Helvetica,sans-Serif\" font-size=\"14.00\" fill=\"#000000\">class = NÃO DIABETICO</text>\n</g>\n<!-- 11&#45;&gt;12 -->\n<g id=\"edge12\" class=\"edge\">\n<title>11&#45;&gt;12</title>\n<path fill=\"none\" stroke=\"#000000\" d=\"M483.5,-698.8796C483.5,-688.2134 483.5,-676.7021 483.5,-665.9015\"/>\n<polygon fill=\"#000000\" stroke=\"#000000\" points=\"487.0001,-665.8149 483.5,-655.8149 480.0001,-665.815 487.0001,-665.8149\"/>\n</g>\n<!-- 13 -->\n<g id=\"node14\" class=\"node\">\n<title>13</title>\n<path fill=\"#399de5\" stroke=\"#000000\" d=\"M723.5,-655.5C723.5,-655.5 603.5,-655.5 603.5,-655.5 597.5,-655.5 591.5,-649.5 591.5,-643.5 591.5,-643.5 591.5,-599.5 591.5,-599.5 591.5,-593.5 597.5,-587.5 603.5,-587.5 603.5,-587.5 723.5,-587.5 723.5,-587.5 729.5,-587.5 735.5,-593.5 735.5,-599.5 735.5,-599.5 735.5,-643.5 735.5,-643.5 735.5,-649.5 729.5,-655.5 723.5,-655.5\"/>\n<text text-anchor=\"start\" x=\"634\" y=\"-640.3\" font-family=\"Helvetica,sans-Serif\" font-size=\"14.00\" fill=\"#000000\">gini = 0.0</text>\n<text text-anchor=\"start\" x=\"624\" y=\"-625.3\" font-family=\"Helvetica,sans-Serif\" font-size=\"14.00\" fill=\"#000000\">samples = 3</text>\n<text text-anchor=\"start\" x=\"622\" y=\"-610.3\" font-family=\"Helvetica,sans-Serif\" font-size=\"14.00\" fill=\"#000000\">value = [0, 3]</text>\n<text text-anchor=\"start\" x=\"599.5\" y=\"-595.3\" font-family=\"Helvetica,sans-Serif\" font-size=\"14.00\" fill=\"#000000\">class = DIABÉTICO</text>\n</g>\n<!-- 11&#45;&gt;13 -->\n<g id=\"edge13\" class=\"edge\">\n<title>11&#45;&gt;13</title>\n<path fill=\"none\" stroke=\"#000000\" d=\"M546.4553,-698.8796C564.8384,-686.7263 584.8811,-673.4759 603.1021,-661.4297\"/>\n<polygon fill=\"#000000\" stroke=\"#000000\" points=\"605.4737,-664.0576 611.8853,-655.623 601.6133,-658.2183 605.4737,-664.0576\"/>\n</g>\n<!-- 16 -->\n<g id=\"node17\" class=\"node\">\n<title>16</title>\n<path fill=\"#399de5\" stroke=\"#000000\" d=\"M760.5,-893.5C760.5,-893.5 640.5,-893.5 640.5,-893.5 634.5,-893.5 628.5,-887.5 628.5,-881.5 628.5,-881.5 628.5,-837.5 628.5,-837.5 628.5,-831.5 634.5,-825.5 640.5,-825.5 640.5,-825.5 760.5,-825.5 760.5,-825.5 766.5,-825.5 772.5,-831.5 772.5,-837.5 772.5,-837.5 772.5,-881.5 772.5,-881.5 772.5,-887.5 766.5,-893.5 760.5,-893.5\"/>\n<text text-anchor=\"start\" x=\"671\" y=\"-878.3\" font-family=\"Helvetica,sans-Serif\" font-size=\"14.00\" fill=\"#000000\">gini = 0.0</text>\n<text text-anchor=\"start\" x=\"661\" y=\"-863.3\" font-family=\"Helvetica,sans-Serif\" font-size=\"14.00\" fill=\"#000000\">samples = 2</text>\n<text text-anchor=\"start\" x=\"659\" y=\"-848.3\" font-family=\"Helvetica,sans-Serif\" font-size=\"14.00\" fill=\"#000000\">value = [0, 2]</text>\n<text text-anchor=\"start\" x=\"636.5\" y=\"-833.3\" font-family=\"Helvetica,sans-Serif\" font-size=\"14.00\" fill=\"#000000\">class = DIABÉTICO</text>\n</g>\n<!-- 15&#45;&gt;16 -->\n<g id=\"edge16\" class=\"edge\">\n<title>15&#45;&gt;16</title>\n<path fill=\"none\" stroke=\"#000000\" d=\"M705.0517,-936.8796C704.4243,-926.2134 703.7472,-914.7021 703.1119,-903.9015\"/>\n<polygon fill=\"#000000\" stroke=\"#000000\" points=\"706.5998,-903.5921 702.5185,-893.8149 699.6119,-904.0032 706.5998,-903.5921\"/>\n</g>\n<!-- 17 -->\n<g id=\"node18\" class=\"node\">\n<title>17</title>\n<path fill=\"#ea9a61\" stroke=\"#000000\" d=\"M958,-901C958,-901 803,-901 803,-901 797,-901 791,-895 791,-889 791,-889 791,-830 791,-830 791,-824 797,-818 803,-818 803,-818 958,-818 958,-818 964,-818 970,-824 970,-830 970,-830 970,-889 970,-889 970,-895 964,-901 958,-901\"/>\n<text text-anchor=\"start\" x=\"811\" y=\"-885.8\" font-family=\"Helvetica,sans-Serif\" font-size=\"14.00\" fill=\"#000000\">SkinThickness ≤ 42.5</text>\n<text text-anchor=\"start\" x=\"842.5\" y=\"-870.8\" font-family=\"Helvetica,sans-Serif\" font-size=\"14.00\" fill=\"#000000\">gini = 0.278</text>\n<text text-anchor=\"start\" x=\"836.5\" y=\"-855.8\" font-family=\"Helvetica,sans-Serif\" font-size=\"14.00\" fill=\"#000000\">samples = 12</text>\n<text text-anchor=\"start\" x=\"835\" y=\"-840.8\" font-family=\"Helvetica,sans-Serif\" font-size=\"14.00\" fill=\"#000000\">value = [10, 2]</text>\n<text text-anchor=\"start\" x=\"799\" y=\"-825.8\" font-family=\"Helvetica,sans-Serif\" font-size=\"14.00\" fill=\"#000000\">class = NÃO DIABETICO</text>\n</g>\n<!-- 15&#45;&gt;17 -->\n<g id=\"edge17\" class=\"edge\">\n<title>15&#45;&gt;17</title>\n<path fill=\"none\" stroke=\"#000000\" d=\"M768.007,-936.8796C782.0982,-927.1868 797.2039,-916.7961 811.6269,-906.8752\"/>\n<polygon fill=\"#000000\" stroke=\"#000000\" points=\"813.7717,-909.6479 820.0272,-901.0969 809.8045,-903.8806 813.7717,-909.6479\"/>\n</g>\n<!-- 18 -->\n<g id=\"node19\" class=\"node\">\n<title>18</title>\n<path fill=\"#e88e4d\" stroke=\"#000000\" d=\"M945,-782C945,-782 790,-782 790,-782 784,-782 778,-776 778,-770 778,-770 778,-711 778,-711 778,-705 784,-699 790,-699 790,-699 945,-699 945,-699 951,-699 957,-705 957,-711 957,-711 957,-770 957,-770 957,-776 951,-782 945,-782\"/>\n<text text-anchor=\"start\" x=\"832.5\" y=\"-766.8\" font-family=\"Helvetica,sans-Serif\" font-size=\"14.00\" fill=\"#000000\">Age ≤ 27.5</text>\n<text text-anchor=\"start\" x=\"829.5\" y=\"-751.8\" font-family=\"Helvetica,sans-Serif\" font-size=\"14.00\" fill=\"#000000\">gini = 0.165</text>\n<text text-anchor=\"start\" x=\"823.5\" y=\"-736.8\" font-family=\"Helvetica,sans-Serif\" font-size=\"14.00\" fill=\"#000000\">samples = 11</text>\n<text text-anchor=\"start\" x=\"822\" y=\"-721.8\" font-family=\"Helvetica,sans-Serif\" font-size=\"14.00\" fill=\"#000000\">value = [10, 1]</text>\n<text text-anchor=\"start\" x=\"786\" y=\"-706.8\" font-family=\"Helvetica,sans-Serif\" font-size=\"14.00\" fill=\"#000000\">class = NÃO DIABETICO</text>\n</g>\n<!-- 17&#45;&gt;18 -->\n<g id=\"edge18\" class=\"edge\">\n<title>17&#45;&gt;18</title>\n<path fill=\"none\" stroke=\"#000000\" d=\"M875.9532,-817.8796C875.0579,-809.6838 874.1081,-800.9891 873.1808,-792.5013\"/>\n<polygon fill=\"#000000\" stroke=\"#000000\" points=\"876.6315,-791.8588 872.0662,-782.2981 869.6729,-792.6191 876.6315,-791.8588\"/>\n</g>\n<!-- 23 -->\n<g id=\"node24\" class=\"node\">\n<title>23</title>\n<path fill=\"#399de5\" stroke=\"#000000\" d=\"M1107.5,-774.5C1107.5,-774.5 987.5,-774.5 987.5,-774.5 981.5,-774.5 975.5,-768.5 975.5,-762.5 975.5,-762.5 975.5,-718.5 975.5,-718.5 975.5,-712.5 981.5,-706.5 987.5,-706.5 987.5,-706.5 1107.5,-706.5 1107.5,-706.5 1113.5,-706.5 1119.5,-712.5 1119.5,-718.5 1119.5,-718.5 1119.5,-762.5 1119.5,-762.5 1119.5,-768.5 1113.5,-774.5 1107.5,-774.5\"/>\n<text text-anchor=\"start\" x=\"1018\" y=\"-759.3\" font-family=\"Helvetica,sans-Serif\" font-size=\"14.00\" fill=\"#000000\">gini = 0.0</text>\n<text text-anchor=\"start\" x=\"1008\" y=\"-744.3\" font-family=\"Helvetica,sans-Serif\" font-size=\"14.00\" fill=\"#000000\">samples = 1</text>\n<text text-anchor=\"start\" x=\"1006\" y=\"-729.3\" font-family=\"Helvetica,sans-Serif\" font-size=\"14.00\" fill=\"#000000\">value = [0, 1]</text>\n<text text-anchor=\"start\" x=\"983.5\" y=\"-714.3\" font-family=\"Helvetica,sans-Serif\" font-size=\"14.00\" fill=\"#000000\">class = DIABÉTICO</text>\n</g>\n<!-- 17&#45;&gt;23 -->\n<g id=\"edge23\" class=\"edge\">\n<title>17&#45;&gt;23</title>\n<path fill=\"none\" stroke=\"#000000\" d=\"M938.9085,-817.8796C955.964,-805.7263 974.5591,-792.4759 991.4641,-780.4297\"/>\n<polygon fill=\"#000000\" stroke=\"#000000\" points=\"993.5002,-783.2766 999.6131,-774.623 989.438,-777.5759 993.5002,-783.2766\"/>\n</g>\n<!-- 19 -->\n<g id=\"node20\" class=\"node\">\n<title>19</title>\n<path fill=\"#e58139\" stroke=\"#000000\" d=\"M929,-655.5C929,-655.5 774,-655.5 774,-655.5 768,-655.5 762,-649.5 762,-643.5 762,-643.5 762,-599.5 762,-599.5 762,-593.5 768,-587.5 774,-587.5 774,-587.5 929,-587.5 929,-587.5 935,-587.5 941,-593.5 941,-599.5 941,-599.5 941,-643.5 941,-643.5 941,-649.5 935,-655.5 929,-655.5\"/>\n<text text-anchor=\"start\" x=\"822\" y=\"-640.3\" font-family=\"Helvetica,sans-Serif\" font-size=\"14.00\" fill=\"#000000\">gini = 0.0</text>\n<text text-anchor=\"start\" x=\"812\" y=\"-625.3\" font-family=\"Helvetica,sans-Serif\" font-size=\"14.00\" fill=\"#000000\">samples = 9</text>\n<text text-anchor=\"start\" x=\"810\" y=\"-610.3\" font-family=\"Helvetica,sans-Serif\" font-size=\"14.00\" fill=\"#000000\">value = [9, 0]</text>\n<text text-anchor=\"start\" x=\"770\" y=\"-595.3\" font-family=\"Helvetica,sans-Serif\" font-size=\"14.00\" fill=\"#000000\">class = NÃO DIABETICO</text>\n</g>\n<!-- 18&#45;&gt;19 -->\n<g id=\"edge19\" class=\"edge\">\n<title>18&#45;&gt;19</title>\n<path fill=\"none\" stroke=\"#000000\" d=\"M861.904,-698.8796C860.4699,-688.2134 858.9221,-676.7021 857.47,-665.9015\"/>\n<polygon fill=\"#000000\" stroke=\"#000000\" points=\"860.9152,-665.2593 856.1138,-655.8149 853.9776,-666.1922 860.9152,-665.2593\"/>\n</g>\n<!-- 20 -->\n<g id=\"node21\" class=\"node\">\n<title>20</title>\n<path fill=\"#ffffff\" stroke=\"#000000\" d=\"M1126,-663C1126,-663 971,-663 971,-663 965,-663 959,-657 959,-651 959,-651 959,-592 959,-592 959,-586 965,-580 971,-580 971,-580 1126,-580 1126,-580 1132,-580 1138,-586 1138,-592 1138,-592 1138,-651 1138,-651 1138,-657 1132,-663 1126,-663\"/>\n<text text-anchor=\"start\" x=\"1005.5\" y=\"-647.8\" font-family=\"Helvetica,sans-Serif\" font-size=\"14.00\" fill=\"#000000\">Insulin ≤ 45.0</text>\n<text text-anchor=\"start\" x=\"1019\" y=\"-632.8\" font-family=\"Helvetica,sans-Serif\" font-size=\"14.00\" fill=\"#000000\">gini = 0.5</text>\n<text text-anchor=\"start\" x=\"1009\" y=\"-617.8\" font-family=\"Helvetica,sans-Serif\" font-size=\"14.00\" fill=\"#000000\">samples = 2</text>\n<text text-anchor=\"start\" x=\"1007\" y=\"-602.8\" font-family=\"Helvetica,sans-Serif\" font-size=\"14.00\" fill=\"#000000\">value = [1, 1]</text>\n<text text-anchor=\"start\" x=\"967\" y=\"-587.8\" font-family=\"Helvetica,sans-Serif\" font-size=\"14.00\" fill=\"#000000\">class = NÃO DIABETICO</text>\n</g>\n<!-- 18&#45;&gt;20 -->\n<g id=\"edge20\" class=\"edge\">\n<title>18&#45;&gt;20</title>\n<path fill=\"none\" stroke=\"#000000\" d=\"M930.805,-698.8796C945.6856,-689.0962 961.6476,-678.6019 976.8649,-668.5971\"/>\n<polygon fill=\"#000000\" stroke=\"#000000\" points=\"978.7977,-671.5151 985.2307,-663.0969 974.9521,-665.666 978.7977,-671.5151\"/>\n</g>\n<!-- 21 -->\n<g id=\"node22\" class=\"node\">\n<title>21</title>\n<path fill=\"#e58139\" stroke=\"#000000\" d=\"M948,-536.5C948,-536.5 793,-536.5 793,-536.5 787,-536.5 781,-530.5 781,-524.5 781,-524.5 781,-480.5 781,-480.5 781,-474.5 787,-468.5 793,-468.5 793,-468.5 948,-468.5 948,-468.5 954,-468.5 960,-474.5 960,-480.5 960,-480.5 960,-524.5 960,-524.5 960,-530.5 954,-536.5 948,-536.5\"/>\n<text text-anchor=\"start\" x=\"841\" y=\"-521.3\" font-family=\"Helvetica,sans-Serif\" font-size=\"14.00\" fill=\"#000000\">gini = 0.0</text>\n<text text-anchor=\"start\" x=\"831\" y=\"-506.3\" font-family=\"Helvetica,sans-Serif\" font-size=\"14.00\" fill=\"#000000\">samples = 1</text>\n<text text-anchor=\"start\" x=\"829\" y=\"-491.3\" font-family=\"Helvetica,sans-Serif\" font-size=\"14.00\" fill=\"#000000\">value = [1, 0]</text>\n<text text-anchor=\"start\" x=\"789\" y=\"-476.3\" font-family=\"Helvetica,sans-Serif\" font-size=\"14.00\" fill=\"#000000\">class = NÃO DIABETICO</text>\n</g>\n<!-- 20&#45;&gt;21 -->\n<g id=\"edge21\" class=\"edge\">\n<title>20&#45;&gt;21</title>\n<path fill=\"none\" stroke=\"#000000\" d=\"M986.2442,-579.8796C968.0654,-567.7263 948.2454,-554.4759 930.2269,-542.4297\"/>\n<polygon fill=\"#000000\" stroke=\"#000000\" points=\"931.7997,-539.2712 921.5412,-536.623 927.9093,-545.0905 931.7997,-539.2712\"/>\n</g>\n<!-- 22 -->\n<g id=\"node23\" class=\"node\">\n<title>22</title>\n<path fill=\"#399de5\" stroke=\"#000000\" d=\"M1110.5,-536.5C1110.5,-536.5 990.5,-536.5 990.5,-536.5 984.5,-536.5 978.5,-530.5 978.5,-524.5 978.5,-524.5 978.5,-480.5 978.5,-480.5 978.5,-474.5 984.5,-468.5 990.5,-468.5 990.5,-468.5 1110.5,-468.5 1110.5,-468.5 1116.5,-468.5 1122.5,-474.5 1122.5,-480.5 1122.5,-480.5 1122.5,-524.5 1122.5,-524.5 1122.5,-530.5 1116.5,-536.5 1110.5,-536.5\"/>\n<text text-anchor=\"start\" x=\"1021\" y=\"-521.3\" font-family=\"Helvetica,sans-Serif\" font-size=\"14.00\" fill=\"#000000\">gini = 0.0</text>\n<text text-anchor=\"start\" x=\"1011\" y=\"-506.3\" font-family=\"Helvetica,sans-Serif\" font-size=\"14.00\" fill=\"#000000\">samples = 1</text>\n<text text-anchor=\"start\" x=\"1009\" y=\"-491.3\" font-family=\"Helvetica,sans-Serif\" font-size=\"14.00\" fill=\"#000000\">value = [0, 1]</text>\n<text text-anchor=\"start\" x=\"986.5\" y=\"-476.3\" font-family=\"Helvetica,sans-Serif\" font-size=\"14.00\" fill=\"#000000\">class = DIABÉTICO</text>\n</g>\n<!-- 20&#45;&gt;22 -->\n<g id=\"edge22\" class=\"edge\">\n<title>20&#45;&gt;22</title>\n<path fill=\"none\" stroke=\"#000000\" d=\"M1049.1995,-579.8796C1049.3788,-569.2134 1049.5722,-557.7021 1049.7538,-546.9015\"/>\n<polygon fill=\"#000000\" stroke=\"#000000\" points=\"1053.2546,-546.8724 1049.9233,-536.8149 1046.2556,-546.7547 1053.2546,-546.8724\"/>\n</g>\n<!-- 25 -->\n<g id=\"node26\" class=\"node\">\n<title>25</title>\n<path fill=\"#399de5\" stroke=\"#000000\" d=\"M978.5,-1012.5C978.5,-1012.5 858.5,-1012.5 858.5,-1012.5 852.5,-1012.5 846.5,-1006.5 846.5,-1000.5 846.5,-1000.5 846.5,-956.5 846.5,-956.5 846.5,-950.5 852.5,-944.5 858.5,-944.5 858.5,-944.5 978.5,-944.5 978.5,-944.5 984.5,-944.5 990.5,-950.5 990.5,-956.5 990.5,-956.5 990.5,-1000.5 990.5,-1000.5 990.5,-1006.5 984.5,-1012.5 978.5,-1012.5\"/>\n<text text-anchor=\"start\" x=\"889\" y=\"-997.3\" font-family=\"Helvetica,sans-Serif\" font-size=\"14.00\" fill=\"#000000\">gini = 0.0</text>\n<text text-anchor=\"start\" x=\"879\" y=\"-982.3\" font-family=\"Helvetica,sans-Serif\" font-size=\"14.00\" fill=\"#000000\">samples = 3</text>\n<text text-anchor=\"start\" x=\"877\" y=\"-967.3\" font-family=\"Helvetica,sans-Serif\" font-size=\"14.00\" fill=\"#000000\">value = [0, 3]</text>\n<text text-anchor=\"start\" x=\"854.5\" y=\"-952.3\" font-family=\"Helvetica,sans-Serif\" font-size=\"14.00\" fill=\"#000000\">class = DIABÉTICO</text>\n</g>\n<!-- 24&#45;&gt;25 -->\n<g id=\"edge25\" class=\"edge\">\n<title>24&#45;&gt;25</title>\n<path fill=\"none\" stroke=\"#000000\" d=\"M992.6283,-1055.8796C981.5676,-1044.3337 969.5582,-1031.7976 958.4906,-1020.2446\"/>\n<polygon fill=\"#000000\" stroke=\"#000000\" points=\"960.8183,-1017.6149 951.3731,-1012.8149 955.7635,-1022.4573 960.8183,-1017.6149\"/>\n</g>\n<!-- 26 -->\n<g id=\"node27\" class=\"node\">\n<title>26</title>\n<path fill=\"#e58139\" stroke=\"#000000\" d=\"M1176,-1012.5C1176,-1012.5 1021,-1012.5 1021,-1012.5 1015,-1012.5 1009,-1006.5 1009,-1000.5 1009,-1000.5 1009,-956.5 1009,-956.5 1009,-950.5 1015,-944.5 1021,-944.5 1021,-944.5 1176,-944.5 1176,-944.5 1182,-944.5 1188,-950.5 1188,-956.5 1188,-956.5 1188,-1000.5 1188,-1000.5 1188,-1006.5 1182,-1012.5 1176,-1012.5\"/>\n<text text-anchor=\"start\" x=\"1069\" y=\"-997.3\" font-family=\"Helvetica,sans-Serif\" font-size=\"14.00\" fill=\"#000000\">gini = 0.0</text>\n<text text-anchor=\"start\" x=\"1059\" y=\"-982.3\" font-family=\"Helvetica,sans-Serif\" font-size=\"14.00\" fill=\"#000000\">samples = 1</text>\n<text text-anchor=\"start\" x=\"1057\" y=\"-967.3\" font-family=\"Helvetica,sans-Serif\" font-size=\"14.00\" fill=\"#000000\">value = [1, 0]</text>\n<text text-anchor=\"start\" x=\"1017\" y=\"-952.3\" font-family=\"Helvetica,sans-Serif\" font-size=\"14.00\" fill=\"#000000\">class = NÃO DIABETICO</text>\n</g>\n<!-- 24&#45;&gt;26 -->\n<g id=\"edge26\" class=\"edge\">\n<title>24&#45;&gt;26</title>\n<path fill=\"none\" stroke=\"#000000\" d=\"M1055.5836,-1055.8796C1061.7433,-1044.7735 1068.4111,-1032.7513 1074.6129,-1021.5691\"/>\n<polygon fill=\"#000000\" stroke=\"#000000\" points=\"1077.6787,-1023.2576 1079.4682,-1012.8149 1071.5572,-1019.8624 1077.6787,-1023.2576\"/>\n</g>\n<!-- 28 -->\n<g id=\"node29\" class=\"node\">\n<title>28</title>\n<path fill=\"#e68843\" stroke=\"#000000\" d=\"M1553,-1139C1553,-1139 1398,-1139 1398,-1139 1392,-1139 1386,-1133 1386,-1127 1386,-1127 1386,-1068 1386,-1068 1386,-1062 1392,-1056 1398,-1056 1398,-1056 1553,-1056 1553,-1056 1559,-1056 1565,-1062 1565,-1068 1565,-1068 1565,-1127 1565,-1127 1565,-1133 1559,-1139 1553,-1139\"/>\n<text text-anchor=\"start\" x=\"1422.5\" y=\"-1123.8\" font-family=\"Helvetica,sans-Serif\" font-size=\"14.00\" fill=\"#000000\">Glucose ≤ 124.5</text>\n<text text-anchor=\"start\" x=\"1437.5\" y=\"-1108.8\" font-family=\"Helvetica,sans-Serif\" font-size=\"14.00\" fill=\"#000000\">gini = 0.095</text>\n<text text-anchor=\"start\" x=\"1431.5\" y=\"-1093.8\" font-family=\"Helvetica,sans-Serif\" font-size=\"14.00\" fill=\"#000000\">samples = 20</text>\n<text text-anchor=\"start\" x=\"1430\" y=\"-1078.8\" font-family=\"Helvetica,sans-Serif\" font-size=\"14.00\" fill=\"#000000\">value = [19, 1]</text>\n<text text-anchor=\"start\" x=\"1394\" y=\"-1063.8\" font-family=\"Helvetica,sans-Serif\" font-size=\"14.00\" fill=\"#000000\">class = NÃO DIABETICO</text>\n</g>\n<!-- 27&#45;&gt;28 -->\n<g id=\"edge28\" class=\"edge\">\n<title>27&#45;&gt;28</title>\n<path fill=\"none\" stroke=\"#000000\" d=\"M1542.4756,-1174.8796C1534.6802,-1165.8733 1526.3633,-1156.2644 1518.3356,-1146.9897\"/>\n<polygon fill=\"#000000\" stroke=\"#000000\" points=\"1520.8691,-1144.5686 1511.6782,-1139.2981 1515.5763,-1149.1498 1520.8691,-1144.5686\"/>\n</g>\n<!-- 31 -->\n<g id=\"node32\" class=\"node\">\n<title>31</title>\n<path fill=\"#dfeffb\" stroke=\"#000000\" d=\"M1742.5,-1139C1742.5,-1139 1622.5,-1139 1622.5,-1139 1616.5,-1139 1610.5,-1133 1610.5,-1127 1610.5,-1127 1610.5,-1068 1610.5,-1068 1610.5,-1062 1616.5,-1056 1622.5,-1056 1622.5,-1056 1742.5,-1056 1742.5,-1056 1748.5,-1056 1754.5,-1062 1754.5,-1068 1754.5,-1068 1754.5,-1127 1754.5,-1127 1754.5,-1133 1748.5,-1139 1742.5,-1139\"/>\n<text text-anchor=\"start\" x=\"1633.5\" y=\"-1123.8\" font-family=\"Helvetica,sans-Serif\" font-size=\"14.00\" fill=\"#000000\">Glucose ≤ 91.0</text>\n<text text-anchor=\"start\" x=\"1644.5\" y=\"-1108.8\" font-family=\"Helvetica,sans-Serif\" font-size=\"14.00\" fill=\"#000000\">gini = 0.496</text>\n<text text-anchor=\"start\" x=\"1638.5\" y=\"-1093.8\" font-family=\"Helvetica,sans-Serif\" font-size=\"14.00\" fill=\"#000000\">samples = 90</text>\n<text text-anchor=\"start\" x=\"1632.5\" y=\"-1078.8\" font-family=\"Helvetica,sans-Serif\" font-size=\"14.00\" fill=\"#000000\">value = [41, 49]</text>\n<text text-anchor=\"start\" x=\"1618.5\" y=\"-1063.8\" font-family=\"Helvetica,sans-Serif\" font-size=\"14.00\" fill=\"#000000\">class = DIABÉTICO</text>\n</g>\n<!-- 27&#45;&gt;31 -->\n<g id=\"edge31\" class=\"edge\">\n<title>27&#45;&gt;31</title>\n<path fill=\"none\" stroke=\"#000000\" d=\"M1614.8742,-1174.8796C1622.7452,-1165.8733 1631.1429,-1156.2644 1639.2485,-1146.9897\"/>\n<polygon fill=\"#000000\" stroke=\"#000000\" points=\"1642.0254,-1149.131 1645.9706,-1139.2981 1636.7546,-1144.5246 1642.0254,-1149.131\"/>\n</g>\n<!-- 29 -->\n<g id=\"node30\" class=\"node\">\n<title>29</title>\n<path fill=\"#e58139\" stroke=\"#000000\" d=\"M1373,-1012.5C1373,-1012.5 1218,-1012.5 1218,-1012.5 1212,-1012.5 1206,-1006.5 1206,-1000.5 1206,-1000.5 1206,-956.5 1206,-956.5 1206,-950.5 1212,-944.5 1218,-944.5 1218,-944.5 1373,-944.5 1373,-944.5 1379,-944.5 1385,-950.5 1385,-956.5 1385,-956.5 1385,-1000.5 1385,-1000.5 1385,-1006.5 1379,-1012.5 1373,-1012.5\"/>\n<text text-anchor=\"start\" x=\"1266\" y=\"-997.3\" font-family=\"Helvetica,sans-Serif\" font-size=\"14.00\" fill=\"#000000\">gini = 0.0</text>\n<text text-anchor=\"start\" x=\"1251.5\" y=\"-982.3\" font-family=\"Helvetica,sans-Serif\" font-size=\"14.00\" fill=\"#000000\">samples = 19</text>\n<text text-anchor=\"start\" x=\"1250\" y=\"-967.3\" font-family=\"Helvetica,sans-Serif\" font-size=\"14.00\" fill=\"#000000\">value = [19, 0]</text>\n<text text-anchor=\"start\" x=\"1214\" y=\"-952.3\" font-family=\"Helvetica,sans-Serif\" font-size=\"14.00\" fill=\"#000000\">class = NÃO DIABETICO</text>\n</g>\n<!-- 28&#45;&gt;29 -->\n<g id=\"edge29\" class=\"edge\">\n<title>28&#45;&gt;29</title>\n<path fill=\"none\" stroke=\"#000000\" d=\"M1412.5447,-1055.8796C1394.1616,-1043.7263 1374.1189,-1030.4759 1355.8979,-1018.4297\"/>\n<polygon fill=\"#000000\" stroke=\"#000000\" points=\"1357.3867,-1015.2183 1347.1147,-1012.623 1353.5263,-1021.0576 1357.3867,-1015.2183\"/>\n</g>\n<!-- 30 -->\n<g id=\"node31\" class=\"node\">\n<title>30</title>\n<path fill=\"#399de5\" stroke=\"#000000\" d=\"M1535.5,-1012.5C1535.5,-1012.5 1415.5,-1012.5 1415.5,-1012.5 1409.5,-1012.5 1403.5,-1006.5 1403.5,-1000.5 1403.5,-1000.5 1403.5,-956.5 1403.5,-956.5 1403.5,-950.5 1409.5,-944.5 1415.5,-944.5 1415.5,-944.5 1535.5,-944.5 1535.5,-944.5 1541.5,-944.5 1547.5,-950.5 1547.5,-956.5 1547.5,-956.5 1547.5,-1000.5 1547.5,-1000.5 1547.5,-1006.5 1541.5,-1012.5 1535.5,-1012.5\"/>\n<text text-anchor=\"start\" x=\"1446\" y=\"-997.3\" font-family=\"Helvetica,sans-Serif\" font-size=\"14.00\" fill=\"#000000\">gini = 0.0</text>\n<text text-anchor=\"start\" x=\"1436\" y=\"-982.3\" font-family=\"Helvetica,sans-Serif\" font-size=\"14.00\" fill=\"#000000\">samples = 1</text>\n<text text-anchor=\"start\" x=\"1434\" y=\"-967.3\" font-family=\"Helvetica,sans-Serif\" font-size=\"14.00\" fill=\"#000000\">value = [0, 1]</text>\n<text text-anchor=\"start\" x=\"1411.5\" y=\"-952.3\" font-family=\"Helvetica,sans-Serif\" font-size=\"14.00\" fill=\"#000000\">class = DIABÉTICO</text>\n</g>\n<!-- 28&#45;&gt;30 -->\n<g id=\"edge30\" class=\"edge\">\n<title>28&#45;&gt;30</title>\n<path fill=\"none\" stroke=\"#000000\" d=\"M1475.5,-1055.8796C1475.5,-1045.2134 1475.5,-1033.7021 1475.5,-1022.9015\"/>\n<polygon fill=\"#000000\" stroke=\"#000000\" points=\"1479.0001,-1022.8149 1475.5,-1012.8149 1472.0001,-1022.815 1479.0001,-1022.8149\"/>\n</g>\n<!-- 32 -->\n<g id=\"node33\" class=\"node\">\n<title>32</title>\n<path fill=\"#e78b48\" stroke=\"#000000\" d=\"M1787,-1020C1787,-1020 1578,-1020 1578,-1020 1572,-1020 1566,-1014 1566,-1008 1566,-1008 1566,-949 1566,-949 1566,-943 1572,-937 1578,-937 1578,-937 1787,-937 1787,-937 1793,-937 1799,-943 1799,-949 1799,-949 1799,-1008 1799,-1008 1799,-1014 1793,-1020 1787,-1020\"/>\n<text text-anchor=\"start\" x=\"1574\" y=\"-1004.8\" font-family=\"Helvetica,sans-Serif\" font-size=\"14.00\" fill=\"#000000\">DiabetesPedigreeFunction ≤ 1.16</text>\n<text text-anchor=\"start\" x=\"1644.5\" y=\"-989.8\" font-family=\"Helvetica,sans-Serif\" font-size=\"14.00\" fill=\"#000000\">gini = 0.133</text>\n<text text-anchor=\"start\" x=\"1638.5\" y=\"-974.8\" font-family=\"Helvetica,sans-Serif\" font-size=\"14.00\" fill=\"#000000\">samples = 14</text>\n<text text-anchor=\"start\" x=\"1637\" y=\"-959.8\" font-family=\"Helvetica,sans-Serif\" font-size=\"14.00\" fill=\"#000000\">value = [13, 1]</text>\n<text text-anchor=\"start\" x=\"1601\" y=\"-944.8\" font-family=\"Helvetica,sans-Serif\" font-size=\"14.00\" fill=\"#000000\">class = NÃO DIABETICO</text>\n</g>\n<!-- 31&#45;&gt;32 -->\n<g id=\"edge32\" class=\"edge\">\n<title>31&#45;&gt;32</title>\n<path fill=\"none\" stroke=\"#000000\" d=\"M1682.5,-1055.8796C1682.5,-1047.6838 1682.5,-1038.9891 1682.5,-1030.5013\"/>\n<polygon fill=\"#000000\" stroke=\"#000000\" points=\"1686.0001,-1030.298 1682.5,-1020.2981 1679.0001,-1030.2981 1686.0001,-1030.298\"/>\n</g>\n<!-- 35 -->\n<g id=\"node36\" class=\"node\">\n<title>35</title>\n<path fill=\"#acd6f4\" stroke=\"#000000\" d=\"M1949.5,-1020C1949.5,-1020 1829.5,-1020 1829.5,-1020 1823.5,-1020 1817.5,-1014 1817.5,-1008 1817.5,-1008 1817.5,-949 1817.5,-949 1817.5,-943 1823.5,-937 1829.5,-937 1829.5,-937 1949.5,-937 1949.5,-937 1955.5,-937 1961.5,-943 1961.5,-949 1961.5,-949 1961.5,-1008 1961.5,-1008 1961.5,-1014 1955.5,-1020 1949.5,-1020\"/>\n<text text-anchor=\"start\" x=\"1854.5\" y=\"-1004.8\" font-family=\"Helvetica,sans-Serif\" font-size=\"14.00\" fill=\"#000000\">Age ≤ 34.5</text>\n<text text-anchor=\"start\" x=\"1851.5\" y=\"-989.8\" font-family=\"Helvetica,sans-Serif\" font-size=\"14.00\" fill=\"#000000\">gini = 0.465</text>\n<text text-anchor=\"start\" x=\"1845.5\" y=\"-974.8\" font-family=\"Helvetica,sans-Serif\" font-size=\"14.00\" fill=\"#000000\">samples = 76</text>\n<text text-anchor=\"start\" x=\"1839.5\" y=\"-959.8\" font-family=\"Helvetica,sans-Serif\" font-size=\"14.00\" fill=\"#000000\">value = [28, 48]</text>\n<text text-anchor=\"start\" x=\"1825.5\" y=\"-944.8\" font-family=\"Helvetica,sans-Serif\" font-size=\"14.00\" fill=\"#000000\">class = DIABÉTICO</text>\n</g>\n<!-- 31&#45;&gt;35 -->\n<g id=\"edge35\" class=\"edge\">\n<title>31&#45;&gt;35</title>\n<path fill=\"none\" stroke=\"#000000\" d=\"M1754.608,-1056.0466C1771.8966,-1046.1077 1790.476,-1035.4268 1808.1512,-1025.2657\"/>\n<polygon fill=\"#000000\" stroke=\"#000000\" points=\"1810.375,-1028.0245 1817.3001,-1020.0062 1806.8862,-1021.9558 1810.375,-1028.0245\"/>\n</g>\n<!-- 33 -->\n<g id=\"node34\" class=\"node\">\n<title>33</title>\n<path fill=\"#e58139\" stroke=\"#000000\" d=\"M1580,-893.5C1580,-893.5 1425,-893.5 1425,-893.5 1419,-893.5 1413,-887.5 1413,-881.5 1413,-881.5 1413,-837.5 1413,-837.5 1413,-831.5 1419,-825.5 1425,-825.5 1425,-825.5 1580,-825.5 1580,-825.5 1586,-825.5 1592,-831.5 1592,-837.5 1592,-837.5 1592,-881.5 1592,-881.5 1592,-887.5 1586,-893.5 1580,-893.5\"/>\n<text text-anchor=\"start\" x=\"1473\" y=\"-878.3\" font-family=\"Helvetica,sans-Serif\" font-size=\"14.00\" fill=\"#000000\">gini = 0.0</text>\n<text text-anchor=\"start\" x=\"1458.5\" y=\"-863.3\" font-family=\"Helvetica,sans-Serif\" font-size=\"14.00\" fill=\"#000000\">samples = 13</text>\n<text text-anchor=\"start\" x=\"1457\" y=\"-848.3\" font-family=\"Helvetica,sans-Serif\" font-size=\"14.00\" fill=\"#000000\">value = [13, 0]</text>\n<text text-anchor=\"start\" x=\"1421\" y=\"-833.3\" font-family=\"Helvetica,sans-Serif\" font-size=\"14.00\" fill=\"#000000\">class = NÃO DIABETICO</text>\n</g>\n<!-- 32&#45;&gt;33 -->\n<g id=\"edge33\" class=\"edge\">\n<title>32&#45;&gt;33</title>\n<path fill=\"none\" stroke=\"#000000\" d=\"M1619.5447,-936.8796C1601.1616,-924.7263 1581.1189,-911.4759 1562.8979,-899.4297\"/>\n<polygon fill=\"#000000\" stroke=\"#000000\" points=\"1564.3867,-896.2183 1554.1147,-893.623 1560.5263,-902.0576 1564.3867,-896.2183\"/>\n</g>\n<!-- 34 -->\n<g id=\"node35\" class=\"node\">\n<title>34</title>\n<path fill=\"#399de5\" stroke=\"#000000\" d=\"M1742.5,-893.5C1742.5,-893.5 1622.5,-893.5 1622.5,-893.5 1616.5,-893.5 1610.5,-887.5 1610.5,-881.5 1610.5,-881.5 1610.5,-837.5 1610.5,-837.5 1610.5,-831.5 1616.5,-825.5 1622.5,-825.5 1622.5,-825.5 1742.5,-825.5 1742.5,-825.5 1748.5,-825.5 1754.5,-831.5 1754.5,-837.5 1754.5,-837.5 1754.5,-881.5 1754.5,-881.5 1754.5,-887.5 1748.5,-893.5 1742.5,-893.5\"/>\n<text text-anchor=\"start\" x=\"1653\" y=\"-878.3\" font-family=\"Helvetica,sans-Serif\" font-size=\"14.00\" fill=\"#000000\">gini = 0.0</text>\n<text text-anchor=\"start\" x=\"1643\" y=\"-863.3\" font-family=\"Helvetica,sans-Serif\" font-size=\"14.00\" fill=\"#000000\">samples = 1</text>\n<text text-anchor=\"start\" x=\"1641\" y=\"-848.3\" font-family=\"Helvetica,sans-Serif\" font-size=\"14.00\" fill=\"#000000\">value = [0, 1]</text>\n<text text-anchor=\"start\" x=\"1618.5\" y=\"-833.3\" font-family=\"Helvetica,sans-Serif\" font-size=\"14.00\" fill=\"#000000\">class = DIABÉTICO</text>\n</g>\n<!-- 32&#45;&gt;34 -->\n<g id=\"edge34\" class=\"edge\">\n<title>32&#45;&gt;34</title>\n<path fill=\"none\" stroke=\"#000000\" d=\"M1682.5,-936.8796C1682.5,-926.2134 1682.5,-914.7021 1682.5,-903.9015\"/>\n<polygon fill=\"#000000\" stroke=\"#000000\" points=\"1686.0001,-903.8149 1682.5,-893.8149 1679.0001,-903.815 1686.0001,-903.8149\"/>\n</g>\n<!-- 36 -->\n<g id=\"node37\" class=\"node\">\n<title>36</title>\n<path fill=\"#ffffff\" stroke=\"#000000\" d=\"M1940,-901C1940,-901 1785,-901 1785,-901 1779,-901 1773,-895 1773,-889 1773,-889 1773,-830 1773,-830 1773,-824 1779,-818 1785,-818 1785,-818 1940,-818 1940,-818 1946,-818 1952,-824 1952,-830 1952,-830 1952,-889 1952,-889 1952,-895 1946,-901 1940,-901\"/>\n<text text-anchor=\"start\" x=\"1803.5\" y=\"-885.8\" font-family=\"Helvetica,sans-Serif\" font-size=\"14.00\" fill=\"#000000\">Pregnancies ≤ 6.5</text>\n<text text-anchor=\"start\" x=\"1833\" y=\"-870.8\" font-family=\"Helvetica,sans-Serif\" font-size=\"14.00\" fill=\"#000000\">gini = 0.5</text>\n<text text-anchor=\"start\" x=\"1818.5\" y=\"-855.8\" font-family=\"Helvetica,sans-Serif\" font-size=\"14.00\" fill=\"#000000\">samples = 34</text>\n<text text-anchor=\"start\" x=\"1812.5\" y=\"-840.8\" font-family=\"Helvetica,sans-Serif\" font-size=\"14.00\" fill=\"#000000\">value = [17, 17]</text>\n<text text-anchor=\"start\" x=\"1781\" y=\"-825.8\" font-family=\"Helvetica,sans-Serif\" font-size=\"14.00\" fill=\"#000000\">class = NÃO DIABETICO</text>\n</g>\n<!-- 35&#45;&gt;36 -->\n<g id=\"edge36\" class=\"edge\">\n<title>35&#45;&gt;36</title>\n<path fill=\"none\" stroke=\"#000000\" d=\"M1880.0567,-936.8796C1878.1767,-928.5938 1876.1811,-919.798 1874.2351,-911.2216\"/>\n<polygon fill=\"#000000\" stroke=\"#000000\" points=\"1877.6096,-910.2757 1871.9836,-901.2981 1870.7831,-911.8247 1877.6096,-910.2757\"/>\n</g>\n<!-- 53 -->\n<g id=\"node54\" class=\"node\">\n<title>53</title>\n<path fill=\"#7fc0ee\" stroke=\"#000000\" d=\"M2114.5,-901C2114.5,-901 1982.5,-901 1982.5,-901 1976.5,-901 1970.5,-895 1970.5,-889 1970.5,-889 1970.5,-830 1970.5,-830 1970.5,-824 1976.5,-818 1982.5,-818 1982.5,-818 2114.5,-818 2114.5,-818 2120.5,-818 2126.5,-824 2126.5,-830 2126.5,-830 2126.5,-889 2126.5,-889 2126.5,-895 2120.5,-901 2114.5,-901\"/>\n<text text-anchor=\"start\" x=\"1978.5\" y=\"-885.8\" font-family=\"Helvetica,sans-Serif\" font-size=\"14.00\" fill=\"#000000\">BloodPressure ≤ 59.0</text>\n<text text-anchor=\"start\" x=\"2010.5\" y=\"-870.8\" font-family=\"Helvetica,sans-Serif\" font-size=\"14.00\" fill=\"#000000\">gini = 0.387</text>\n<text text-anchor=\"start\" x=\"2004.5\" y=\"-855.8\" font-family=\"Helvetica,sans-Serif\" font-size=\"14.00\" fill=\"#000000\">samples = 42</text>\n<text text-anchor=\"start\" x=\"1998.5\" y=\"-840.8\" font-family=\"Helvetica,sans-Serif\" font-size=\"14.00\" fill=\"#000000\">value = [11, 31]</text>\n<text text-anchor=\"start\" x=\"1984.5\" y=\"-825.8\" font-family=\"Helvetica,sans-Serif\" font-size=\"14.00\" fill=\"#000000\">class = DIABÉTICO</text>\n</g>\n<!-- 35&#45;&gt;53 -->\n<g id=\"edge53\" class=\"edge\">\n<title>35&#45;&gt;53</title>\n<path fill=\"none\" stroke=\"#000000\" d=\"M1945.1105,-936.8796C1957.9403,-927.2774 1971.6852,-916.9903 1984.8286,-907.1534\"/>\n<polygon fill=\"#000000\" stroke=\"#000000\" points=\"1987.0121,-909.891 1992.9209,-901.0969 1982.8177,-904.2868 1987.0121,-909.891\"/>\n</g>\n<!-- 37 -->\n<g id=\"node38\" class=\"node\">\n<title>37</title>\n<path fill=\"#f5d0b5\" stroke=\"#000000\" d=\"M1752,-782C1752,-782 1597,-782 1597,-782 1591,-782 1585,-776 1585,-770 1585,-770 1585,-711 1585,-711 1585,-705 1591,-699 1597,-699 1597,-699 1752,-699 1752,-699 1758,-699 1764,-705 1764,-711 1764,-711 1764,-770 1764,-770 1764,-776 1758,-782 1752,-782\"/>\n<text text-anchor=\"start\" x=\"1627.5\" y=\"-766.8\" font-family=\"Helvetica,sans-Serif\" font-size=\"14.00\" fill=\"#000000\">Insulin ≤ 148.0</text>\n<text text-anchor=\"start\" x=\"1636.5\" y=\"-751.8\" font-family=\"Helvetica,sans-Serif\" font-size=\"14.00\" fill=\"#000000\">gini = 0.473</text>\n<text text-anchor=\"start\" x=\"1630.5\" y=\"-736.8\" font-family=\"Helvetica,sans-Serif\" font-size=\"14.00\" fill=\"#000000\">samples = 26</text>\n<text text-anchor=\"start\" x=\"1624.5\" y=\"-721.8\" font-family=\"Helvetica,sans-Serif\" font-size=\"14.00\" fill=\"#000000\">value = [16, 10]</text>\n<text text-anchor=\"start\" x=\"1593\" y=\"-706.8\" font-family=\"Helvetica,sans-Serif\" font-size=\"14.00\" fill=\"#000000\">class = NÃO DIABETICO</text>\n</g>\n<!-- 36&#45;&gt;37 -->\n<g id=\"edge37\" class=\"edge\">\n<title>36&#45;&gt;37</title>\n<path fill=\"none\" stroke=\"#000000\" d=\"M1796.7467,-817.8796C1781.2906,-808.0962 1764.7113,-797.6019 1748.9055,-787.5971\"/>\n<polygon fill=\"#000000\" stroke=\"#000000\" points=\"1750.5377,-784.488 1740.2162,-782.0969 1746.7938,-790.4027 1750.5377,-784.488\"/>\n</g>\n<!-- 50 -->\n<g id=\"node51\" class=\"node\">\n<title>50</title>\n<path fill=\"#55abe9\" stroke=\"#000000\" d=\"M1922.5,-782C1922.5,-782 1802.5,-782 1802.5,-782 1796.5,-782 1790.5,-776 1790.5,-770 1790.5,-770 1790.5,-711 1790.5,-711 1790.5,-705 1796.5,-699 1802.5,-699 1802.5,-699 1922.5,-699 1922.5,-699 1928.5,-699 1934.5,-705 1934.5,-711 1934.5,-711 1934.5,-770 1934.5,-770 1934.5,-776 1928.5,-782 1922.5,-782\"/>\n<text text-anchor=\"start\" x=\"1809.5\" y=\"-766.8\" font-family=\"Helvetica,sans-Serif\" font-size=\"14.00\" fill=\"#000000\">Glucose ≤ 123.0</text>\n<text text-anchor=\"start\" x=\"1824.5\" y=\"-751.8\" font-family=\"Helvetica,sans-Serif\" font-size=\"14.00\" fill=\"#000000\">gini = 0.219</text>\n<text text-anchor=\"start\" x=\"1823\" y=\"-736.8\" font-family=\"Helvetica,sans-Serif\" font-size=\"14.00\" fill=\"#000000\">samples = 8</text>\n<text text-anchor=\"start\" x=\"1821\" y=\"-721.8\" font-family=\"Helvetica,sans-Serif\" font-size=\"14.00\" fill=\"#000000\">value = [1, 7]</text>\n<text text-anchor=\"start\" x=\"1798.5\" y=\"-706.8\" font-family=\"Helvetica,sans-Serif\" font-size=\"14.00\" fill=\"#000000\">class = DIABÉTICO</text>\n</g>\n<!-- 36&#45;&gt;50 -->\n<g id=\"edge50\" class=\"edge\">\n<title>36&#45;&gt;50</title>\n<path fill=\"none\" stroke=\"#000000\" d=\"M1862.5,-817.8796C1862.5,-809.6838 1862.5,-800.9891 1862.5,-792.5013\"/>\n<polygon fill=\"#000000\" stroke=\"#000000\" points=\"1866.0001,-792.298 1862.5,-782.2981 1859.0001,-792.2981 1866.0001,-792.298\"/>\n</g>\n<!-- 38 -->\n<g id=\"node39\" class=\"node\">\n<title>38</title>\n<path fill=\"#eb9c63\" stroke=\"#000000\" d=\"M1486,-663C1486,-663 1331,-663 1331,-663 1325,-663 1319,-657 1319,-651 1319,-651 1319,-592 1319,-592 1319,-586 1325,-580 1331,-580 1331,-580 1486,-580 1486,-580 1492,-580 1498,-586 1498,-592 1498,-592 1498,-651 1498,-651 1498,-657 1492,-663 1486,-663\"/>\n<text text-anchor=\"start\" x=\"1369.5\" y=\"-647.8\" font-family=\"Helvetica,sans-Serif\" font-size=\"14.00\" fill=\"#000000\">BMI ≤ 27.95</text>\n<text text-anchor=\"start\" x=\"1370.5\" y=\"-632.8\" font-family=\"Helvetica,sans-Serif\" font-size=\"14.00\" fill=\"#000000\">gini = 0.291</text>\n<text text-anchor=\"start\" x=\"1364.5\" y=\"-617.8\" font-family=\"Helvetica,sans-Serif\" font-size=\"14.00\" fill=\"#000000\">samples = 17</text>\n<text text-anchor=\"start\" x=\"1363\" y=\"-602.8\" font-family=\"Helvetica,sans-Serif\" font-size=\"14.00\" fill=\"#000000\">value = [14, 3]</text>\n<text text-anchor=\"start\" x=\"1327\" y=\"-587.8\" font-family=\"Helvetica,sans-Serif\" font-size=\"14.00\" fill=\"#000000\">class = NÃO DIABETICO</text>\n</g>\n<!-- 37&#45;&gt;38 -->\n<g id=\"edge38\" class=\"edge\">\n<title>37&#45;&gt;38</title>\n<path fill=\"none\" stroke=\"#000000\" d=\"M1584.8154,-700.3779C1559.9645,-689.2604 1532.8488,-677.1297 1507.4995,-665.7892\"/>\n<polygon fill=\"#000000\" stroke=\"#000000\" points=\"1508.8051,-662.5391 1498.2476,-661.6503 1505.9465,-668.9288 1508.8051,-662.5391\"/>\n</g>\n<!-- 47 -->\n<g id=\"node48\" class=\"node\">\n<title>47</title>\n<path fill=\"#72b9ec\" stroke=\"#000000\" d=\"M1734.5,-663C1734.5,-663 1614.5,-663 1614.5,-663 1608.5,-663 1602.5,-657 1602.5,-651 1602.5,-651 1602.5,-592 1602.5,-592 1602.5,-586 1608.5,-580 1614.5,-580 1614.5,-580 1734.5,-580 1734.5,-580 1740.5,-580 1746.5,-586 1746.5,-592 1746.5,-592 1746.5,-651 1746.5,-651 1746.5,-657 1740.5,-663 1734.5,-663\"/>\n<text text-anchor=\"start\" x=\"1639.5\" y=\"-647.8\" font-family=\"Helvetica,sans-Serif\" font-size=\"14.00\" fill=\"#000000\">Age ≤ 33.5</text>\n<text text-anchor=\"start\" x=\"1636.5\" y=\"-632.8\" font-family=\"Helvetica,sans-Serif\" font-size=\"14.00\" fill=\"#000000\">gini = 0.346</text>\n<text text-anchor=\"start\" x=\"1635\" y=\"-617.8\" font-family=\"Helvetica,sans-Serif\" font-size=\"14.00\" fill=\"#000000\">samples = 9</text>\n<text text-anchor=\"start\" x=\"1633\" y=\"-602.8\" font-family=\"Helvetica,sans-Serif\" font-size=\"14.00\" fill=\"#000000\">value = [2, 7]</text>\n<text text-anchor=\"start\" x=\"1610.5\" y=\"-587.8\" font-family=\"Helvetica,sans-Serif\" font-size=\"14.00\" fill=\"#000000\">class = DIABÉTICO</text>\n</g>\n<!-- 37&#45;&gt;47 -->\n<g id=\"edge47\" class=\"edge\">\n<title>37&#45;&gt;47</title>\n<path fill=\"none\" stroke=\"#000000\" d=\"M1674.5,-698.8796C1674.5,-690.6838 1674.5,-681.9891 1674.5,-673.5013\"/>\n<polygon fill=\"#000000\" stroke=\"#000000\" points=\"1678.0001,-673.298 1674.5,-663.2981 1671.0001,-673.2981 1678.0001,-673.298\"/>\n</g>\n<!-- 39 -->\n<g id=\"node40\" class=\"node\">\n<title>39</title>\n<path fill=\"#399de5\" stroke=\"#000000\" d=\"M1288.5,-536.5C1288.5,-536.5 1168.5,-536.5 1168.5,-536.5 1162.5,-536.5 1156.5,-530.5 1156.5,-524.5 1156.5,-524.5 1156.5,-480.5 1156.5,-480.5 1156.5,-474.5 1162.5,-468.5 1168.5,-468.5 1168.5,-468.5 1288.5,-468.5 1288.5,-468.5 1294.5,-468.5 1300.5,-474.5 1300.5,-480.5 1300.5,-480.5 1300.5,-524.5 1300.5,-524.5 1300.5,-530.5 1294.5,-536.5 1288.5,-536.5\"/>\n<text text-anchor=\"start\" x=\"1199\" y=\"-521.3\" font-family=\"Helvetica,sans-Serif\" font-size=\"14.00\" fill=\"#000000\">gini = 0.0</text>\n<text text-anchor=\"start\" x=\"1189\" y=\"-506.3\" font-family=\"Helvetica,sans-Serif\" font-size=\"14.00\" fill=\"#000000\">samples = 1</text>\n<text text-anchor=\"start\" x=\"1187\" y=\"-491.3\" font-family=\"Helvetica,sans-Serif\" font-size=\"14.00\" fill=\"#000000\">value = [0, 1]</text>\n<text text-anchor=\"start\" x=\"1164.5\" y=\"-476.3\" font-family=\"Helvetica,sans-Serif\" font-size=\"14.00\" fill=\"#000000\">class = DIABÉTICO</text>\n</g>\n<!-- 38&#45;&gt;39 -->\n<g id=\"edge39\" class=\"edge\">\n<title>38&#45;&gt;39</title>\n<path fill=\"none\" stroke=\"#000000\" d=\"M1345.5447,-579.8796C1327.1616,-567.7263 1307.1189,-554.4759 1288.8979,-542.4297\"/>\n<polygon fill=\"#000000\" stroke=\"#000000\" points=\"1290.3867,-539.2183 1280.1147,-536.623 1286.5263,-545.0576 1290.3867,-539.2183\"/>\n</g>\n<!-- 40 -->\n<g id=\"node41\" class=\"node\">\n<title>40</title>\n<path fill=\"#e99355\" stroke=\"#000000\" d=\"M1486,-544C1486,-544 1331,-544 1331,-544 1325,-544 1319,-538 1319,-532 1319,-532 1319,-473 1319,-473 1319,-467 1325,-461 1331,-461 1331,-461 1486,-461 1486,-461 1492,-461 1498,-467 1498,-473 1498,-473 1498,-532 1498,-532 1498,-538 1492,-544 1486,-544\"/>\n<text text-anchor=\"start\" x=\"1359.5\" y=\"-528.8\" font-family=\"Helvetica,sans-Serif\" font-size=\"14.00\" fill=\"#000000\">Glucose ≤ 97.0</text>\n<text text-anchor=\"start\" x=\"1370.5\" y=\"-513.8\" font-family=\"Helvetica,sans-Serif\" font-size=\"14.00\" fill=\"#000000\">gini = 0.219</text>\n<text text-anchor=\"start\" x=\"1364.5\" y=\"-498.8\" font-family=\"Helvetica,sans-Serif\" font-size=\"14.00\" fill=\"#000000\">samples = 16</text>\n<text text-anchor=\"start\" x=\"1363\" y=\"-483.8\" font-family=\"Helvetica,sans-Serif\" font-size=\"14.00\" fill=\"#000000\">value = [14, 2]</text>\n<text text-anchor=\"start\" x=\"1327\" y=\"-468.8\" font-family=\"Helvetica,sans-Serif\" font-size=\"14.00\" fill=\"#000000\">class = NÃO DIABETICO</text>\n</g>\n<!-- 38&#45;&gt;40 -->\n<g id=\"edge40\" class=\"edge\">\n<title>38&#45;&gt;40</title>\n<path fill=\"none\" stroke=\"#000000\" d=\"M1408.5,-579.8796C1408.5,-571.6838 1408.5,-562.9891 1408.5,-554.5013\"/>\n<polygon fill=\"#000000\" stroke=\"#000000\" points=\"1412.0001,-554.298 1408.5,-544.2981 1405.0001,-554.2981 1412.0001,-554.298\"/>\n</g>\n<!-- 41 -->\n<g id=\"node42\" class=\"node\">\n<title>41</title>\n<path fill=\"#399de5\" stroke=\"#000000\" d=\"M1288.5,-417.5C1288.5,-417.5 1168.5,-417.5 1168.5,-417.5 1162.5,-417.5 1156.5,-411.5 1156.5,-405.5 1156.5,-405.5 1156.5,-361.5 1156.5,-361.5 1156.5,-355.5 1162.5,-349.5 1168.5,-349.5 1168.5,-349.5 1288.5,-349.5 1288.5,-349.5 1294.5,-349.5 1300.5,-355.5 1300.5,-361.5 1300.5,-361.5 1300.5,-405.5 1300.5,-405.5 1300.5,-411.5 1294.5,-417.5 1288.5,-417.5\"/>\n<text text-anchor=\"start\" x=\"1199\" y=\"-402.3\" font-family=\"Helvetica,sans-Serif\" font-size=\"14.00\" fill=\"#000000\">gini = 0.0</text>\n<text text-anchor=\"start\" x=\"1189\" y=\"-387.3\" font-family=\"Helvetica,sans-Serif\" font-size=\"14.00\" fill=\"#000000\">samples = 1</text>\n<text text-anchor=\"start\" x=\"1187\" y=\"-372.3\" font-family=\"Helvetica,sans-Serif\" font-size=\"14.00\" fill=\"#000000\">value = [0, 1]</text>\n<text text-anchor=\"start\" x=\"1164.5\" y=\"-357.3\" font-family=\"Helvetica,sans-Serif\" font-size=\"14.00\" fill=\"#000000\">class = DIABÉTICO</text>\n</g>\n<!-- 40&#45;&gt;41 -->\n<g id=\"edge41\" class=\"edge\">\n<title>40&#45;&gt;41</title>\n<path fill=\"none\" stroke=\"#000000\" d=\"M1345.5447,-460.8796C1327.1616,-448.7263 1307.1189,-435.4759 1288.8979,-423.4297\"/>\n<polygon fill=\"#000000\" stroke=\"#000000\" points=\"1290.3867,-420.2183 1280.1147,-417.623 1286.5263,-426.0576 1290.3867,-420.2183\"/>\n</g>\n<!-- 42 -->\n<g id=\"node43\" class=\"node\">\n<title>42</title>\n<path fill=\"#e78a47\" stroke=\"#000000\" d=\"M1486,-425C1486,-425 1331,-425 1331,-425 1325,-425 1319,-419 1319,-413 1319,-413 1319,-354 1319,-354 1319,-348 1325,-342 1331,-342 1331,-342 1486,-342 1486,-342 1492,-342 1498,-348 1498,-354 1498,-354 1498,-413 1498,-413 1498,-419 1492,-425 1486,-425\"/>\n<text text-anchor=\"start\" x=\"1355.5\" y=\"-409.8\" font-family=\"Helvetica,sans-Serif\" font-size=\"14.00\" fill=\"#000000\">Glucose ≤ 114.0</text>\n<text text-anchor=\"start\" x=\"1370.5\" y=\"-394.8\" font-family=\"Helvetica,sans-Serif\" font-size=\"14.00\" fill=\"#000000\">gini = 0.124</text>\n<text text-anchor=\"start\" x=\"1364.5\" y=\"-379.8\" font-family=\"Helvetica,sans-Serif\" font-size=\"14.00\" fill=\"#000000\">samples = 15</text>\n<text text-anchor=\"start\" x=\"1363\" y=\"-364.8\" font-family=\"Helvetica,sans-Serif\" font-size=\"14.00\" fill=\"#000000\">value = [14, 1]</text>\n<text text-anchor=\"start\" x=\"1327\" y=\"-349.8\" font-family=\"Helvetica,sans-Serif\" font-size=\"14.00\" fill=\"#000000\">class = NÃO DIABETICO</text>\n</g>\n<!-- 40&#45;&gt;42 -->\n<g id=\"edge42\" class=\"edge\">\n<title>40&#45;&gt;42</title>\n<path fill=\"none\" stroke=\"#000000\" d=\"M1408.5,-460.8796C1408.5,-452.6838 1408.5,-443.9891 1408.5,-435.5013\"/>\n<polygon fill=\"#000000\" stroke=\"#000000\" points=\"1412.0001,-435.298 1408.5,-425.2981 1405.0001,-435.2981 1412.0001,-435.298\"/>\n</g>\n<!-- 43 -->\n<g id=\"node44\" class=\"node\">\n<title>43</title>\n<path fill=\"#e58139\" stroke=\"#000000\" d=\"M1289,-298.5C1289,-298.5 1134,-298.5 1134,-298.5 1128,-298.5 1122,-292.5 1122,-286.5 1122,-286.5 1122,-242.5 1122,-242.5 1122,-236.5 1128,-230.5 1134,-230.5 1134,-230.5 1289,-230.5 1289,-230.5 1295,-230.5 1301,-236.5 1301,-242.5 1301,-242.5 1301,-286.5 1301,-286.5 1301,-292.5 1295,-298.5 1289,-298.5\"/>\n<text text-anchor=\"start\" x=\"1182\" y=\"-283.3\" font-family=\"Helvetica,sans-Serif\" font-size=\"14.00\" fill=\"#000000\">gini = 0.0</text>\n<text text-anchor=\"start\" x=\"1167.5\" y=\"-268.3\" font-family=\"Helvetica,sans-Serif\" font-size=\"14.00\" fill=\"#000000\">samples = 10</text>\n<text text-anchor=\"start\" x=\"1166\" y=\"-253.3\" font-family=\"Helvetica,sans-Serif\" font-size=\"14.00\" fill=\"#000000\">value = [10, 0]</text>\n<text text-anchor=\"start\" x=\"1130\" y=\"-238.3\" font-family=\"Helvetica,sans-Serif\" font-size=\"14.00\" fill=\"#000000\">class = NÃO DIABETICO</text>\n</g>\n<!-- 42&#45;&gt;43 -->\n<g id=\"edge43\" class=\"edge\">\n<title>42&#45;&gt;43</title>\n<path fill=\"none\" stroke=\"#000000\" d=\"M1339.599,-341.8796C1319.2053,-329.5606 1296.9455,-316.1143 1276.7875,-303.9376\"/>\n<polygon fill=\"#000000\" stroke=\"#000000\" points=\"1278.3587,-300.7977 1267.9894,-298.623 1274.7393,-306.7894 1278.3587,-300.7977\"/>\n</g>\n<!-- 44 -->\n<g id=\"node45\" class=\"node\">\n<title>44</title>\n<path fill=\"#eca06a\" stroke=\"#000000\" d=\"M1486,-306C1486,-306 1331,-306 1331,-306 1325,-306 1319,-300 1319,-294 1319,-294 1319,-235 1319,-235 1319,-229 1325,-223 1331,-223 1331,-223 1486,-223 1486,-223 1492,-223 1498,-229 1498,-235 1498,-235 1498,-294 1498,-294 1498,-300 1492,-306 1486,-306\"/>\n<text text-anchor=\"start\" x=\"1355.5\" y=\"-290.8\" font-family=\"Helvetica,sans-Serif\" font-size=\"14.00\" fill=\"#000000\">Glucose ≤ 118.5</text>\n<text text-anchor=\"start\" x=\"1375\" y=\"-275.8\" font-family=\"Helvetica,sans-Serif\" font-size=\"14.00\" fill=\"#000000\">gini = 0.32</text>\n<text text-anchor=\"start\" x=\"1369\" y=\"-260.8\" font-family=\"Helvetica,sans-Serif\" font-size=\"14.00\" fill=\"#000000\">samples = 5</text>\n<text text-anchor=\"start\" x=\"1367\" y=\"-245.8\" font-family=\"Helvetica,sans-Serif\" font-size=\"14.00\" fill=\"#000000\">value = [4, 1]</text>\n<text text-anchor=\"start\" x=\"1327\" y=\"-230.8\" font-family=\"Helvetica,sans-Serif\" font-size=\"14.00\" fill=\"#000000\">class = NÃO DIABETICO</text>\n</g>\n<!-- 42&#45;&gt;44 -->\n<g id=\"edge44\" class=\"edge\">\n<title>42&#45;&gt;44</title>\n<path fill=\"none\" stroke=\"#000000\" d=\"M1408.5,-341.8796C1408.5,-333.6838 1408.5,-324.9891 1408.5,-316.5013\"/>\n<polygon fill=\"#000000\" stroke=\"#000000\" points=\"1412.0001,-316.298 1408.5,-306.2981 1405.0001,-316.2981 1412.0001,-316.298\"/>\n</g>\n<!-- 45 -->\n<g id=\"node46\" class=\"node\">\n<title>45</title>\n<path fill=\"#399de5\" stroke=\"#000000\" d=\"M1378.5,-179.5C1378.5,-179.5 1258.5,-179.5 1258.5,-179.5 1252.5,-179.5 1246.5,-173.5 1246.5,-167.5 1246.5,-167.5 1246.5,-123.5 1246.5,-123.5 1246.5,-117.5 1252.5,-111.5 1258.5,-111.5 1258.5,-111.5 1378.5,-111.5 1378.5,-111.5 1384.5,-111.5 1390.5,-117.5 1390.5,-123.5 1390.5,-123.5 1390.5,-167.5 1390.5,-167.5 1390.5,-173.5 1384.5,-179.5 1378.5,-179.5\"/>\n<text text-anchor=\"start\" x=\"1289\" y=\"-164.3\" font-family=\"Helvetica,sans-Serif\" font-size=\"14.00\" fill=\"#000000\">gini = 0.0</text>\n<text text-anchor=\"start\" x=\"1279\" y=\"-149.3\" font-family=\"Helvetica,sans-Serif\" font-size=\"14.00\" fill=\"#000000\">samples = 1</text>\n<text text-anchor=\"start\" x=\"1277\" y=\"-134.3\" font-family=\"Helvetica,sans-Serif\" font-size=\"14.00\" fill=\"#000000\">value = [0, 1]</text>\n<text text-anchor=\"start\" x=\"1254.5\" y=\"-119.3\" font-family=\"Helvetica,sans-Serif\" font-size=\"14.00\" fill=\"#000000\">class = DIABÉTICO</text>\n</g>\n<!-- 44&#45;&gt;45 -->\n<g id=\"edge45\" class=\"edge\">\n<title>44&#45;&gt;45</title>\n<path fill=\"none\" stroke=\"#000000\" d=\"M1377.0224,-222.8796C1368.4565,-211.5536 1359.17,-199.2748 1350.5717,-187.9058\"/>\n<polygon fill=\"#000000\" stroke=\"#000000\" points=\"1353.2762,-185.6795 1344.4525,-179.8149 1347.6931,-189.902 1353.2762,-185.6795\"/>\n</g>\n<!-- 46 -->\n<g id=\"node47\" class=\"node\">\n<title>46</title>\n<path fill=\"#e58139\" stroke=\"#000000\" d=\"M1576,-179.5C1576,-179.5 1421,-179.5 1421,-179.5 1415,-179.5 1409,-173.5 1409,-167.5 1409,-167.5 1409,-123.5 1409,-123.5 1409,-117.5 1415,-111.5 1421,-111.5 1421,-111.5 1576,-111.5 1576,-111.5 1582,-111.5 1588,-117.5 1588,-123.5 1588,-123.5 1588,-167.5 1588,-167.5 1588,-173.5 1582,-179.5 1576,-179.5\"/>\n<text text-anchor=\"start\" x=\"1469\" y=\"-164.3\" font-family=\"Helvetica,sans-Serif\" font-size=\"14.00\" fill=\"#000000\">gini = 0.0</text>\n<text text-anchor=\"start\" x=\"1459\" y=\"-149.3\" font-family=\"Helvetica,sans-Serif\" font-size=\"14.00\" fill=\"#000000\">samples = 4</text>\n<text text-anchor=\"start\" x=\"1457\" y=\"-134.3\" font-family=\"Helvetica,sans-Serif\" font-size=\"14.00\" fill=\"#000000\">value = [4, 0]</text>\n<text text-anchor=\"start\" x=\"1417\" y=\"-119.3\" font-family=\"Helvetica,sans-Serif\" font-size=\"14.00\" fill=\"#000000\">class = NÃO DIABETICO</text>\n</g>\n<!-- 44&#45;&gt;46 -->\n<g id=\"edge46\" class=\"edge\">\n<title>44&#45;&gt;46</title>\n<path fill=\"none\" stroke=\"#000000\" d=\"M1439.9776,-222.8796C1448.5435,-211.5536 1457.83,-199.2748 1466.4283,-187.9058\"/>\n<polygon fill=\"#000000\" stroke=\"#000000\" points=\"1469.3069,-189.902 1472.5475,-179.8149 1463.7238,-185.6795 1469.3069,-189.902\"/>\n</g>\n<!-- 48 -->\n<g id=\"node49\" class=\"node\">\n<title>48</title>\n<path fill=\"#399de5\" stroke=\"#000000\" d=\"M1719.5,-536.5C1719.5,-536.5 1599.5,-536.5 1599.5,-536.5 1593.5,-536.5 1587.5,-530.5 1587.5,-524.5 1587.5,-524.5 1587.5,-480.5 1587.5,-480.5 1587.5,-474.5 1593.5,-468.5 1599.5,-468.5 1599.5,-468.5 1719.5,-468.5 1719.5,-468.5 1725.5,-468.5 1731.5,-474.5 1731.5,-480.5 1731.5,-480.5 1731.5,-524.5 1731.5,-524.5 1731.5,-530.5 1725.5,-536.5 1719.5,-536.5\"/>\n<text text-anchor=\"start\" x=\"1630\" y=\"-521.3\" font-family=\"Helvetica,sans-Serif\" font-size=\"14.00\" fill=\"#000000\">gini = 0.0</text>\n<text text-anchor=\"start\" x=\"1620\" y=\"-506.3\" font-family=\"Helvetica,sans-Serif\" font-size=\"14.00\" fill=\"#000000\">samples = 7</text>\n<text text-anchor=\"start\" x=\"1618\" y=\"-491.3\" font-family=\"Helvetica,sans-Serif\" font-size=\"14.00\" fill=\"#000000\">value = [0, 7]</text>\n<text text-anchor=\"start\" x=\"1595.5\" y=\"-476.3\" font-family=\"Helvetica,sans-Serif\" font-size=\"14.00\" fill=\"#000000\">class = DIABÉTICO</text>\n</g>\n<!-- 47&#45;&gt;48 -->\n<g id=\"edge48\" class=\"edge\">\n<title>47&#45;&gt;48</title>\n<path fill=\"none\" stroke=\"#000000\" d=\"M1669.2537,-579.8796C1667.9092,-569.2134 1666.4582,-557.7021 1665.0968,-546.9015\"/>\n<polygon fill=\"#000000\" stroke=\"#000000\" points=\"1668.5486,-546.2987 1663.8254,-536.8149 1661.6036,-547.1742 1668.5486,-546.2987\"/>\n</g>\n<!-- 49 -->\n<g id=\"node50\" class=\"node\">\n<title>49</title>\n<path fill=\"#e58139\" stroke=\"#000000\" d=\"M1917,-536.5C1917,-536.5 1762,-536.5 1762,-536.5 1756,-536.5 1750,-530.5 1750,-524.5 1750,-524.5 1750,-480.5 1750,-480.5 1750,-474.5 1756,-468.5 1762,-468.5 1762,-468.5 1917,-468.5 1917,-468.5 1923,-468.5 1929,-474.5 1929,-480.5 1929,-480.5 1929,-524.5 1929,-524.5 1929,-530.5 1923,-536.5 1917,-536.5\"/>\n<text text-anchor=\"start\" x=\"1810\" y=\"-521.3\" font-family=\"Helvetica,sans-Serif\" font-size=\"14.00\" fill=\"#000000\">gini = 0.0</text>\n<text text-anchor=\"start\" x=\"1800\" y=\"-506.3\" font-family=\"Helvetica,sans-Serif\" font-size=\"14.00\" fill=\"#000000\">samples = 2</text>\n<text text-anchor=\"start\" x=\"1798\" y=\"-491.3\" font-family=\"Helvetica,sans-Serif\" font-size=\"14.00\" fill=\"#000000\">value = [2, 0]</text>\n<text text-anchor=\"start\" x=\"1758\" y=\"-476.3\" font-family=\"Helvetica,sans-Serif\" font-size=\"14.00\" fill=\"#000000\">class = NÃO DIABETICO</text>\n</g>\n<!-- 47&#45;&gt;49 -->\n<g id=\"edge49\" class=\"edge\">\n<title>47&#45;&gt;49</title>\n<path fill=\"none\" stroke=\"#000000\" d=\"M1732.209,-579.8796C1748.907,-567.8368 1767.0987,-554.7167 1783.6793,-542.7586\"/>\n<polygon fill=\"#000000\" stroke=\"#000000\" points=\"1786.1232,-545.3113 1792.1865,-536.623 1782.0285,-539.6339 1786.1232,-545.3113\"/>\n</g>\n<!-- 51 -->\n<g id=\"node52\" class=\"node\">\n<title>51</title>\n<path fill=\"#399de5\" stroke=\"#000000\" d=\"M1915.5,-655.5C1915.5,-655.5 1795.5,-655.5 1795.5,-655.5 1789.5,-655.5 1783.5,-649.5 1783.5,-643.5 1783.5,-643.5 1783.5,-599.5 1783.5,-599.5 1783.5,-593.5 1789.5,-587.5 1795.5,-587.5 1795.5,-587.5 1915.5,-587.5 1915.5,-587.5 1921.5,-587.5 1927.5,-593.5 1927.5,-599.5 1927.5,-599.5 1927.5,-643.5 1927.5,-643.5 1927.5,-649.5 1921.5,-655.5 1915.5,-655.5\"/>\n<text text-anchor=\"start\" x=\"1826\" y=\"-640.3\" font-family=\"Helvetica,sans-Serif\" font-size=\"14.00\" fill=\"#000000\">gini = 0.0</text>\n<text text-anchor=\"start\" x=\"1816\" y=\"-625.3\" font-family=\"Helvetica,sans-Serif\" font-size=\"14.00\" fill=\"#000000\">samples = 7</text>\n<text text-anchor=\"start\" x=\"1814\" y=\"-610.3\" font-family=\"Helvetica,sans-Serif\" font-size=\"14.00\" fill=\"#000000\">value = [0, 7]</text>\n<text text-anchor=\"start\" x=\"1791.5\" y=\"-595.3\" font-family=\"Helvetica,sans-Serif\" font-size=\"14.00\" fill=\"#000000\">class = DIABÉTICO</text>\n</g>\n<!-- 50&#45;&gt;51 -->\n<g id=\"edge51\" class=\"edge\">\n<title>50&#45;&gt;51</title>\n<path fill=\"none\" stroke=\"#000000\" d=\"M1860.0517,-698.8796C1859.4243,-688.2134 1858.7472,-676.7021 1858.1119,-665.9015\"/>\n<polygon fill=\"#000000\" stroke=\"#000000\" points=\"1861.5998,-665.5921 1857.5185,-655.8149 1854.6119,-666.0032 1861.5998,-665.5921\"/>\n</g>\n<!-- 52 -->\n<g id=\"node53\" class=\"node\">\n<title>52</title>\n<path fill=\"#e58139\" stroke=\"#000000\" d=\"M2113,-655.5C2113,-655.5 1958,-655.5 1958,-655.5 1952,-655.5 1946,-649.5 1946,-643.5 1946,-643.5 1946,-599.5 1946,-599.5 1946,-593.5 1952,-587.5 1958,-587.5 1958,-587.5 2113,-587.5 2113,-587.5 2119,-587.5 2125,-593.5 2125,-599.5 2125,-599.5 2125,-643.5 2125,-643.5 2125,-649.5 2119,-655.5 2113,-655.5\"/>\n<text text-anchor=\"start\" x=\"2006\" y=\"-640.3\" font-family=\"Helvetica,sans-Serif\" font-size=\"14.00\" fill=\"#000000\">gini = 0.0</text>\n<text text-anchor=\"start\" x=\"1996\" y=\"-625.3\" font-family=\"Helvetica,sans-Serif\" font-size=\"14.00\" fill=\"#000000\">samples = 1</text>\n<text text-anchor=\"start\" x=\"1994\" y=\"-610.3\" font-family=\"Helvetica,sans-Serif\" font-size=\"14.00\" fill=\"#000000\">value = [1, 0]</text>\n<text text-anchor=\"start\" x=\"1954\" y=\"-595.3\" font-family=\"Helvetica,sans-Serif\" font-size=\"14.00\" fill=\"#000000\">class = NÃO DIABETICO</text>\n</g>\n<!-- 50&#45;&gt;52 -->\n<g id=\"edge52\" class=\"edge\">\n<title>50&#45;&gt;52</title>\n<path fill=\"none\" stroke=\"#000000\" d=\"M1923.007,-698.8796C1940.6752,-686.7263 1959.9385,-673.4759 1977.4509,-661.4297\"/>\n<polygon fill=\"#000000\" stroke=\"#000000\" points=\"1979.6371,-664.1741 1985.8926,-655.623 1975.6699,-658.4067 1979.6371,-664.1741\"/>\n</g>\n<!-- 54 -->\n<g id=\"node55\" class=\"node\">\n<title>54</title>\n<path fill=\"#e58139\" stroke=\"#000000\" d=\"M2123,-774.5C2123,-774.5 1968,-774.5 1968,-774.5 1962,-774.5 1956,-768.5 1956,-762.5 1956,-762.5 1956,-718.5 1956,-718.5 1956,-712.5 1962,-706.5 1968,-706.5 1968,-706.5 2123,-706.5 2123,-706.5 2129,-706.5 2135,-712.5 2135,-718.5 2135,-718.5 2135,-762.5 2135,-762.5 2135,-768.5 2129,-774.5 2123,-774.5\"/>\n<text text-anchor=\"start\" x=\"2016\" y=\"-759.3\" font-family=\"Helvetica,sans-Serif\" font-size=\"14.00\" fill=\"#000000\">gini = 0.0</text>\n<text text-anchor=\"start\" x=\"2006\" y=\"-744.3\" font-family=\"Helvetica,sans-Serif\" font-size=\"14.00\" fill=\"#000000\">samples = 2</text>\n<text text-anchor=\"start\" x=\"2004\" y=\"-729.3\" font-family=\"Helvetica,sans-Serif\" font-size=\"14.00\" fill=\"#000000\">value = [2, 0]</text>\n<text text-anchor=\"start\" x=\"1964\" y=\"-714.3\" font-family=\"Helvetica,sans-Serif\" font-size=\"14.00\" fill=\"#000000\">class = NÃO DIABETICO</text>\n</g>\n<!-- 53&#45;&gt;54 -->\n<g id=\"edge54\" class=\"edge\">\n<title>53&#45;&gt;54</title>\n<path fill=\"none\" stroke=\"#000000\" d=\"M2047.4507,-817.8796C2047.1818,-807.2134 2046.8916,-795.7021 2046.6194,-784.9015\"/>\n<polygon fill=\"#000000\" stroke=\"#000000\" points=\"2050.1161,-784.7235 2046.3651,-774.8149 2043.1183,-784.9 2050.1161,-784.7235\"/>\n</g>\n<!-- 55 -->\n<g id=\"node56\" class=\"node\">\n<title>55</title>\n<path fill=\"#72b9ed\" stroke=\"#000000\" d=\"M2296,-782C2296,-782 2165,-782 2165,-782 2159,-782 2153,-776 2153,-770 2153,-770 2153,-711 2153,-711 2153,-705 2159,-699 2165,-699 2165,-699 2296,-699 2296,-699 2302,-699 2308,-705 2308,-711 2308,-711 2308,-770 2308,-770 2308,-776 2302,-782 2296,-782\"/>\n<text text-anchor=\"start\" x=\"2161\" y=\"-766.8\" font-family=\"Helvetica,sans-Serif\" font-size=\"14.00\" fill=\"#000000\">SkinThickness ≤ 39.5</text>\n<text text-anchor=\"start\" x=\"2192.5\" y=\"-751.8\" font-family=\"Helvetica,sans-Serif\" font-size=\"14.00\" fill=\"#000000\">gini = 0.349</text>\n<text text-anchor=\"start\" x=\"2186.5\" y=\"-736.8\" font-family=\"Helvetica,sans-Serif\" font-size=\"14.00\" fill=\"#000000\">samples = 40</text>\n<text text-anchor=\"start\" x=\"2185\" y=\"-721.8\" font-family=\"Helvetica,sans-Serif\" font-size=\"14.00\" fill=\"#000000\">value = [9, 31]</text>\n<text text-anchor=\"start\" x=\"2166.5\" y=\"-706.8\" font-family=\"Helvetica,sans-Serif\" font-size=\"14.00\" fill=\"#000000\">class = DIABÉTICO</text>\n</g>\n<!-- 53&#45;&gt;55 -->\n<g id=\"edge55\" class=\"edge\">\n<title>53&#45;&gt;55</title>\n<path fill=\"none\" stroke=\"#000000\" d=\"M2112.1548,-817.8796C2127.1176,-808.0962 2143.1677,-797.6019 2158.4691,-787.5971\"/>\n<polygon fill=\"#000000\" stroke=\"#000000\" points=\"2160.4269,-790.4989 2166.8812,-782.0969 2156.5961,-784.6401 2160.4269,-790.4989\"/>\n</g>\n<!-- 56 -->\n<g id=\"node57\" class=\"node\">\n<title>56</title>\n<path fill=\"#62b1ea\" stroke=\"#000000\" d=\"M2280.5,-663C2280.5,-663 2160.5,-663 2160.5,-663 2154.5,-663 2148.5,-657 2148.5,-651 2148.5,-651 2148.5,-592 2148.5,-592 2148.5,-586 2154.5,-580 2160.5,-580 2160.5,-580 2280.5,-580 2280.5,-580 2286.5,-580 2292.5,-586 2292.5,-592 2292.5,-592 2292.5,-651 2292.5,-651 2292.5,-657 2286.5,-663 2280.5,-663\"/>\n<text text-anchor=\"start\" x=\"2185.5\" y=\"-647.8\" font-family=\"Helvetica,sans-Serif\" font-size=\"14.00\" fill=\"#000000\">Age ≤ 53.0</text>\n<text text-anchor=\"start\" x=\"2182.5\" y=\"-632.8\" font-family=\"Helvetica,sans-Serif\" font-size=\"14.00\" fill=\"#000000\">gini = 0.284</text>\n<text text-anchor=\"start\" x=\"2176.5\" y=\"-617.8\" font-family=\"Helvetica,sans-Serif\" font-size=\"14.00\" fill=\"#000000\">samples = 35</text>\n<text text-anchor=\"start\" x=\"2175\" y=\"-602.8\" font-family=\"Helvetica,sans-Serif\" font-size=\"14.00\" fill=\"#000000\">value = [6, 29]</text>\n<text text-anchor=\"start\" x=\"2156.5\" y=\"-587.8\" font-family=\"Helvetica,sans-Serif\" font-size=\"14.00\" fill=\"#000000\">class = DIABÉTICO</text>\n</g>\n<!-- 55&#45;&gt;56 -->\n<g id=\"edge56\" class=\"edge\">\n<title>55&#45;&gt;56</title>\n<path fill=\"none\" stroke=\"#000000\" d=\"M2227.0025,-698.8796C2226.3138,-690.6838 2225.5831,-681.9891 2224.8699,-673.5013\"/>\n<polygon fill=\"#000000\" stroke=\"#000000\" points=\"2228.3376,-672.9698 2224.0124,-663.2981 2221.3622,-673.5561 2228.3376,-672.9698\"/>\n</g>\n<!-- 73 -->\n<g id=\"node74\" class=\"node\">\n<title>73</title>\n<path fill=\"#f6d5bd\" stroke=\"#000000\" d=\"M2495,-663C2495,-663 2340,-663 2340,-663 2334,-663 2328,-657 2328,-651 2328,-651 2328,-592 2328,-592 2328,-586 2334,-580 2340,-580 2340,-580 2495,-580 2495,-580 2501,-580 2507,-586 2507,-592 2507,-592 2507,-651 2507,-651 2507,-657 2501,-663 2495,-663\"/>\n<text text-anchor=\"start\" x=\"2370.5\" y=\"-647.8\" font-family=\"Helvetica,sans-Serif\" font-size=\"14.00\" fill=\"#000000\">Insulin ≤ 203.5</text>\n<text text-anchor=\"start\" x=\"2384\" y=\"-632.8\" font-family=\"Helvetica,sans-Serif\" font-size=\"14.00\" fill=\"#000000\">gini = 0.48</text>\n<text text-anchor=\"start\" x=\"2378\" y=\"-617.8\" font-family=\"Helvetica,sans-Serif\" font-size=\"14.00\" fill=\"#000000\">samples = 5</text>\n<text text-anchor=\"start\" x=\"2376\" y=\"-602.8\" font-family=\"Helvetica,sans-Serif\" font-size=\"14.00\" fill=\"#000000\">value = [3, 2]</text>\n<text text-anchor=\"start\" x=\"2336\" y=\"-587.8\" font-family=\"Helvetica,sans-Serif\" font-size=\"14.00\" fill=\"#000000\">class = NÃO DIABETICO</text>\n</g>\n<!-- 55&#45;&gt;73 -->\n<g id=\"edge73\" class=\"edge\">\n<title>55&#45;&gt;73</title>\n<path fill=\"none\" stroke=\"#000000\" d=\"M2295.9035,-698.8796C2311.2774,-689.0962 2327.7685,-678.6019 2343.4902,-668.5971\"/>\n<polygon fill=\"#000000\" stroke=\"#000000\" points=\"2345.5759,-671.4185 2352.1334,-663.0969 2341.8177,-665.5129 2345.5759,-671.4185\"/>\n</g>\n<!-- 57 -->\n<g id=\"node58\" class=\"node\">\n<title>57</title>\n<path fill=\"#4fa8e8\" stroke=\"#000000\" d=\"M2093.5,-544C2093.5,-544 1973.5,-544 1973.5,-544 1967.5,-544 1961.5,-538 1961.5,-532 1961.5,-532 1961.5,-473 1961.5,-473 1961.5,-467 1967.5,-461 1973.5,-461 1973.5,-461 2093.5,-461 2093.5,-461 2099.5,-461 2105.5,-467 2105.5,-473 2105.5,-473 2105.5,-532 2105.5,-532 2105.5,-538 2099.5,-544 2093.5,-544\"/>\n<text text-anchor=\"start\" x=\"1984.5\" y=\"-528.8\" font-family=\"Helvetica,sans-Serif\" font-size=\"14.00\" fill=\"#000000\">Glucose ≤ 95.5</text>\n<text text-anchor=\"start\" x=\"2000\" y=\"-513.8\" font-family=\"Helvetica,sans-Serif\" font-size=\"14.00\" fill=\"#000000\">gini = 0.18</text>\n<text text-anchor=\"start\" x=\"1989.5\" y=\"-498.8\" font-family=\"Helvetica,sans-Serif\" font-size=\"14.00\" fill=\"#000000\">samples = 30</text>\n<text text-anchor=\"start\" x=\"1988\" y=\"-483.8\" font-family=\"Helvetica,sans-Serif\" font-size=\"14.00\" fill=\"#000000\">value = [3, 27]</text>\n<text text-anchor=\"start\" x=\"1969.5\" y=\"-468.8\" font-family=\"Helvetica,sans-Serif\" font-size=\"14.00\" fill=\"#000000\">class = DIABÉTICO</text>\n</g>\n<!-- 56&#45;&gt;57 -->\n<g id=\"edge57\" class=\"edge\">\n<title>56&#45;&gt;57</title>\n<path fill=\"none\" stroke=\"#000000\" d=\"M2155.0965,-579.8796C2139.7226,-570.0962 2123.2315,-559.6019 2107.5098,-549.5971\"/>\n<polygon fill=\"#000000\" stroke=\"#000000\" points=\"2109.1823,-546.5129 2098.8666,-544.0969 2105.4241,-552.4185 2109.1823,-546.5129\"/>\n</g>\n<!-- 68 -->\n<g id=\"node69\" class=\"node\">\n<title>68</title>\n<path fill=\"#f6d5bd\" stroke=\"#000000\" d=\"M2298,-544C2298,-544 2143,-544 2143,-544 2137,-544 2131,-538 2131,-532 2131,-532 2131,-473 2131,-473 2131,-467 2137,-461 2143,-461 2143,-461 2298,-461 2298,-461 2304,-461 2310,-467 2310,-473 2310,-473 2310,-532 2310,-532 2310,-538 2304,-544 2298,-544\"/>\n<text text-anchor=\"start\" x=\"2161.5\" y=\"-528.8\" font-family=\"Helvetica,sans-Serif\" font-size=\"14.00\" fill=\"#000000\">Pregnancies ≤ 7.0</text>\n<text text-anchor=\"start\" x=\"2187\" y=\"-513.8\" font-family=\"Helvetica,sans-Serif\" font-size=\"14.00\" fill=\"#000000\">gini = 0.48</text>\n<text text-anchor=\"start\" x=\"2181\" y=\"-498.8\" font-family=\"Helvetica,sans-Serif\" font-size=\"14.00\" fill=\"#000000\">samples = 5</text>\n<text text-anchor=\"start\" x=\"2179\" y=\"-483.8\" font-family=\"Helvetica,sans-Serif\" font-size=\"14.00\" fill=\"#000000\">value = [3, 2]</text>\n<text text-anchor=\"start\" x=\"2139\" y=\"-468.8\" font-family=\"Helvetica,sans-Serif\" font-size=\"14.00\" fill=\"#000000\">class = NÃO DIABETICO</text>\n</g>\n<!-- 56&#45;&gt;68 -->\n<g id=\"edge68\" class=\"edge\">\n<title>56&#45;&gt;68</title>\n<path fill=\"none\" stroke=\"#000000\" d=\"M2220.5,-579.8796C2220.5,-571.6838 2220.5,-562.9891 2220.5,-554.5013\"/>\n<polygon fill=\"#000000\" stroke=\"#000000\" points=\"2224.0001,-554.298 2220.5,-544.2981 2217.0001,-554.2981 2224.0001,-554.298\"/>\n</g>\n<!-- 58 -->\n<g id=\"node59\" class=\"node\">\n<title>58</title>\n<path fill=\"#ffffff\" stroke=\"#000000\" d=\"M1863,-425C1863,-425 1708,-425 1708,-425 1702,-425 1696,-419 1696,-413 1696,-413 1696,-354 1696,-354 1696,-348 1702,-342 1708,-342 1708,-342 1863,-342 1863,-342 1869,-342 1875,-348 1875,-354 1875,-354 1875,-413 1875,-413 1875,-419 1869,-425 1863,-425\"/>\n<text text-anchor=\"start\" x=\"1750.5\" y=\"-409.8\" font-family=\"Helvetica,sans-Serif\" font-size=\"14.00\" fill=\"#000000\">Age ≤ 42.5</text>\n<text text-anchor=\"start\" x=\"1756\" y=\"-394.8\" font-family=\"Helvetica,sans-Serif\" font-size=\"14.00\" fill=\"#000000\">gini = 0.5</text>\n<text text-anchor=\"start\" x=\"1746\" y=\"-379.8\" font-family=\"Helvetica,sans-Serif\" font-size=\"14.00\" fill=\"#000000\">samples = 2</text>\n<text text-anchor=\"start\" x=\"1744\" y=\"-364.8\" font-family=\"Helvetica,sans-Serif\" font-size=\"14.00\" fill=\"#000000\">value = [1, 1]</text>\n<text text-anchor=\"start\" x=\"1704\" y=\"-349.8\" font-family=\"Helvetica,sans-Serif\" font-size=\"14.00\" fill=\"#000000\">class = NÃO DIABETICO</text>\n</g>\n<!-- 57&#45;&gt;58 -->\n<g id=\"edge58\" class=\"edge\">\n<title>57&#45;&gt;58</title>\n<path fill=\"none\" stroke=\"#000000\" d=\"M1961.435,-467.9204C1936.4887,-455.9502 1908.1196,-442.3376 1881.5554,-429.5911\"/>\n<polygon fill=\"#000000\" stroke=\"#000000\" points=\"1882.7731,-426.2934 1872.2431,-425.1227 1879.7448,-432.6044 1882.7731,-426.2934\"/>\n</g>\n<!-- 61 -->\n<g id=\"node62\" class=\"node\">\n<title>61</title>\n<path fill=\"#48a5e7\" stroke=\"#000000\" d=\"M2142,-425C2142,-425 1925,-425 1925,-425 1919,-425 1913,-419 1913,-413 1913,-413 1913,-354 1913,-354 1913,-348 1919,-342 1925,-342 1925,-342 2142,-342 2142,-342 2148,-342 2154,-348 2154,-354 2154,-354 2154,-413 2154,-413 2154,-419 2148,-425 2142,-425\"/>\n<text text-anchor=\"start\" x=\"1921\" y=\"-409.8\" font-family=\"Helvetica,sans-Serif\" font-size=\"14.00\" fill=\"#000000\">DiabetesPedigreeFunction ≤ 0.258</text>\n<text text-anchor=\"start\" x=\"1995.5\" y=\"-394.8\" font-family=\"Helvetica,sans-Serif\" font-size=\"14.00\" fill=\"#000000\">gini = 0.133</text>\n<text text-anchor=\"start\" x=\"1989.5\" y=\"-379.8\" font-family=\"Helvetica,sans-Serif\" font-size=\"14.00\" fill=\"#000000\">samples = 28</text>\n<text text-anchor=\"start\" x=\"1988\" y=\"-364.8\" font-family=\"Helvetica,sans-Serif\" font-size=\"14.00\" fill=\"#000000\">value = [2, 26]</text>\n<text text-anchor=\"start\" x=\"1969.5\" y=\"-349.8\" font-family=\"Helvetica,sans-Serif\" font-size=\"14.00\" fill=\"#000000\">class = DIABÉTICO</text>\n</g>\n<!-- 57&#45;&gt;61 -->\n<g id=\"edge61\" class=\"edge\">\n<title>57&#45;&gt;61</title>\n<path fill=\"none\" stroke=\"#000000\" d=\"M2033.5,-460.8796C2033.5,-452.6838 2033.5,-443.9891 2033.5,-435.5013\"/>\n<polygon fill=\"#000000\" stroke=\"#000000\" points=\"2037.0001,-435.298 2033.5,-425.2981 2030.0001,-435.2981 2037.0001,-435.298\"/>\n</g>\n<!-- 59 -->\n<g id=\"node60\" class=\"node\">\n<title>59</title>\n<path fill=\"#e58139\" stroke=\"#000000\" d=\"M1683,-298.5C1683,-298.5 1528,-298.5 1528,-298.5 1522,-298.5 1516,-292.5 1516,-286.5 1516,-286.5 1516,-242.5 1516,-242.5 1516,-236.5 1522,-230.5 1528,-230.5 1528,-230.5 1683,-230.5 1683,-230.5 1689,-230.5 1695,-236.5 1695,-242.5 1695,-242.5 1695,-286.5 1695,-286.5 1695,-292.5 1689,-298.5 1683,-298.5\"/>\n<text text-anchor=\"start\" x=\"1576\" y=\"-283.3\" font-family=\"Helvetica,sans-Serif\" font-size=\"14.00\" fill=\"#000000\">gini = 0.0</text>\n<text text-anchor=\"start\" x=\"1566\" y=\"-268.3\" font-family=\"Helvetica,sans-Serif\" font-size=\"14.00\" fill=\"#000000\">samples = 1</text>\n<text text-anchor=\"start\" x=\"1564\" y=\"-253.3\" font-family=\"Helvetica,sans-Serif\" font-size=\"14.00\" fill=\"#000000\">value = [1, 0]</text>\n<text text-anchor=\"start\" x=\"1524\" y=\"-238.3\" font-family=\"Helvetica,sans-Serif\" font-size=\"14.00\" fill=\"#000000\">class = NÃO DIABETICO</text>\n</g>\n<!-- 58&#45;&gt;59 -->\n<g id=\"edge59\" class=\"edge\">\n<title>58&#45;&gt;59</title>\n<path fill=\"none\" stroke=\"#000000\" d=\"M1722.5447,-341.8796C1704.1616,-329.7263 1684.1189,-316.4759 1665.8979,-304.4297\"/>\n<polygon fill=\"#000000\" stroke=\"#000000\" points=\"1667.3867,-301.2183 1657.1147,-298.623 1663.5263,-307.0576 1667.3867,-301.2183\"/>\n</g>\n<!-- 60 -->\n<g id=\"node61\" class=\"node\">\n<title>60</title>\n<path fill=\"#399de5\" stroke=\"#000000\" d=\"M1845.5,-298.5C1845.5,-298.5 1725.5,-298.5 1725.5,-298.5 1719.5,-298.5 1713.5,-292.5 1713.5,-286.5 1713.5,-286.5 1713.5,-242.5 1713.5,-242.5 1713.5,-236.5 1719.5,-230.5 1725.5,-230.5 1725.5,-230.5 1845.5,-230.5 1845.5,-230.5 1851.5,-230.5 1857.5,-236.5 1857.5,-242.5 1857.5,-242.5 1857.5,-286.5 1857.5,-286.5 1857.5,-292.5 1851.5,-298.5 1845.5,-298.5\"/>\n<text text-anchor=\"start\" x=\"1756\" y=\"-283.3\" font-family=\"Helvetica,sans-Serif\" font-size=\"14.00\" fill=\"#000000\">gini = 0.0</text>\n<text text-anchor=\"start\" x=\"1746\" y=\"-268.3\" font-family=\"Helvetica,sans-Serif\" font-size=\"14.00\" fill=\"#000000\">samples = 1</text>\n<text text-anchor=\"start\" x=\"1744\" y=\"-253.3\" font-family=\"Helvetica,sans-Serif\" font-size=\"14.00\" fill=\"#000000\">value = [0, 1]</text>\n<text text-anchor=\"start\" x=\"1721.5\" y=\"-238.3\" font-family=\"Helvetica,sans-Serif\" font-size=\"14.00\" fill=\"#000000\">class = DIABÉTICO</text>\n</g>\n<!-- 58&#45;&gt;60 -->\n<g id=\"edge60\" class=\"edge\">\n<title>58&#45;&gt;60</title>\n<path fill=\"none\" stroke=\"#000000\" d=\"M1785.5,-341.8796C1785.5,-331.2134 1785.5,-319.7021 1785.5,-308.9015\"/>\n<polygon fill=\"#000000\" stroke=\"#000000\" points=\"1789.0001,-308.8149 1785.5,-298.8149 1782.0001,-308.815 1789.0001,-308.8149\"/>\n</g>\n<!-- 62 -->\n<g id=\"node63\" class=\"node\">\n<title>62</title>\n<path fill=\"#6ab6ec\" stroke=\"#000000\" d=\"M2007.5,-306C2007.5,-306 1887.5,-306 1887.5,-306 1881.5,-306 1875.5,-300 1875.5,-294 1875.5,-294 1875.5,-235 1875.5,-235 1875.5,-229 1881.5,-223 1887.5,-223 1887.5,-223 2007.5,-223 2007.5,-223 2013.5,-223 2019.5,-229 2019.5,-235 2019.5,-235 2019.5,-294 2019.5,-294 2019.5,-300 2013.5,-306 2007.5,-306\"/>\n<text text-anchor=\"start\" x=\"1912.5\" y=\"-290.8\" font-family=\"Helvetica,sans-Serif\" font-size=\"14.00\" fill=\"#000000\">Age ≤ 40.5</text>\n<text text-anchor=\"start\" x=\"1914\" y=\"-275.8\" font-family=\"Helvetica,sans-Serif\" font-size=\"14.00\" fill=\"#000000\">gini = 0.32</text>\n<text text-anchor=\"start\" x=\"1903.5\" y=\"-260.8\" font-family=\"Helvetica,sans-Serif\" font-size=\"14.00\" fill=\"#000000\">samples = 10</text>\n<text text-anchor=\"start\" x=\"1906\" y=\"-245.8\" font-family=\"Helvetica,sans-Serif\" font-size=\"14.00\" fill=\"#000000\">value = [2, 8]</text>\n<text text-anchor=\"start\" x=\"1883.5\" y=\"-230.8\" font-family=\"Helvetica,sans-Serif\" font-size=\"14.00\" fill=\"#000000\">class = DIABÉTICO</text>\n</g>\n<!-- 61&#45;&gt;62 -->\n<g id=\"edge62\" class=\"edge\">\n<title>61&#45;&gt;62</title>\n<path fill=\"none\" stroke=\"#000000\" d=\"M2003.4214,-341.8796C1997.0428,-333.0534 1990.246,-323.6485 1983.6681,-314.5466\"/>\n<polygon fill=\"#000000\" stroke=\"#000000\" points=\"1986.4012,-312.353 1977.707,-306.2981 1980.7277,-316.4532 1986.4012,-312.353\"/>\n</g>\n<!-- 67 -->\n<g id=\"node68\" class=\"node\">\n<title>67</title>\n<path fill=\"#399de5\" stroke=\"#000000\" d=\"M2169.5,-298.5C2169.5,-298.5 2049.5,-298.5 2049.5,-298.5 2043.5,-298.5 2037.5,-292.5 2037.5,-286.5 2037.5,-286.5 2037.5,-242.5 2037.5,-242.5 2037.5,-236.5 2043.5,-230.5 2049.5,-230.5 2049.5,-230.5 2169.5,-230.5 2169.5,-230.5 2175.5,-230.5 2181.5,-236.5 2181.5,-242.5 2181.5,-242.5 2181.5,-286.5 2181.5,-286.5 2181.5,-292.5 2175.5,-298.5 2169.5,-298.5\"/>\n<text text-anchor=\"start\" x=\"2080\" y=\"-283.3\" font-family=\"Helvetica,sans-Serif\" font-size=\"14.00\" fill=\"#000000\">gini = 0.0</text>\n<text text-anchor=\"start\" x=\"2065.5\" y=\"-268.3\" font-family=\"Helvetica,sans-Serif\" font-size=\"14.00\" fill=\"#000000\">samples = 18</text>\n<text text-anchor=\"start\" x=\"2064\" y=\"-253.3\" font-family=\"Helvetica,sans-Serif\" font-size=\"14.00\" fill=\"#000000\">value = [0, 18]</text>\n<text text-anchor=\"start\" x=\"2045.5\" y=\"-238.3\" font-family=\"Helvetica,sans-Serif\" font-size=\"14.00\" fill=\"#000000\">class = DIABÉTICO</text>\n</g>\n<!-- 61&#45;&gt;67 -->\n<g id=\"edge67\" class=\"edge\">\n<title>61&#45;&gt;67</title>\n<path fill=\"none\" stroke=\"#000000\" d=\"M2060.0811,-341.8796C2067.174,-330.7735 2074.8521,-318.7513 2081.9937,-307.5691\"/>\n<polygon fill=\"#000000\" stroke=\"#000000\" points=\"2085.1518,-309.1267 2087.5846,-298.8149 2079.2523,-305.3589 2085.1518,-309.1267\"/>\n</g>\n<!-- 63 -->\n<g id=\"node64\" class=\"node\">\n<title>63</title>\n<path fill=\"#399de5\" stroke=\"#000000\" d=\"M1926.5,-179.5C1926.5,-179.5 1806.5,-179.5 1806.5,-179.5 1800.5,-179.5 1794.5,-173.5 1794.5,-167.5 1794.5,-167.5 1794.5,-123.5 1794.5,-123.5 1794.5,-117.5 1800.5,-111.5 1806.5,-111.5 1806.5,-111.5 1926.5,-111.5 1926.5,-111.5 1932.5,-111.5 1938.5,-117.5 1938.5,-123.5 1938.5,-123.5 1938.5,-167.5 1938.5,-167.5 1938.5,-173.5 1932.5,-179.5 1926.5,-179.5\"/>\n<text text-anchor=\"start\" x=\"1837\" y=\"-164.3\" font-family=\"Helvetica,sans-Serif\" font-size=\"14.00\" fill=\"#000000\">gini = 0.0</text>\n<text text-anchor=\"start\" x=\"1827\" y=\"-149.3\" font-family=\"Helvetica,sans-Serif\" font-size=\"14.00\" fill=\"#000000\">samples = 5</text>\n<text text-anchor=\"start\" x=\"1825\" y=\"-134.3\" font-family=\"Helvetica,sans-Serif\" font-size=\"14.00\" fill=\"#000000\">value = [0, 5]</text>\n<text text-anchor=\"start\" x=\"1802.5\" y=\"-119.3\" font-family=\"Helvetica,sans-Serif\" font-size=\"14.00\" fill=\"#000000\">class = DIABÉTICO</text>\n</g>\n<!-- 62&#45;&gt;63 -->\n<g id=\"edge63\" class=\"edge\">\n<title>62&#45;&gt;63</title>\n<path fill=\"none\" stroke=\"#000000\" d=\"M1919.1701,-222.8796C1911.5357,-211.6636 1903.2652,-199.5131 1895.5901,-188.2372\"/>\n<polygon fill=\"#000000\" stroke=\"#000000\" points=\"1898.3775,-186.1122 1889.8572,-179.8149 1892.5908,-190.0511 1898.3775,-186.1122\"/>\n</g>\n<!-- 64 -->\n<g id=\"node65\" class=\"node\">\n<title>64</title>\n<path fill=\"#bddef6\" stroke=\"#000000\" d=\"M2088.5,-187C2088.5,-187 1968.5,-187 1968.5,-187 1962.5,-187 1956.5,-181 1956.5,-175 1956.5,-175 1956.5,-116 1956.5,-116 1956.5,-110 1962.5,-104 1968.5,-104 1968.5,-104 2088.5,-104 2088.5,-104 2094.5,-104 2100.5,-110 2100.5,-116 2100.5,-116 2100.5,-175 2100.5,-175 2100.5,-181 2094.5,-187 2088.5,-187\"/>\n<text text-anchor=\"start\" x=\"1993.5\" y=\"-171.8\" font-family=\"Helvetica,sans-Serif\" font-size=\"14.00\" fill=\"#000000\">BMI ≤ 32.0</text>\n<text text-anchor=\"start\" x=\"1995\" y=\"-156.8\" font-family=\"Helvetica,sans-Serif\" font-size=\"14.00\" fill=\"#000000\">gini = 0.48</text>\n<text text-anchor=\"start\" x=\"1989\" y=\"-141.8\" font-family=\"Helvetica,sans-Serif\" font-size=\"14.00\" fill=\"#000000\">samples = 5</text>\n<text text-anchor=\"start\" x=\"1987\" y=\"-126.8\" font-family=\"Helvetica,sans-Serif\" font-size=\"14.00\" fill=\"#000000\">value = [2, 3]</text>\n<text text-anchor=\"start\" x=\"1964.5\" y=\"-111.8\" font-family=\"Helvetica,sans-Serif\" font-size=\"14.00\" fill=\"#000000\">class = DIABÉTICO</text>\n</g>\n<!-- 62&#45;&gt;64 -->\n<g id=\"edge64\" class=\"edge\">\n<title>62&#45;&gt;64</title>\n<path fill=\"none\" stroke=\"#000000\" d=\"M1975.8299,-222.8796C1981.7763,-214.1434 1988.1086,-204.8404 1994.245,-195.8253\"/>\n<polygon fill=\"#000000\" stroke=\"#000000\" points=\"1997.3156,-197.5342 2000.0492,-187.2981 1991.5289,-193.5953 1997.3156,-197.5342\"/>\n</g>\n<!-- 65 -->\n<g id=\"node66\" class=\"node\">\n<title>65</title>\n<path fill=\"#e58139\" stroke=\"#000000\" d=\"M2016,-68C2016,-68 1861,-68 1861,-68 1855,-68 1849,-62 1849,-56 1849,-56 1849,-12 1849,-12 1849,-6 1855,0 1861,0 1861,0 2016,0 2016,0 2022,0 2028,-6 2028,-12 2028,-12 2028,-56 2028,-56 2028,-62 2022,-68 2016,-68\"/>\n<text text-anchor=\"start\" x=\"1909\" y=\"-52.8\" font-family=\"Helvetica,sans-Serif\" font-size=\"14.00\" fill=\"#000000\">gini = 0.0</text>\n<text text-anchor=\"start\" x=\"1899\" y=\"-37.8\" font-family=\"Helvetica,sans-Serif\" font-size=\"14.00\" fill=\"#000000\">samples = 2</text>\n<text text-anchor=\"start\" x=\"1897\" y=\"-22.8\" font-family=\"Helvetica,sans-Serif\" font-size=\"14.00\" fill=\"#000000\">value = [2, 0]</text>\n<text text-anchor=\"start\" x=\"1857\" y=\"-7.8\" font-family=\"Helvetica,sans-Serif\" font-size=\"14.00\" fill=\"#000000\">class = NÃO DIABETICO</text>\n</g>\n<!-- 64&#45;&gt;65 -->\n<g id=\"edge65\" class=\"edge\">\n<title>64&#45;&gt;65</title>\n<path fill=\"none\" stroke=\"#000000\" d=\"M1994.9873,-103.9815C1987.643,-94.8828 1979.8612,-85.242 1972.4981,-76.1199\"/>\n<polygon fill=\"#000000\" stroke=\"#000000\" points=\"1975.1612,-73.8467 1966.1568,-68.2637 1969.7143,-78.2434 1975.1612,-73.8467\"/>\n</g>\n<!-- 66 -->\n<g id=\"node67\" class=\"node\">\n<title>66</title>\n<path fill=\"#399de5\" stroke=\"#000000\" d=\"M2178.5,-68C2178.5,-68 2058.5,-68 2058.5,-68 2052.5,-68 2046.5,-62 2046.5,-56 2046.5,-56 2046.5,-12 2046.5,-12 2046.5,-6 2052.5,0 2058.5,0 2058.5,0 2178.5,0 2178.5,0 2184.5,0 2190.5,-6 2190.5,-12 2190.5,-12 2190.5,-56 2190.5,-56 2190.5,-62 2184.5,-68 2178.5,-68\"/>\n<text text-anchor=\"start\" x=\"2089\" y=\"-52.8\" font-family=\"Helvetica,sans-Serif\" font-size=\"14.00\" fill=\"#000000\">gini = 0.0</text>\n<text text-anchor=\"start\" x=\"2079\" y=\"-37.8\" font-family=\"Helvetica,sans-Serif\" font-size=\"14.00\" fill=\"#000000\">samples = 3</text>\n<text text-anchor=\"start\" x=\"2077\" y=\"-22.8\" font-family=\"Helvetica,sans-Serif\" font-size=\"14.00\" fill=\"#000000\">value = [0, 3]</text>\n<text text-anchor=\"start\" x=\"2054.5\" y=\"-7.8\" font-family=\"Helvetica,sans-Serif\" font-size=\"14.00\" fill=\"#000000\">class = DIABÉTICO</text>\n</g>\n<!-- 64&#45;&gt;66 -->\n<g id=\"edge66\" class=\"edge\">\n<title>64&#45;&gt;66</title>\n<path fill=\"none\" stroke=\"#000000\" d=\"M2062.0127,-103.9815C2069.357,-94.8828 2077.1388,-85.242 2084.5019,-76.1199\"/>\n<polygon fill=\"#000000\" stroke=\"#000000\" points=\"2087.2857,-78.2434 2090.8432,-68.2637 2081.8388,-73.8467 2087.2857,-78.2434\"/>\n</g>\n<!-- 69 -->\n<g id=\"node70\" class=\"node\">\n<title>69</title>\n<path fill=\"#9ccef2\" stroke=\"#000000\" d=\"M2326.5,-425C2326.5,-425 2194.5,-425 2194.5,-425 2188.5,-425 2182.5,-419 2182.5,-413 2182.5,-413 2182.5,-354 2182.5,-354 2182.5,-348 2188.5,-342 2194.5,-342 2194.5,-342 2326.5,-342 2326.5,-342 2332.5,-342 2338.5,-348 2338.5,-354 2338.5,-354 2338.5,-413 2338.5,-413 2338.5,-419 2332.5,-425 2326.5,-425\"/>\n<text text-anchor=\"start\" x=\"2190.5\" y=\"-409.8\" font-family=\"Helvetica,sans-Serif\" font-size=\"14.00\" fill=\"#000000\">BloodPressure ≤ 88.0</text>\n<text text-anchor=\"start\" x=\"2222.5\" y=\"-394.8\" font-family=\"Helvetica,sans-Serif\" font-size=\"14.00\" fill=\"#000000\">gini = 0.444</text>\n<text text-anchor=\"start\" x=\"2221\" y=\"-379.8\" font-family=\"Helvetica,sans-Serif\" font-size=\"14.00\" fill=\"#000000\">samples = 3</text>\n<text text-anchor=\"start\" x=\"2219\" y=\"-364.8\" font-family=\"Helvetica,sans-Serif\" font-size=\"14.00\" fill=\"#000000\">value = [1, 2]</text>\n<text text-anchor=\"start\" x=\"2196.5\" y=\"-349.8\" font-family=\"Helvetica,sans-Serif\" font-size=\"14.00\" fill=\"#000000\">class = DIABÉTICO</text>\n</g>\n<!-- 68&#45;&gt;69 -->\n<g id=\"edge69\" class=\"edge\">\n<title>68&#45;&gt;69</title>\n<path fill=\"none\" stroke=\"#000000\" d=\"M2234.4901,-460.8796C2237.3055,-452.5037 2240.2961,-443.6067 2243.2086,-434.942\"/>\n<polygon fill=\"#000000\" stroke=\"#000000\" points=\"2246.5816,-435.8921 2246.4502,-425.2981 2239.9464,-433.6617 2246.5816,-435.8921\"/>\n</g>\n<!-- 72 -->\n<g id=\"node73\" class=\"node\">\n<title>72</title>\n<path fill=\"#e58139\" stroke=\"#000000\" d=\"M2524,-417.5C2524,-417.5 2369,-417.5 2369,-417.5 2363,-417.5 2357,-411.5 2357,-405.5 2357,-405.5 2357,-361.5 2357,-361.5 2357,-355.5 2363,-349.5 2369,-349.5 2369,-349.5 2524,-349.5 2524,-349.5 2530,-349.5 2536,-355.5 2536,-361.5 2536,-361.5 2536,-405.5 2536,-405.5 2536,-411.5 2530,-417.5 2524,-417.5\"/>\n<text text-anchor=\"start\" x=\"2417\" y=\"-402.3\" font-family=\"Helvetica,sans-Serif\" font-size=\"14.00\" fill=\"#000000\">gini = 0.0</text>\n<text text-anchor=\"start\" x=\"2407\" y=\"-387.3\" font-family=\"Helvetica,sans-Serif\" font-size=\"14.00\" fill=\"#000000\">samples = 2</text>\n<text text-anchor=\"start\" x=\"2405\" y=\"-372.3\" font-family=\"Helvetica,sans-Serif\" font-size=\"14.00\" fill=\"#000000\">value = [2, 0]</text>\n<text text-anchor=\"start\" x=\"2365\" y=\"-357.3\" font-family=\"Helvetica,sans-Serif\" font-size=\"14.00\" fill=\"#000000\">class = NÃO DIABETICO</text>\n</g>\n<!-- 68&#45;&gt;72 -->\n<g id=\"edge72\" class=\"edge\">\n<title>68&#45;&gt;72</title>\n<path fill=\"none\" stroke=\"#000000\" d=\"M2299.5438,-460.8796C2323.3593,-448.3396 2349.3931,-434.6315 2372.8437,-422.2836\"/>\n<polygon fill=\"#000000\" stroke=\"#000000\" points=\"2374.4773,-425.3791 2381.6949,-417.623 2371.2159,-419.1852 2374.4773,-425.3791\"/>\n</g>\n<!-- 70 -->\n<g id=\"node71\" class=\"node\">\n<title>70</title>\n<path fill=\"#399de5\" stroke=\"#000000\" d=\"M2331.5,-298.5C2331.5,-298.5 2211.5,-298.5 2211.5,-298.5 2205.5,-298.5 2199.5,-292.5 2199.5,-286.5 2199.5,-286.5 2199.5,-242.5 2199.5,-242.5 2199.5,-236.5 2205.5,-230.5 2211.5,-230.5 2211.5,-230.5 2331.5,-230.5 2331.5,-230.5 2337.5,-230.5 2343.5,-236.5 2343.5,-242.5 2343.5,-242.5 2343.5,-286.5 2343.5,-286.5 2343.5,-292.5 2337.5,-298.5 2331.5,-298.5\"/>\n<text text-anchor=\"start\" x=\"2242\" y=\"-283.3\" font-family=\"Helvetica,sans-Serif\" font-size=\"14.00\" fill=\"#000000\">gini = 0.0</text>\n<text text-anchor=\"start\" x=\"2232\" y=\"-268.3\" font-family=\"Helvetica,sans-Serif\" font-size=\"14.00\" fill=\"#000000\">samples = 2</text>\n<text text-anchor=\"start\" x=\"2230\" y=\"-253.3\" font-family=\"Helvetica,sans-Serif\" font-size=\"14.00\" fill=\"#000000\">value = [0, 2]</text>\n<text text-anchor=\"start\" x=\"2207.5\" y=\"-238.3\" font-family=\"Helvetica,sans-Serif\" font-size=\"14.00\" fill=\"#000000\">class = DIABÉTICO</text>\n</g>\n<!-- 69&#45;&gt;70 -->\n<g id=\"edge70\" class=\"edge\">\n<title>69&#45;&gt;70</title>\n<path fill=\"none\" stroke=\"#000000\" d=\"M2264.3473,-341.8796C2265.3332,-331.2134 2266.3973,-319.7021 2267.3957,-308.9015\"/>\n<polygon fill=\"#000000\" stroke=\"#000000\" points=\"2270.8926,-309.0947 2268.328,-298.8149 2263.9224,-308.4503 2270.8926,-309.0947\"/>\n</g>\n<!-- 71 -->\n<g id=\"node72\" class=\"node\">\n<title>71</title>\n<path fill=\"#e58139\" stroke=\"#000000\" d=\"M2529,-298.5C2529,-298.5 2374,-298.5 2374,-298.5 2368,-298.5 2362,-292.5 2362,-286.5 2362,-286.5 2362,-242.5 2362,-242.5 2362,-236.5 2368,-230.5 2374,-230.5 2374,-230.5 2529,-230.5 2529,-230.5 2535,-230.5 2541,-236.5 2541,-242.5 2541,-242.5 2541,-286.5 2541,-286.5 2541,-292.5 2535,-298.5 2529,-298.5\"/>\n<text text-anchor=\"start\" x=\"2422\" y=\"-283.3\" font-family=\"Helvetica,sans-Serif\" font-size=\"14.00\" fill=\"#000000\">gini = 0.0</text>\n<text text-anchor=\"start\" x=\"2412\" y=\"-268.3\" font-family=\"Helvetica,sans-Serif\" font-size=\"14.00\" fill=\"#000000\">samples = 1</text>\n<text text-anchor=\"start\" x=\"2410\" y=\"-253.3\" font-family=\"Helvetica,sans-Serif\" font-size=\"14.00\" fill=\"#000000\">value = [1, 0]</text>\n<text text-anchor=\"start\" x=\"2370\" y=\"-238.3\" font-family=\"Helvetica,sans-Serif\" font-size=\"14.00\" fill=\"#000000\">class = NÃO DIABETICO</text>\n</g>\n<!-- 69&#45;&gt;71 -->\n<g id=\"edge71\" class=\"edge\">\n<title>69&#45;&gt;71</title>\n<path fill=\"none\" stroke=\"#000000\" d=\"M2327.3025,-341.8796C2347.0751,-329.5606 2368.6569,-316.1143 2388.2009,-303.9376\"/>\n<polygon fill=\"#000000\" stroke=\"#000000\" points=\"2390.0944,-306.8817 2396.7311,-298.623 2386.3928,-300.9405 2390.0944,-306.8817\"/>\n</g>\n<!-- 74 -->\n<g id=\"node75\" class=\"node\">\n<title>74</title>\n<path fill=\"#e58139\" stroke=\"#000000\" d=\"M2495,-536.5C2495,-536.5 2340,-536.5 2340,-536.5 2334,-536.5 2328,-530.5 2328,-524.5 2328,-524.5 2328,-480.5 2328,-480.5 2328,-474.5 2334,-468.5 2340,-468.5 2340,-468.5 2495,-468.5 2495,-468.5 2501,-468.5 2507,-474.5 2507,-480.5 2507,-480.5 2507,-524.5 2507,-524.5 2507,-530.5 2501,-536.5 2495,-536.5\"/>\n<text text-anchor=\"start\" x=\"2388\" y=\"-521.3\" font-family=\"Helvetica,sans-Serif\" font-size=\"14.00\" fill=\"#000000\">gini = 0.0</text>\n<text text-anchor=\"start\" x=\"2378\" y=\"-506.3\" font-family=\"Helvetica,sans-Serif\" font-size=\"14.00\" fill=\"#000000\">samples = 3</text>\n<text text-anchor=\"start\" x=\"2376\" y=\"-491.3\" font-family=\"Helvetica,sans-Serif\" font-size=\"14.00\" fill=\"#000000\">value = [3, 0]</text>\n<text text-anchor=\"start\" x=\"2336\" y=\"-476.3\" font-family=\"Helvetica,sans-Serif\" font-size=\"14.00\" fill=\"#000000\">class = NÃO DIABETICO</text>\n</g>\n<!-- 73&#45;&gt;74 -->\n<g id=\"edge74\" class=\"edge\">\n<title>73&#45;&gt;74</title>\n<path fill=\"none\" stroke=\"#000000\" d=\"M2417.5,-579.8796C2417.5,-569.2134 2417.5,-557.7021 2417.5,-546.9015\"/>\n<polygon fill=\"#000000\" stroke=\"#000000\" points=\"2421.0001,-546.8149 2417.5,-536.8149 2414.0001,-546.815 2421.0001,-546.8149\"/>\n</g>\n<!-- 75 -->\n<g id=\"node76\" class=\"node\">\n<title>75</title>\n<path fill=\"#399de5\" stroke=\"#000000\" d=\"M2657.5,-536.5C2657.5,-536.5 2537.5,-536.5 2537.5,-536.5 2531.5,-536.5 2525.5,-530.5 2525.5,-524.5 2525.5,-524.5 2525.5,-480.5 2525.5,-480.5 2525.5,-474.5 2531.5,-468.5 2537.5,-468.5 2537.5,-468.5 2657.5,-468.5 2657.5,-468.5 2663.5,-468.5 2669.5,-474.5 2669.5,-480.5 2669.5,-480.5 2669.5,-524.5 2669.5,-524.5 2669.5,-530.5 2663.5,-536.5 2657.5,-536.5\"/>\n<text text-anchor=\"start\" x=\"2568\" y=\"-521.3\" font-family=\"Helvetica,sans-Serif\" font-size=\"14.00\" fill=\"#000000\">gini = 0.0</text>\n<text text-anchor=\"start\" x=\"2558\" y=\"-506.3\" font-family=\"Helvetica,sans-Serif\" font-size=\"14.00\" fill=\"#000000\">samples = 2</text>\n<text text-anchor=\"start\" x=\"2556\" y=\"-491.3\" font-family=\"Helvetica,sans-Serif\" font-size=\"14.00\" fill=\"#000000\">value = [0, 2]</text>\n<text text-anchor=\"start\" x=\"2533.5\" y=\"-476.3\" font-family=\"Helvetica,sans-Serif\" font-size=\"14.00\" fill=\"#000000\">class = DIABÉTICO</text>\n</g>\n<!-- 73&#45;&gt;75 -->\n<g id=\"edge75\" class=\"edge\">\n<title>73&#45;&gt;75</title>\n<path fill=\"none\" stroke=\"#000000\" d=\"M2480.4553,-579.8796C2498.8384,-567.7263 2518.8811,-554.4759 2537.1021,-542.4297\"/>\n<polygon fill=\"#000000\" stroke=\"#000000\" points=\"2539.4737,-545.0576 2545.8853,-536.623 2535.6133,-539.2183 2539.4737,-545.0576\"/>\n</g>\n<!-- 77 -->\n<g id=\"node78\" class=\"node\">\n<title>77</title>\n<path fill=\"#fdf7f3\" stroke=\"#000000\" d=\"M2991,-1258C2991,-1258 2836,-1258 2836,-1258 2830,-1258 2824,-1252 2824,-1246 2824,-1246 2824,-1187 2824,-1187 2824,-1181 2830,-1175 2836,-1175 2836,-1175 2991,-1175 2991,-1175 2997,-1175 3003,-1181 3003,-1187 3003,-1187 3003,-1246 3003,-1246 3003,-1252 2997,-1258 2991,-1258\"/>\n<text text-anchor=\"start\" x=\"2860.5\" y=\"-1242.8\" font-family=\"Helvetica,sans-Serif\" font-size=\"14.00\" fill=\"#000000\">Glucose ≤ 154.5</text>\n<text text-anchor=\"start\" x=\"2875.5\" y=\"-1227.8\" font-family=\"Helvetica,sans-Serif\" font-size=\"14.00\" fill=\"#000000\">gini = 0.499</text>\n<text text-anchor=\"start\" x=\"2869.5\" y=\"-1212.8\" font-family=\"Helvetica,sans-Serif\" font-size=\"14.00\" fill=\"#000000\">samples = 31</text>\n<text text-anchor=\"start\" x=\"2863.5\" y=\"-1197.8\" font-family=\"Helvetica,sans-Serif\" font-size=\"14.00\" fill=\"#000000\">value = [16, 15]</text>\n<text text-anchor=\"start\" x=\"2832\" y=\"-1182.8\" font-family=\"Helvetica,sans-Serif\" font-size=\"14.00\" fill=\"#000000\">class = NÃO DIABETICO</text>\n</g>\n<!-- 76&#45;&gt;77 -->\n<g id=\"edge77\" class=\"edge\">\n<title>76&#45;&gt;77</title>\n<path fill=\"none\" stroke=\"#000000\" d=\"M2913.5,-1293.8796C2913.5,-1285.6838 2913.5,-1276.9891 2913.5,-1268.5013\"/>\n<polygon fill=\"#000000\" stroke=\"#000000\" points=\"2917.0001,-1268.298 2913.5,-1258.2981 2910.0001,-1268.2981 2917.0001,-1268.298\"/>\n</g>\n<!-- 92 -->\n<g id=\"node93\" class=\"node\">\n<title>92</title>\n<path fill=\"#46a3e7\" stroke=\"#000000\" d=\"M3439.5,-1258C3439.5,-1258 3319.5,-1258 3319.5,-1258 3313.5,-1258 3307.5,-1252 3307.5,-1246 3307.5,-1246 3307.5,-1187 3307.5,-1187 3307.5,-1181 3313.5,-1175 3319.5,-1175 3319.5,-1175 3439.5,-1175 3439.5,-1175 3445.5,-1175 3451.5,-1181 3451.5,-1187 3451.5,-1187 3451.5,-1246 3451.5,-1246 3451.5,-1252 3445.5,-1258 3439.5,-1258\"/>\n<text text-anchor=\"start\" x=\"3340.5\" y=\"-1242.8\" font-family=\"Helvetica,sans-Serif\" font-size=\"14.00\" fill=\"#000000\">BMI ≤ 35.15</text>\n<text text-anchor=\"start\" x=\"3341.5\" y=\"-1227.8\" font-family=\"Helvetica,sans-Serif\" font-size=\"14.00\" fill=\"#000000\">gini = 0.113</text>\n<text text-anchor=\"start\" x=\"3331.5\" y=\"-1212.8\" font-family=\"Helvetica,sans-Serif\" font-size=\"14.00\" fill=\"#000000\">samples = 116</text>\n<text text-anchor=\"start\" x=\"3329.5\" y=\"-1197.8\" font-family=\"Helvetica,sans-Serif\" font-size=\"14.00\" fill=\"#000000\">value = [7, 109]</text>\n<text text-anchor=\"start\" x=\"3315.5\" y=\"-1182.8\" font-family=\"Helvetica,sans-Serif\" font-size=\"14.00\" fill=\"#000000\">class = DIABÉTICO</text>\n</g>\n<!-- 76&#45;&gt;92 -->\n<g id=\"edge92\" class=\"edge\">\n<title>76&#45;&gt;92</title>\n<path fill=\"none\" stroke=\"#000000\" d=\"M2985.5461,-1317.102C3069.8851,-1295.5647 3209.2449,-1259.9772 3297.6109,-1237.4116\"/>\n<polygon fill=\"#000000\" stroke=\"#000000\" points=\"3298.5051,-1240.7956 3307.3282,-1234.9301 3296.7731,-1234.0133 3298.5051,-1240.7956\"/>\n</g>\n<!-- 78 -->\n<g id=\"node79\" class=\"node\">\n<title>78</title>\n<path fill=\"#f0b78e\" stroke=\"#000000\" d=\"M2901,-1139C2901,-1139 2746,-1139 2746,-1139 2740,-1139 2734,-1133 2734,-1127 2734,-1127 2734,-1068 2734,-1068 2734,-1062 2740,-1056 2746,-1056 2746,-1056 2901,-1056 2901,-1056 2907,-1056 2913,-1062 2913,-1068 2913,-1068 2913,-1127 2913,-1127 2913,-1133 2907,-1139 2901,-1139\"/>\n<text text-anchor=\"start\" x=\"2764.5\" y=\"-1123.8\" font-family=\"Helvetica,sans-Serif\" font-size=\"14.00\" fill=\"#000000\">Pregnancies ≤ 9.0</text>\n<text text-anchor=\"start\" x=\"2790\" y=\"-1108.8\" font-family=\"Helvetica,sans-Serif\" font-size=\"14.00\" fill=\"#000000\">gini = 0.42</text>\n<text text-anchor=\"start\" x=\"2779.5\" y=\"-1093.8\" font-family=\"Helvetica,sans-Serif\" font-size=\"14.00\" fill=\"#000000\">samples = 20</text>\n<text text-anchor=\"start\" x=\"2778\" y=\"-1078.8\" font-family=\"Helvetica,sans-Serif\" font-size=\"14.00\" fill=\"#000000\">value = [14, 6]</text>\n<text text-anchor=\"start\" x=\"2742\" y=\"-1063.8\" font-family=\"Helvetica,sans-Serif\" font-size=\"14.00\" fill=\"#000000\">class = NÃO DIABETICO</text>\n</g>\n<!-- 77&#45;&gt;78 -->\n<g id=\"edge78\" class=\"edge\">\n<title>77&#45;&gt;78</title>\n<path fill=\"none\" stroke=\"#000000\" d=\"M2882.0224,-1174.8796C2875.3471,-1166.0534 2868.2342,-1156.6485 2861.3504,-1147.5466\"/>\n<polygon fill=\"#000000\" stroke=\"#000000\" points=\"2863.9357,-1145.1626 2855.112,-1139.2981 2858.3526,-1149.3852 2863.9357,-1145.1626\"/>\n</g>\n<!-- 89 -->\n<g id=\"node90\" class=\"node\">\n<title>89</title>\n<path fill=\"#65b3eb\" stroke=\"#000000\" d=\"M3063.5,-1139C3063.5,-1139 2943.5,-1139 2943.5,-1139 2937.5,-1139 2931.5,-1133 2931.5,-1127 2931.5,-1127 2931.5,-1068 2931.5,-1068 2931.5,-1062 2937.5,-1056 2943.5,-1056 2943.5,-1056 3063.5,-1056 3063.5,-1056 3069.5,-1056 3075.5,-1062 3075.5,-1068 3075.5,-1068 3075.5,-1127 3075.5,-1127 3075.5,-1133 3069.5,-1139 3063.5,-1139\"/>\n<text text-anchor=\"start\" x=\"2968.5\" y=\"-1123.8\" font-family=\"Helvetica,sans-Serif\" font-size=\"14.00\" fill=\"#000000\">Age ≤ 61.0</text>\n<text text-anchor=\"start\" x=\"2965.5\" y=\"-1108.8\" font-family=\"Helvetica,sans-Serif\" font-size=\"14.00\" fill=\"#000000\">gini = 0.298</text>\n<text text-anchor=\"start\" x=\"2959.5\" y=\"-1093.8\" font-family=\"Helvetica,sans-Serif\" font-size=\"14.00\" fill=\"#000000\">samples = 11</text>\n<text text-anchor=\"start\" x=\"2962\" y=\"-1078.8\" font-family=\"Helvetica,sans-Serif\" font-size=\"14.00\" fill=\"#000000\">value = [2, 9]</text>\n<text text-anchor=\"start\" x=\"2939.5\" y=\"-1063.8\" font-family=\"Helvetica,sans-Serif\" font-size=\"14.00\" fill=\"#000000\">class = DIABÉTICO</text>\n</g>\n<!-- 77&#45;&gt;89 -->\n<g id=\"edge89\" class=\"edge\">\n<title>77&#45;&gt;89</title>\n<path fill=\"none\" stroke=\"#000000\" d=\"M2944.9776,-1174.8796C2951.6529,-1166.0534 2958.7658,-1156.6485 2965.6496,-1147.5466\"/>\n<polygon fill=\"#000000\" stroke=\"#000000\" points=\"2968.6474,-1149.3852 2971.888,-1139.2981 2963.0643,-1145.1626 2968.6474,-1149.3852\"/>\n</g>\n<!-- 79 -->\n<g id=\"node80\" class=\"node\">\n<title>79</title>\n<path fill=\"#eca572\" stroke=\"#000000\" d=\"M2730,-1020C2730,-1020 2575,-1020 2575,-1020 2569,-1020 2563,-1014 2563,-1008 2563,-1008 2563,-949 2563,-949 2563,-943 2569,-937 2575,-937 2575,-937 2730,-937 2730,-937 2736,-937 2742,-943 2742,-949 2742,-949 2742,-1008 2742,-1008 2742,-1014 2736,-1020 2730,-1020\"/>\n<text text-anchor=\"start\" x=\"2582.5\" y=\"-1004.8\" font-family=\"Helvetica,sans-Serif\" font-size=\"14.00\" fill=\"#000000\">BloodPressure ≤ 55.0</text>\n<text text-anchor=\"start\" x=\"2614.5\" y=\"-989.8\" font-family=\"Helvetica,sans-Serif\" font-size=\"14.00\" fill=\"#000000\">gini = 0.346</text>\n<text text-anchor=\"start\" x=\"2608.5\" y=\"-974.8\" font-family=\"Helvetica,sans-Serif\" font-size=\"14.00\" fill=\"#000000\">samples = 18</text>\n<text text-anchor=\"start\" x=\"2607\" y=\"-959.8\" font-family=\"Helvetica,sans-Serif\" font-size=\"14.00\" fill=\"#000000\">value = [14, 4]</text>\n<text text-anchor=\"start\" x=\"2571\" y=\"-944.8\" font-family=\"Helvetica,sans-Serif\" font-size=\"14.00\" fill=\"#000000\">class = NÃO DIABETICO</text>\n</g>\n<!-- 78&#45;&gt;79 -->\n<g id=\"edge79\" class=\"edge\">\n<title>78&#45;&gt;79</title>\n<path fill=\"none\" stroke=\"#000000\" d=\"M2763.6925,-1055.8796C2749.7642,-1046.1868 2734.8331,-1035.7961 2720.5769,-1025.8752\"/>\n<polygon fill=\"#000000\" stroke=\"#000000\" points=\"2722.4811,-1022.9362 2712.2737,-1020.0969 2718.4826,-1028.6819 2722.4811,-1022.9362\"/>\n</g>\n<!-- 88 -->\n<g id=\"node89\" class=\"node\">\n<title>88</title>\n<path fill=\"#399de5\" stroke=\"#000000\" d=\"M2892.5,-1012.5C2892.5,-1012.5 2772.5,-1012.5 2772.5,-1012.5 2766.5,-1012.5 2760.5,-1006.5 2760.5,-1000.5 2760.5,-1000.5 2760.5,-956.5 2760.5,-956.5 2760.5,-950.5 2766.5,-944.5 2772.5,-944.5 2772.5,-944.5 2892.5,-944.5 2892.5,-944.5 2898.5,-944.5 2904.5,-950.5 2904.5,-956.5 2904.5,-956.5 2904.5,-1000.5 2904.5,-1000.5 2904.5,-1006.5 2898.5,-1012.5 2892.5,-1012.5\"/>\n<text text-anchor=\"start\" x=\"2803\" y=\"-997.3\" font-family=\"Helvetica,sans-Serif\" font-size=\"14.00\" fill=\"#000000\">gini = 0.0</text>\n<text text-anchor=\"start\" x=\"2793\" y=\"-982.3\" font-family=\"Helvetica,sans-Serif\" font-size=\"14.00\" fill=\"#000000\">samples = 2</text>\n<text text-anchor=\"start\" x=\"2791\" y=\"-967.3\" font-family=\"Helvetica,sans-Serif\" font-size=\"14.00\" fill=\"#000000\">value = [0, 2]</text>\n<text text-anchor=\"start\" x=\"2768.5\" y=\"-952.3\" font-family=\"Helvetica,sans-Serif\" font-size=\"14.00\" fill=\"#000000\">class = DIABÉTICO</text>\n</g>\n<!-- 78&#45;&gt;88 -->\n<g id=\"edge88\" class=\"edge\">\n<title>78&#45;&gt;88</title>\n<path fill=\"none\" stroke=\"#000000\" d=\"M2826.6478,-1055.8796C2827.4545,-1045.2134 2828.3251,-1033.7021 2829.1419,-1022.9015\"/>\n<polygon fill=\"#000000\" stroke=\"#000000\" points=\"2832.6405,-1023.0504 2829.9048,-1012.8149 2825.6605,-1022.5225 2832.6405,-1023.0504\"/>\n</g>\n<!-- 80 -->\n<g id=\"node81\" class=\"node\">\n<title>80</title>\n<path fill=\"#399de5\" stroke=\"#000000\" d=\"M2681.5,-893.5C2681.5,-893.5 2561.5,-893.5 2561.5,-893.5 2555.5,-893.5 2549.5,-887.5 2549.5,-881.5 2549.5,-881.5 2549.5,-837.5 2549.5,-837.5 2549.5,-831.5 2555.5,-825.5 2561.5,-825.5 2561.5,-825.5 2681.5,-825.5 2681.5,-825.5 2687.5,-825.5 2693.5,-831.5 2693.5,-837.5 2693.5,-837.5 2693.5,-881.5 2693.5,-881.5 2693.5,-887.5 2687.5,-893.5 2681.5,-893.5\"/>\n<text text-anchor=\"start\" x=\"2592\" y=\"-878.3\" font-family=\"Helvetica,sans-Serif\" font-size=\"14.00\" fill=\"#000000\">gini = 0.0</text>\n<text text-anchor=\"start\" x=\"2582\" y=\"-863.3\" font-family=\"Helvetica,sans-Serif\" font-size=\"14.00\" fill=\"#000000\">samples = 2</text>\n<text text-anchor=\"start\" x=\"2580\" y=\"-848.3\" font-family=\"Helvetica,sans-Serif\" font-size=\"14.00\" fill=\"#000000\">value = [0, 2]</text>\n<text text-anchor=\"start\" x=\"2557.5\" y=\"-833.3\" font-family=\"Helvetica,sans-Serif\" font-size=\"14.00\" fill=\"#000000\">class = DIABÉTICO</text>\n</g>\n<!-- 79&#45;&gt;80 -->\n<g id=\"edge80\" class=\"edge\">\n<title>79&#45;&gt;80</title>\n<path fill=\"none\" stroke=\"#000000\" d=\"M2641.6577,-936.8796C2638.8505,-926.1034 2635.8185,-914.4647 2632.9798,-903.5677\"/>\n<polygon fill=\"#000000\" stroke=\"#000000\" points=\"2636.3471,-902.6096 2630.4392,-893.8149 2629.5732,-904.3743 2636.3471,-902.6096\"/>\n</g>\n<!-- 81 -->\n<g id=\"node82\" class=\"node\">\n<title>81</title>\n<path fill=\"#e99355\" stroke=\"#000000\" d=\"M2879,-901C2879,-901 2724,-901 2724,-901 2718,-901 2712,-895 2712,-889 2712,-889 2712,-830 2712,-830 2712,-824 2718,-818 2724,-818 2724,-818 2879,-818 2879,-818 2885,-818 2891,-824 2891,-830 2891,-830 2891,-889 2891,-889 2891,-895 2885,-901 2879,-901\"/>\n<text text-anchor=\"start\" x=\"2754.5\" y=\"-885.8\" font-family=\"Helvetica,sans-Serif\" font-size=\"14.00\" fill=\"#000000\">Insulin ≤ 343.0</text>\n<text text-anchor=\"start\" x=\"2763.5\" y=\"-870.8\" font-family=\"Helvetica,sans-Serif\" font-size=\"14.00\" fill=\"#000000\">gini = 0.219</text>\n<text text-anchor=\"start\" x=\"2757.5\" y=\"-855.8\" font-family=\"Helvetica,sans-Serif\" font-size=\"14.00\" fill=\"#000000\">samples = 16</text>\n<text text-anchor=\"start\" x=\"2756\" y=\"-840.8\" font-family=\"Helvetica,sans-Serif\" font-size=\"14.00\" fill=\"#000000\">value = [14, 2]</text>\n<text text-anchor=\"start\" x=\"2720\" y=\"-825.8\" font-family=\"Helvetica,sans-Serif\" font-size=\"14.00\" fill=\"#000000\">class = NÃO DIABETICO</text>\n</g>\n<!-- 79&#45;&gt;81 -->\n<g id=\"edge81\" class=\"edge\">\n<title>79&#45;&gt;81</title>\n<path fill=\"none\" stroke=\"#000000\" d=\"M2704.613,-936.8796C2716.5225,-927.368 2729.2734,-917.1843 2741.4844,-907.432\"/>\n<polygon fill=\"#000000\" stroke=\"#000000\" points=\"2743.7868,-910.0724 2749.4165,-901.0969 2739.4184,-904.6027 2743.7868,-910.0724\"/>\n</g>\n<!-- 82 -->\n<g id=\"node83\" class=\"node\">\n<title>82</title>\n<path fill=\"#e78a47\" stroke=\"#000000\" d=\"M2864,-782C2864,-782 2709,-782 2709,-782 2703,-782 2697,-776 2697,-770 2697,-770 2697,-711 2697,-711 2697,-705 2703,-699 2709,-699 2709,-699 2864,-699 2864,-699 2870,-699 2876,-705 2876,-711 2876,-711 2876,-770 2876,-770 2876,-776 2870,-782 2864,-782\"/>\n<text text-anchor=\"start\" x=\"2751.5\" y=\"-766.8\" font-family=\"Helvetica,sans-Serif\" font-size=\"14.00\" fill=\"#000000\">BMI ≤ 24.0</text>\n<text text-anchor=\"start\" x=\"2748.5\" y=\"-751.8\" font-family=\"Helvetica,sans-Serif\" font-size=\"14.00\" fill=\"#000000\">gini = 0.124</text>\n<text text-anchor=\"start\" x=\"2742.5\" y=\"-736.8\" font-family=\"Helvetica,sans-Serif\" font-size=\"14.00\" fill=\"#000000\">samples = 15</text>\n<text text-anchor=\"start\" x=\"2741\" y=\"-721.8\" font-family=\"Helvetica,sans-Serif\" font-size=\"14.00\" fill=\"#000000\">value = [14, 1]</text>\n<text text-anchor=\"start\" x=\"2705\" y=\"-706.8\" font-family=\"Helvetica,sans-Serif\" font-size=\"14.00\" fill=\"#000000\">class = NÃO DIABETICO</text>\n</g>\n<!-- 81&#45;&gt;82 -->\n<g id=\"edge82\" class=\"edge\">\n<title>81&#45;&gt;82</title>\n<path fill=\"none\" stroke=\"#000000\" d=\"M2796.2537,-817.8796C2795.2093,-809.5938 2794.1006,-800.798 2793.0195,-792.2216\"/>\n<polygon fill=\"#000000\" stroke=\"#000000\" points=\"2796.4919,-791.7818 2791.7687,-782.2981 2789.5468,-792.6573 2796.4919,-791.7818\"/>\n</g>\n<!-- 87 -->\n<g id=\"node88\" class=\"node\">\n<title>87</title>\n<path fill=\"#399de5\" stroke=\"#000000\" d=\"M3026.5,-774.5C3026.5,-774.5 2906.5,-774.5 2906.5,-774.5 2900.5,-774.5 2894.5,-768.5 2894.5,-762.5 2894.5,-762.5 2894.5,-718.5 2894.5,-718.5 2894.5,-712.5 2900.5,-706.5 2906.5,-706.5 2906.5,-706.5 3026.5,-706.5 3026.5,-706.5 3032.5,-706.5 3038.5,-712.5 3038.5,-718.5 3038.5,-718.5 3038.5,-762.5 3038.5,-762.5 3038.5,-768.5 3032.5,-774.5 3026.5,-774.5\"/>\n<text text-anchor=\"start\" x=\"2937\" y=\"-759.3\" font-family=\"Helvetica,sans-Serif\" font-size=\"14.00\" fill=\"#000000\">gini = 0.0</text>\n<text text-anchor=\"start\" x=\"2927\" y=\"-744.3\" font-family=\"Helvetica,sans-Serif\" font-size=\"14.00\" fill=\"#000000\">samples = 1</text>\n<text text-anchor=\"start\" x=\"2925\" y=\"-729.3\" font-family=\"Helvetica,sans-Serif\" font-size=\"14.00\" fill=\"#000000\">value = [0, 1]</text>\n<text text-anchor=\"start\" x=\"2902.5\" y=\"-714.3\" font-family=\"Helvetica,sans-Serif\" font-size=\"14.00\" fill=\"#000000\">class = DIABÉTICO</text>\n</g>\n<!-- 81&#45;&gt;87 -->\n<g id=\"edge87\" class=\"edge\">\n<title>81&#45;&gt;87</title>\n<path fill=\"none\" stroke=\"#000000\" d=\"M2859.209,-817.8796C2875.907,-805.8368 2894.0987,-792.7167 2910.6793,-780.7586\"/>\n<polygon fill=\"#000000\" stroke=\"#000000\" points=\"2913.1232,-783.3113 2919.1865,-774.623 2909.0285,-777.6339 2913.1232,-783.3113\"/>\n</g>\n<!-- 83 -->\n<g id=\"node84\" class=\"node\">\n<title>83</title>\n<path fill=\"#f2c09c\" stroke=\"#000000\" d=\"M2855,-663C2855,-663 2700,-663 2700,-663 2694,-663 2688,-657 2688,-651 2688,-651 2688,-592 2688,-592 2688,-586 2694,-580 2700,-580 2700,-580 2855,-580 2855,-580 2861,-580 2867,-586 2867,-592 2867,-592 2867,-651 2867,-651 2867,-657 2861,-663 2855,-663\"/>\n<text text-anchor=\"start\" x=\"2738.5\" y=\"-647.8\" font-family=\"Helvetica,sans-Serif\" font-size=\"14.00\" fill=\"#000000\">BMI ≤ 23.45</text>\n<text text-anchor=\"start\" x=\"2739.5\" y=\"-632.8\" font-family=\"Helvetica,sans-Serif\" font-size=\"14.00\" fill=\"#000000\">gini = 0.444</text>\n<text text-anchor=\"start\" x=\"2738\" y=\"-617.8\" font-family=\"Helvetica,sans-Serif\" font-size=\"14.00\" fill=\"#000000\">samples = 3</text>\n<text text-anchor=\"start\" x=\"2736\" y=\"-602.8\" font-family=\"Helvetica,sans-Serif\" font-size=\"14.00\" fill=\"#000000\">value = [2, 1]</text>\n<text text-anchor=\"start\" x=\"2696\" y=\"-587.8\" font-family=\"Helvetica,sans-Serif\" font-size=\"14.00\" fill=\"#000000\">class = NÃO DIABETICO</text>\n</g>\n<!-- 82&#45;&gt;83 -->\n<g id=\"edge83\" class=\"edge\">\n<title>82&#45;&gt;83</title>\n<path fill=\"none\" stroke=\"#000000\" d=\"M2783.3522,-698.8796C2782.7324,-690.6838 2782.0748,-681.9891 2781.4329,-673.5013\"/>\n<polygon fill=\"#000000\" stroke=\"#000000\" points=\"2784.9055,-673.0056 2780.6612,-663.2981 2777.9254,-673.5336 2784.9055,-673.0056\"/>\n</g>\n<!-- 86 -->\n<g id=\"node87\" class=\"node\">\n<title>86</title>\n<path fill=\"#e58139\" stroke=\"#000000\" d=\"M3052,-655.5C3052,-655.5 2897,-655.5 2897,-655.5 2891,-655.5 2885,-649.5 2885,-643.5 2885,-643.5 2885,-599.5 2885,-599.5 2885,-593.5 2891,-587.5 2897,-587.5 2897,-587.5 3052,-587.5 3052,-587.5 3058,-587.5 3064,-593.5 3064,-599.5 3064,-599.5 3064,-643.5 3064,-643.5 3064,-649.5 3058,-655.5 3052,-655.5\"/>\n<text text-anchor=\"start\" x=\"2945\" y=\"-640.3\" font-family=\"Helvetica,sans-Serif\" font-size=\"14.00\" fill=\"#000000\">gini = 0.0</text>\n<text text-anchor=\"start\" x=\"2930.5\" y=\"-625.3\" font-family=\"Helvetica,sans-Serif\" font-size=\"14.00\" fill=\"#000000\">samples = 12</text>\n<text text-anchor=\"start\" x=\"2929\" y=\"-610.3\" font-family=\"Helvetica,sans-Serif\" font-size=\"14.00\" fill=\"#000000\">value = [12, 0]</text>\n<text text-anchor=\"start\" x=\"2893\" y=\"-595.3\" font-family=\"Helvetica,sans-Serif\" font-size=\"14.00\" fill=\"#000000\">class = NÃO DIABETICO</text>\n</g>\n<!-- 82&#45;&gt;86 -->\n<g id=\"edge86\" class=\"edge\">\n<title>82&#45;&gt;86</title>\n<path fill=\"none\" stroke=\"#000000\" d=\"M2852.2533,-698.8796C2871.628,-686.6158 2892.7676,-673.2348 2911.9363,-661.1015\"/>\n<polygon fill=\"#000000\" stroke=\"#000000\" points=\"2914.0137,-663.9288 2920.5913,-655.623 2910.2698,-658.0141 2914.0137,-663.9288\"/>\n</g>\n<!-- 84 -->\n<g id=\"node85\" class=\"node\">\n<title>84</title>\n<path fill=\"#e58139\" stroke=\"#000000\" d=\"M2855,-536.5C2855,-536.5 2700,-536.5 2700,-536.5 2694,-536.5 2688,-530.5 2688,-524.5 2688,-524.5 2688,-480.5 2688,-480.5 2688,-474.5 2694,-468.5 2700,-468.5 2700,-468.5 2855,-468.5 2855,-468.5 2861,-468.5 2867,-474.5 2867,-480.5 2867,-480.5 2867,-524.5 2867,-524.5 2867,-530.5 2861,-536.5 2855,-536.5\"/>\n<text text-anchor=\"start\" x=\"2748\" y=\"-521.3\" font-family=\"Helvetica,sans-Serif\" font-size=\"14.00\" fill=\"#000000\">gini = 0.0</text>\n<text text-anchor=\"start\" x=\"2738\" y=\"-506.3\" font-family=\"Helvetica,sans-Serif\" font-size=\"14.00\" fill=\"#000000\">samples = 2</text>\n<text text-anchor=\"start\" x=\"2736\" y=\"-491.3\" font-family=\"Helvetica,sans-Serif\" font-size=\"14.00\" fill=\"#000000\">value = [2, 0]</text>\n<text text-anchor=\"start\" x=\"2696\" y=\"-476.3\" font-family=\"Helvetica,sans-Serif\" font-size=\"14.00\" fill=\"#000000\">class = NÃO DIABETICO</text>\n</g>\n<!-- 83&#45;&gt;84 -->\n<g id=\"edge84\" class=\"edge\">\n<title>83&#45;&gt;84</title>\n<path fill=\"none\" stroke=\"#000000\" d=\"M2777.5,-579.8796C2777.5,-569.2134 2777.5,-557.7021 2777.5,-546.9015\"/>\n<polygon fill=\"#000000\" stroke=\"#000000\" points=\"2781.0001,-546.8149 2777.5,-536.8149 2774.0001,-546.815 2781.0001,-546.8149\"/>\n</g>\n<!-- 85 -->\n<g id=\"node86\" class=\"node\">\n<title>85</title>\n<path fill=\"#399de5\" stroke=\"#000000\" d=\"M3017.5,-536.5C3017.5,-536.5 2897.5,-536.5 2897.5,-536.5 2891.5,-536.5 2885.5,-530.5 2885.5,-524.5 2885.5,-524.5 2885.5,-480.5 2885.5,-480.5 2885.5,-474.5 2891.5,-468.5 2897.5,-468.5 2897.5,-468.5 3017.5,-468.5 3017.5,-468.5 3023.5,-468.5 3029.5,-474.5 3029.5,-480.5 3029.5,-480.5 3029.5,-524.5 3029.5,-524.5 3029.5,-530.5 3023.5,-536.5 3017.5,-536.5\"/>\n<text text-anchor=\"start\" x=\"2928\" y=\"-521.3\" font-family=\"Helvetica,sans-Serif\" font-size=\"14.00\" fill=\"#000000\">gini = 0.0</text>\n<text text-anchor=\"start\" x=\"2918\" y=\"-506.3\" font-family=\"Helvetica,sans-Serif\" font-size=\"14.00\" fill=\"#000000\">samples = 1</text>\n<text text-anchor=\"start\" x=\"2916\" y=\"-491.3\" font-family=\"Helvetica,sans-Serif\" font-size=\"14.00\" fill=\"#000000\">value = [0, 1]</text>\n<text text-anchor=\"start\" x=\"2893.5\" y=\"-476.3\" font-family=\"Helvetica,sans-Serif\" font-size=\"14.00\" fill=\"#000000\">class = DIABÉTICO</text>\n</g>\n<!-- 83&#45;&gt;85 -->\n<g id=\"edge85\" class=\"edge\">\n<title>83&#45;&gt;85</title>\n<path fill=\"none\" stroke=\"#000000\" d=\"M2840.4553,-579.8796C2858.8384,-567.7263 2878.8811,-554.4759 2897.1021,-542.4297\"/>\n<polygon fill=\"#000000\" stroke=\"#000000\" points=\"2899.4737,-545.0576 2905.8853,-536.623 2895.6133,-539.2183 2899.4737,-545.0576\"/>\n</g>\n<!-- 90 -->\n<g id=\"node91\" class=\"node\">\n<title>90</title>\n<path fill=\"#399de5\" stroke=\"#000000\" d=\"M3059.5,-1012.5C3059.5,-1012.5 2939.5,-1012.5 2939.5,-1012.5 2933.5,-1012.5 2927.5,-1006.5 2927.5,-1000.5 2927.5,-1000.5 2927.5,-956.5 2927.5,-956.5 2927.5,-950.5 2933.5,-944.5 2939.5,-944.5 2939.5,-944.5 3059.5,-944.5 3059.5,-944.5 3065.5,-944.5 3071.5,-950.5 3071.5,-956.5 3071.5,-956.5 3071.5,-1000.5 3071.5,-1000.5 3071.5,-1006.5 3065.5,-1012.5 3059.5,-1012.5\"/>\n<text text-anchor=\"start\" x=\"2970\" y=\"-997.3\" font-family=\"Helvetica,sans-Serif\" font-size=\"14.00\" fill=\"#000000\">gini = 0.0</text>\n<text text-anchor=\"start\" x=\"2960\" y=\"-982.3\" font-family=\"Helvetica,sans-Serif\" font-size=\"14.00\" fill=\"#000000\">samples = 9</text>\n<text text-anchor=\"start\" x=\"2958\" y=\"-967.3\" font-family=\"Helvetica,sans-Serif\" font-size=\"14.00\" fill=\"#000000\">value = [0, 9]</text>\n<text text-anchor=\"start\" x=\"2935.5\" y=\"-952.3\" font-family=\"Helvetica,sans-Serif\" font-size=\"14.00\" fill=\"#000000\">class = DIABÉTICO</text>\n</g>\n<!-- 89&#45;&gt;90 -->\n<g id=\"edge90\" class=\"edge\">\n<title>89&#45;&gt;90</title>\n<path fill=\"none\" stroke=\"#000000\" d=\"M3002.101,-1055.8796C3001.7425,-1045.2134 3001.3555,-1033.7021 3000.9925,-1022.9015\"/>\n<polygon fill=\"#000000\" stroke=\"#000000\" points=\"3004.4875,-1022.6917 3000.6534,-1012.8149 2997.4915,-1022.9269 3004.4875,-1022.6917\"/>\n</g>\n<!-- 91 -->\n<g id=\"node92\" class=\"node\">\n<title>91</title>\n<path fill=\"#e58139\" stroke=\"#000000\" d=\"M3257,-1012.5C3257,-1012.5 3102,-1012.5 3102,-1012.5 3096,-1012.5 3090,-1006.5 3090,-1000.5 3090,-1000.5 3090,-956.5 3090,-956.5 3090,-950.5 3096,-944.5 3102,-944.5 3102,-944.5 3257,-944.5 3257,-944.5 3263,-944.5 3269,-950.5 3269,-956.5 3269,-956.5 3269,-1000.5 3269,-1000.5 3269,-1006.5 3263,-1012.5 3257,-1012.5\"/>\n<text text-anchor=\"start\" x=\"3150\" y=\"-997.3\" font-family=\"Helvetica,sans-Serif\" font-size=\"14.00\" fill=\"#000000\">gini = 0.0</text>\n<text text-anchor=\"start\" x=\"3140\" y=\"-982.3\" font-family=\"Helvetica,sans-Serif\" font-size=\"14.00\" fill=\"#000000\">samples = 2</text>\n<text text-anchor=\"start\" x=\"3138\" y=\"-967.3\" font-family=\"Helvetica,sans-Serif\" font-size=\"14.00\" fill=\"#000000\">value = [2, 0]</text>\n<text text-anchor=\"start\" x=\"3098\" y=\"-952.3\" font-family=\"Helvetica,sans-Serif\" font-size=\"14.00\" fill=\"#000000\">class = NÃO DIABETICO</text>\n</g>\n<!-- 89&#45;&gt;91 -->\n<g id=\"edge91\" class=\"edge\">\n<title>89&#45;&gt;91</title>\n<path fill=\"none\" stroke=\"#000000\" d=\"M3065.0563,-1055.8796C3083.0309,-1043.7263 3102.6282,-1030.4759 3120.4442,-1018.4297\"/>\n<polygon fill=\"#000000\" stroke=\"#000000\" points=\"3122.7086,-1021.1237 3129.0323,-1012.623 3118.7877,-1015.3248 3122.7086,-1021.1237\"/>\n</g>\n<!-- 93 -->\n<g id=\"node94\" class=\"node\">\n<title>93</title>\n<path fill=\"#55abe9\" stroke=\"#000000\" d=\"M3439.5,-1139C3439.5,-1139 3319.5,-1139 3319.5,-1139 3313.5,-1139 3307.5,-1133 3307.5,-1127 3307.5,-1127 3307.5,-1068 3307.5,-1068 3307.5,-1062 3313.5,-1056 3319.5,-1056 3319.5,-1056 3439.5,-1056 3439.5,-1056 3445.5,-1056 3451.5,-1062 3451.5,-1068 3451.5,-1068 3451.5,-1127 3451.5,-1127 3451.5,-1133 3445.5,-1139 3439.5,-1139\"/>\n<text text-anchor=\"start\" x=\"3340.5\" y=\"-1123.8\" font-family=\"Helvetica,sans-Serif\" font-size=\"14.00\" fill=\"#000000\">BMI ≤ 35.05</text>\n<text text-anchor=\"start\" x=\"3341.5\" y=\"-1108.8\" font-family=\"Helvetica,sans-Serif\" font-size=\"14.00\" fill=\"#000000\">gini = 0.215</text>\n<text text-anchor=\"start\" x=\"3335.5\" y=\"-1093.8\" font-family=\"Helvetica,sans-Serif\" font-size=\"14.00\" fill=\"#000000\">samples = 57</text>\n<text text-anchor=\"start\" x=\"3334\" y=\"-1078.8\" font-family=\"Helvetica,sans-Serif\" font-size=\"14.00\" fill=\"#000000\">value = [7, 50]</text>\n<text text-anchor=\"start\" x=\"3315.5\" y=\"-1063.8\" font-family=\"Helvetica,sans-Serif\" font-size=\"14.00\" fill=\"#000000\">class = DIABÉTICO</text>\n</g>\n<!-- 92&#45;&gt;93 -->\n<g id=\"edge93\" class=\"edge\">\n<title>92&#45;&gt;93</title>\n<path fill=\"none\" stroke=\"#000000\" d=\"M3379.5,-1174.8796C3379.5,-1166.6838 3379.5,-1157.9891 3379.5,-1149.5013\"/>\n<polygon fill=\"#000000\" stroke=\"#000000\" points=\"3383.0001,-1149.298 3379.5,-1139.2981 3376.0001,-1149.2981 3383.0001,-1149.298\"/>\n</g>\n<!-- 114 -->\n<g id=\"node115\" class=\"node\">\n<title>114</title>\n<path fill=\"#399de5\" stroke=\"#000000\" d=\"M3601.5,-1131.5C3601.5,-1131.5 3481.5,-1131.5 3481.5,-1131.5 3475.5,-1131.5 3469.5,-1125.5 3469.5,-1119.5 3469.5,-1119.5 3469.5,-1075.5 3469.5,-1075.5 3469.5,-1069.5 3475.5,-1063.5 3481.5,-1063.5 3481.5,-1063.5 3601.5,-1063.5 3601.5,-1063.5 3607.5,-1063.5 3613.5,-1069.5 3613.5,-1075.5 3613.5,-1075.5 3613.5,-1119.5 3613.5,-1119.5 3613.5,-1125.5 3607.5,-1131.5 3601.5,-1131.5\"/>\n<text text-anchor=\"start\" x=\"3512\" y=\"-1116.3\" font-family=\"Helvetica,sans-Serif\" font-size=\"14.00\" fill=\"#000000\">gini = 0.0</text>\n<text text-anchor=\"start\" x=\"3497.5\" y=\"-1101.3\" font-family=\"Helvetica,sans-Serif\" font-size=\"14.00\" fill=\"#000000\">samples = 59</text>\n<text text-anchor=\"start\" x=\"3496\" y=\"-1086.3\" font-family=\"Helvetica,sans-Serif\" font-size=\"14.00\" fill=\"#000000\">value = [0, 59]</text>\n<text text-anchor=\"start\" x=\"3477.5\" y=\"-1071.3\" font-family=\"Helvetica,sans-Serif\" font-size=\"14.00\" fill=\"#000000\">class = DIABÉTICO</text>\n</g>\n<!-- 92&#45;&gt;114 -->\n<g id=\"edge114\" class=\"edge\">\n<title>92&#45;&gt;114</title>\n<path fill=\"none\" stroke=\"#000000\" d=\"M3436.1597,-1174.8796C3452.5541,-1162.8368 3470.4151,-1149.7167 3486.6942,-1137.7586\"/>\n<polygon fill=\"#000000\" stroke=\"#000000\" points=\"3489.0595,-1140.3639 3495.0468,-1131.623 3484.9154,-1134.7224 3489.0595,-1140.3639\"/>\n</g>\n<!-- 94 -->\n<g id=\"node95\" class=\"node\">\n<title>94</title>\n<path fill=\"#51a9e8\" stroke=\"#000000\" d=\"M3439.5,-1020C3439.5,-1020 3319.5,-1020 3319.5,-1020 3313.5,-1020 3307.5,-1014 3307.5,-1008 3307.5,-1008 3307.5,-949 3307.5,-949 3307.5,-943 3313.5,-937 3319.5,-937 3319.5,-937 3439.5,-937 3439.5,-937 3445.5,-937 3451.5,-943 3451.5,-949 3451.5,-949 3451.5,-1008 3451.5,-1008 3451.5,-1014 3445.5,-1020 3439.5,-1020\"/>\n<text text-anchor=\"start\" x=\"3344.5\" y=\"-1004.8\" font-family=\"Helvetica,sans-Serif\" font-size=\"14.00\" fill=\"#000000\">Age ≤ 29.5</text>\n<text text-anchor=\"start\" x=\"3341.5\" y=\"-989.8\" font-family=\"Helvetica,sans-Serif\" font-size=\"14.00\" fill=\"#000000\">gini = 0.191</text>\n<text text-anchor=\"start\" x=\"3335.5\" y=\"-974.8\" font-family=\"Helvetica,sans-Serif\" font-size=\"14.00\" fill=\"#000000\">samples = 56</text>\n<text text-anchor=\"start\" x=\"3334\" y=\"-959.8\" font-family=\"Helvetica,sans-Serif\" font-size=\"14.00\" fill=\"#000000\">value = [6, 50]</text>\n<text text-anchor=\"start\" x=\"3315.5\" y=\"-944.8\" font-family=\"Helvetica,sans-Serif\" font-size=\"14.00\" fill=\"#000000\">class = DIABÉTICO</text>\n</g>\n<!-- 93&#45;&gt;94 -->\n<g id=\"edge94\" class=\"edge\">\n<title>93&#45;&gt;94</title>\n<path fill=\"none\" stroke=\"#000000\" d=\"M3379.5,-1055.8796C3379.5,-1047.6838 3379.5,-1038.9891 3379.5,-1030.5013\"/>\n<polygon fill=\"#000000\" stroke=\"#000000\" points=\"3383.0001,-1030.298 3379.5,-1020.2981 3376.0001,-1030.2981 3383.0001,-1030.298\"/>\n</g>\n<!-- 113 -->\n<g id=\"node114\" class=\"node\">\n<title>113</title>\n<path fill=\"#e58139\" stroke=\"#000000\" d=\"M3637,-1012.5C3637,-1012.5 3482,-1012.5 3482,-1012.5 3476,-1012.5 3470,-1006.5 3470,-1000.5 3470,-1000.5 3470,-956.5 3470,-956.5 3470,-950.5 3476,-944.5 3482,-944.5 3482,-944.5 3637,-944.5 3637,-944.5 3643,-944.5 3649,-950.5 3649,-956.5 3649,-956.5 3649,-1000.5 3649,-1000.5 3649,-1006.5 3643,-1012.5 3637,-1012.5\"/>\n<text text-anchor=\"start\" x=\"3530\" y=\"-997.3\" font-family=\"Helvetica,sans-Serif\" font-size=\"14.00\" fill=\"#000000\">gini = 0.0</text>\n<text text-anchor=\"start\" x=\"3520\" y=\"-982.3\" font-family=\"Helvetica,sans-Serif\" font-size=\"14.00\" fill=\"#000000\">samples = 1</text>\n<text text-anchor=\"start\" x=\"3518\" y=\"-967.3\" font-family=\"Helvetica,sans-Serif\" font-size=\"14.00\" fill=\"#000000\">value = [1, 0]</text>\n<text text-anchor=\"start\" x=\"3478\" y=\"-952.3\" font-family=\"Helvetica,sans-Serif\" font-size=\"14.00\" fill=\"#000000\">class = NÃO DIABETICO</text>\n</g>\n<!-- 93&#45;&gt;113 -->\n<g id=\"edge113\" class=\"edge\">\n<title>93&#45;&gt;113</title>\n<path fill=\"none\" stroke=\"#000000\" d=\"M3442.4553,-1055.8796C3460.8384,-1043.7263 3480.8811,-1030.4759 3499.1021,-1018.4297\"/>\n<polygon fill=\"#000000\" stroke=\"#000000\" points=\"3501.4737,-1021.0576 3507.8853,-1012.623 3497.6133,-1015.2183 3501.4737,-1021.0576\"/>\n</g>\n<!-- 95 -->\n<g id=\"node96\" class=\"node\">\n<title>95</title>\n<path fill=\"#72b9ec\" stroke=\"#000000\" d=\"M3445.5,-901C3445.5,-901 3313.5,-901 3313.5,-901 3307.5,-901 3301.5,-895 3301.5,-889 3301.5,-889 3301.5,-830 3301.5,-830 3301.5,-824 3307.5,-818 3313.5,-818 3313.5,-818 3445.5,-818 3445.5,-818 3451.5,-818 3457.5,-824 3457.5,-830 3457.5,-830 3457.5,-889 3457.5,-889 3457.5,-895 3451.5,-901 3445.5,-901\"/>\n<text text-anchor=\"start\" x=\"3309.5\" y=\"-885.8\" font-family=\"Helvetica,sans-Serif\" font-size=\"14.00\" fill=\"#000000\">BloodPressure ≤ 78.0</text>\n<text text-anchor=\"start\" x=\"3341.5\" y=\"-870.8\" font-family=\"Helvetica,sans-Serif\" font-size=\"14.00\" fill=\"#000000\">gini = 0.346</text>\n<text text-anchor=\"start\" x=\"3335.5\" y=\"-855.8\" font-family=\"Helvetica,sans-Serif\" font-size=\"14.00\" fill=\"#000000\">samples = 18</text>\n<text text-anchor=\"start\" x=\"3334\" y=\"-840.8\" font-family=\"Helvetica,sans-Serif\" font-size=\"14.00\" fill=\"#000000\">value = [4, 14]</text>\n<text text-anchor=\"start\" x=\"3315.5\" y=\"-825.8\" font-family=\"Helvetica,sans-Serif\" font-size=\"14.00\" fill=\"#000000\">class = DIABÉTICO</text>\n</g>\n<!-- 94&#45;&gt;95 -->\n<g id=\"edge95\" class=\"edge\">\n<title>94&#45;&gt;95</title>\n<path fill=\"none\" stroke=\"#000000\" d=\"M3379.5,-936.8796C3379.5,-928.6838 3379.5,-919.9891 3379.5,-911.5013\"/>\n<polygon fill=\"#000000\" stroke=\"#000000\" points=\"3383.0001,-911.298 3379.5,-901.2981 3376.0001,-911.2981 3383.0001,-911.298\"/>\n</g>\n<!-- 104 -->\n<g id=\"node105\" class=\"node\">\n<title>104</title>\n<path fill=\"#44a2e6\" stroke=\"#000000\" d=\"M3702.5,-901C3702.5,-901 3582.5,-901 3582.5,-901 3576.5,-901 3570.5,-895 3570.5,-889 3570.5,-889 3570.5,-830 3570.5,-830 3570.5,-824 3576.5,-818 3582.5,-818 3582.5,-818 3702.5,-818 3702.5,-818 3708.5,-818 3714.5,-824 3714.5,-830 3714.5,-830 3714.5,-889 3714.5,-889 3714.5,-895 3708.5,-901 3702.5,-901\"/>\n<text text-anchor=\"start\" x=\"3579.5\" y=\"-885.8\" font-family=\"Helvetica,sans-Serif\" font-size=\"14.00\" fill=\"#000000\">Pregnancies ≤ 10.0</text>\n<text text-anchor=\"start\" x=\"3613\" y=\"-870.8\" font-family=\"Helvetica,sans-Serif\" font-size=\"14.00\" fill=\"#000000\">gini = 0.1</text>\n<text text-anchor=\"start\" x=\"3598.5\" y=\"-855.8\" font-family=\"Helvetica,sans-Serif\" font-size=\"14.00\" fill=\"#000000\">samples = 38</text>\n<text text-anchor=\"start\" x=\"3597\" y=\"-840.8\" font-family=\"Helvetica,sans-Serif\" font-size=\"14.00\" fill=\"#000000\">value = [2, 36]</text>\n<text text-anchor=\"start\" x=\"3578.5\" y=\"-825.8\" font-family=\"Helvetica,sans-Serif\" font-size=\"14.00\" fill=\"#000000\">class = DIABÉTICO</text>\n</g>\n<!-- 94&#45;&gt;104 -->\n<g id=\"edge104\" class=\"edge\">\n<title>94&#45;&gt;104</title>\n<path fill=\"none\" stroke=\"#000000\" d=\"M3451.7977,-941.1377C3454.7292,-939.7246 3457.6382,-938.3404 3460.5,-937 3492.9125,-921.8191 3529.098,-906.1542 3560.6127,-892.9154\"/>\n<polygon fill=\"#000000\" stroke=\"#000000\" points=\"3562.361,-895.978 3570.2339,-888.8879 3559.6579,-889.5209 3562.361,-895.978\"/>\n</g>\n<!-- 96 -->\n<g id=\"node97\" class=\"node\">\n<title>96</title>\n<path fill=\"#63b2eb\" stroke=\"#000000\" d=\"M3321,-782C3321,-782 3104,-782 3104,-782 3098,-782 3092,-776 3092,-770 3092,-770 3092,-711 3092,-711 3092,-705 3098,-699 3104,-699 3104,-699 3321,-699 3321,-699 3327,-699 3333,-705 3333,-711 3333,-711 3333,-770 3333,-770 3333,-776 3327,-782 3321,-782\"/>\n<text text-anchor=\"start\" x=\"3100\" y=\"-766.8\" font-family=\"Helvetica,sans-Serif\" font-size=\"14.00\" fill=\"#000000\">DiabetesPedigreeFunction ≤ 0.298</text>\n<text text-anchor=\"start\" x=\"3174.5\" y=\"-751.8\" font-family=\"Helvetica,sans-Serif\" font-size=\"14.00\" fill=\"#000000\">gini = 0.291</text>\n<text text-anchor=\"start\" x=\"3168.5\" y=\"-736.8\" font-family=\"Helvetica,sans-Serif\" font-size=\"14.00\" fill=\"#000000\">samples = 17</text>\n<text text-anchor=\"start\" x=\"3167\" y=\"-721.8\" font-family=\"Helvetica,sans-Serif\" font-size=\"14.00\" fill=\"#000000\">value = [3, 14]</text>\n<text text-anchor=\"start\" x=\"3148.5\" y=\"-706.8\" font-family=\"Helvetica,sans-Serif\" font-size=\"14.00\" fill=\"#000000\">class = DIABÉTICO</text>\n</g>\n<!-- 95&#45;&gt;96 -->\n<g id=\"edge96\" class=\"edge\">\n<title>95&#45;&gt;96</title>\n<path fill=\"none\" stroke=\"#000000\" d=\"M3321.0915,-817.8796C3307.6161,-808.2774 3293.1797,-797.9903 3279.375,-788.1534\"/>\n<polygon fill=\"#000000\" stroke=\"#000000\" points=\"3281.0506,-785.0497 3270.8755,-782.0969 3276.9883,-790.7505 3281.0506,-785.0497\"/>\n</g>\n<!-- 103 -->\n<g id=\"node104\" class=\"node\">\n<title>103</title>\n<path fill=\"#e58139\" stroke=\"#000000\" d=\"M3518,-774.5C3518,-774.5 3363,-774.5 3363,-774.5 3357,-774.5 3351,-768.5 3351,-762.5 3351,-762.5 3351,-718.5 3351,-718.5 3351,-712.5 3357,-706.5 3363,-706.5 3363,-706.5 3518,-706.5 3518,-706.5 3524,-706.5 3530,-712.5 3530,-718.5 3530,-718.5 3530,-762.5 3530,-762.5 3530,-768.5 3524,-774.5 3518,-774.5\"/>\n<text text-anchor=\"start\" x=\"3411\" y=\"-759.3\" font-family=\"Helvetica,sans-Serif\" font-size=\"14.00\" fill=\"#000000\">gini = 0.0</text>\n<text text-anchor=\"start\" x=\"3401\" y=\"-744.3\" font-family=\"Helvetica,sans-Serif\" font-size=\"14.00\" fill=\"#000000\">samples = 1</text>\n<text text-anchor=\"start\" x=\"3399\" y=\"-729.3\" font-family=\"Helvetica,sans-Serif\" font-size=\"14.00\" fill=\"#000000\">value = [1, 0]</text>\n<text text-anchor=\"start\" x=\"3359\" y=\"-714.3\" font-family=\"Helvetica,sans-Serif\" font-size=\"14.00\" fill=\"#000000\">class = NÃO DIABETICO</text>\n</g>\n<!-- 95&#45;&gt;103 -->\n<g id=\"edge103\" class=\"edge\">\n<title>95&#45;&gt;103</title>\n<path fill=\"none\" stroke=\"#000000\" d=\"M3400.8348,-817.8796C3406.4715,-806.8835 3412.5685,-794.9893 3418.2522,-783.9015\"/>\n<polygon fill=\"#000000\" stroke=\"#000000\" points=\"3421.4629,-785.3105 3422.91,-774.8149 3415.2337,-782.1173 3421.4629,-785.3105\"/>\n</g>\n<!-- 97 -->\n<g id=\"node98\" class=\"node\">\n<title>97</title>\n<path fill=\"#cee6f8\" stroke=\"#000000\" d=\"M3225,-663C3225,-663 3094,-663 3094,-663 3088,-663 3082,-657 3082,-651 3082,-651 3082,-592 3082,-592 3082,-586 3088,-580 3094,-580 3094,-580 3225,-580 3225,-580 3231,-580 3237,-586 3237,-592 3237,-592 3237,-651 3237,-651 3237,-657 3231,-663 3225,-663\"/>\n<text text-anchor=\"start\" x=\"3090\" y=\"-647.8\" font-family=\"Helvetica,sans-Serif\" font-size=\"14.00\" fill=\"#000000\">SkinThickness ≤ 26.0</text>\n<text text-anchor=\"start\" x=\"3126\" y=\"-632.8\" font-family=\"Helvetica,sans-Serif\" font-size=\"14.00\" fill=\"#000000\">gini = 0.49</text>\n<text text-anchor=\"start\" x=\"3120\" y=\"-617.8\" font-family=\"Helvetica,sans-Serif\" font-size=\"14.00\" fill=\"#000000\">samples = 7</text>\n<text text-anchor=\"start\" x=\"3118\" y=\"-602.8\" font-family=\"Helvetica,sans-Serif\" font-size=\"14.00\" fill=\"#000000\">value = [3, 4]</text>\n<text text-anchor=\"start\" x=\"3095.5\" y=\"-587.8\" font-family=\"Helvetica,sans-Serif\" font-size=\"14.00\" fill=\"#000000\">class = DIABÉTICO</text>\n</g>\n<!-- 96&#45;&gt;97 -->\n<g id=\"edge97\" class=\"edge\">\n<title>96&#45;&gt;97</title>\n<path fill=\"none\" stroke=\"#000000\" d=\"M3193.9632,-698.8796C3190.1926,-690.4136 3186.185,-681.4153 3182.2867,-672.6626\"/>\n<polygon fill=\"#000000\" stroke=\"#000000\" points=\"3185.3817,-671.009 3178.1159,-663.2981 3178.9873,-673.857 3185.3817,-671.009\"/>\n</g>\n<!-- 102 -->\n<g id=\"node103\" class=\"node\">\n<title>102</title>\n<path fill=\"#399de5\" stroke=\"#000000\" d=\"M3387.5,-655.5C3387.5,-655.5 3267.5,-655.5 3267.5,-655.5 3261.5,-655.5 3255.5,-649.5 3255.5,-643.5 3255.5,-643.5 3255.5,-599.5 3255.5,-599.5 3255.5,-593.5 3261.5,-587.5 3267.5,-587.5 3267.5,-587.5 3387.5,-587.5 3387.5,-587.5 3393.5,-587.5 3399.5,-593.5 3399.5,-599.5 3399.5,-599.5 3399.5,-643.5 3399.5,-643.5 3399.5,-649.5 3393.5,-655.5 3387.5,-655.5\"/>\n<text text-anchor=\"start\" x=\"3298\" y=\"-640.3\" font-family=\"Helvetica,sans-Serif\" font-size=\"14.00\" fill=\"#000000\">gini = 0.0</text>\n<text text-anchor=\"start\" x=\"3283.5\" y=\"-625.3\" font-family=\"Helvetica,sans-Serif\" font-size=\"14.00\" fill=\"#000000\">samples = 10</text>\n<text text-anchor=\"start\" x=\"3282\" y=\"-610.3\" font-family=\"Helvetica,sans-Serif\" font-size=\"14.00\" fill=\"#000000\">value = [0, 10]</text>\n<text text-anchor=\"start\" x=\"3263.5\" y=\"-595.3\" font-family=\"Helvetica,sans-Serif\" font-size=\"14.00\" fill=\"#000000\">class = DIABÉTICO</text>\n</g>\n<!-- 96&#45;&gt;102 -->\n<g id=\"edge102\" class=\"edge\">\n<title>96&#45;&gt;102</title>\n<path fill=\"none\" stroke=\"#000000\" d=\"M3252.7214,-698.8796C3263.8792,-687.3337 3275.9939,-674.7976 3287.1586,-663.2446\"/>\n<polygon fill=\"#000000\" stroke=\"#000000\" points=\"3289.9061,-665.4381 3294.3385,-655.8149 3284.8725,-660.5736 3289.9061,-665.4381\"/>\n</g>\n<!-- 98 -->\n<g id=\"node99\" class=\"node\">\n<title>98</title>\n<path fill=\"#eeab7b\" stroke=\"#000000\" d=\"M3226,-544C3226,-544 3071,-544 3071,-544 3065,-544 3059,-538 3059,-532 3059,-532 3059,-473 3059,-473 3059,-467 3065,-461 3071,-461 3071,-461 3226,-461 3226,-461 3232,-461 3238,-467 3238,-473 3238,-473 3238,-532 3238,-532 3238,-538 3232,-544 3226,-544\"/>\n<text text-anchor=\"start\" x=\"3078.5\" y=\"-528.8\" font-family=\"Helvetica,sans-Serif\" font-size=\"14.00\" fill=\"#000000\">BloodPressure ≤ 69.0</text>\n<text text-anchor=\"start\" x=\"3110.5\" y=\"-513.8\" font-family=\"Helvetica,sans-Serif\" font-size=\"14.00\" fill=\"#000000\">gini = 0.375</text>\n<text text-anchor=\"start\" x=\"3109\" y=\"-498.8\" font-family=\"Helvetica,sans-Serif\" font-size=\"14.00\" fill=\"#000000\">samples = 4</text>\n<text text-anchor=\"start\" x=\"3107\" y=\"-483.8\" font-family=\"Helvetica,sans-Serif\" font-size=\"14.00\" fill=\"#000000\">value = [3, 1]</text>\n<text text-anchor=\"start\" x=\"3067\" y=\"-468.8\" font-family=\"Helvetica,sans-Serif\" font-size=\"14.00\" fill=\"#000000\">class = NÃO DIABETICO</text>\n</g>\n<!-- 97&#45;&gt;98 -->\n<g id=\"edge98\" class=\"edge\">\n<title>97&#45;&gt;98</title>\n<path fill=\"none\" stroke=\"#000000\" d=\"M3155.6527,-579.8796C3154.8951,-571.6838 3154.0914,-562.9891 3153.3068,-554.5013\"/>\n<polygon fill=\"#000000\" stroke=\"#000000\" points=\"3156.7694,-553.9334 3152.3637,-544.2981 3149.7991,-554.5778 3156.7694,-553.9334\"/>\n</g>\n<!-- 101 -->\n<g id=\"node102\" class=\"node\">\n<title>101</title>\n<path fill=\"#399de5\" stroke=\"#000000\" d=\"M3388.5,-536.5C3388.5,-536.5 3268.5,-536.5 3268.5,-536.5 3262.5,-536.5 3256.5,-530.5 3256.5,-524.5 3256.5,-524.5 3256.5,-480.5 3256.5,-480.5 3256.5,-474.5 3262.5,-468.5 3268.5,-468.5 3268.5,-468.5 3388.5,-468.5 3388.5,-468.5 3394.5,-468.5 3400.5,-474.5 3400.5,-480.5 3400.5,-480.5 3400.5,-524.5 3400.5,-524.5 3400.5,-530.5 3394.5,-536.5 3388.5,-536.5\"/>\n<text text-anchor=\"start\" x=\"3299\" y=\"-521.3\" font-family=\"Helvetica,sans-Serif\" font-size=\"14.00\" fill=\"#000000\">gini = 0.0</text>\n<text text-anchor=\"start\" x=\"3289\" y=\"-506.3\" font-family=\"Helvetica,sans-Serif\" font-size=\"14.00\" fill=\"#000000\">samples = 3</text>\n<text text-anchor=\"start\" x=\"3287\" y=\"-491.3\" font-family=\"Helvetica,sans-Serif\" font-size=\"14.00\" fill=\"#000000\">value = [0, 3]</text>\n<text text-anchor=\"start\" x=\"3264.5\" y=\"-476.3\" font-family=\"Helvetica,sans-Serif\" font-size=\"14.00\" fill=\"#000000\">class = DIABÉTICO</text>\n</g>\n<!-- 97&#45;&gt;101 -->\n<g id=\"edge101\" class=\"edge\">\n<title>97&#45;&gt;101</title>\n<path fill=\"none\" stroke=\"#000000\" d=\"M3218.608,-579.8796C3235.8677,-567.7263 3254.6856,-554.4759 3271.793,-542.4297\"/>\n<polygon fill=\"#000000\" stroke=\"#000000\" points=\"3273.8782,-545.2421 3280.0396,-536.623 3269.8481,-539.5187 3273.8782,-545.2421\"/>\n</g>\n<!-- 99 -->\n<g id=\"node100\" class=\"node\">\n<title>99</title>\n<path fill=\"#e58139\" stroke=\"#000000\" d=\"M3136,-417.5C3136,-417.5 2981,-417.5 2981,-417.5 2975,-417.5 2969,-411.5 2969,-405.5 2969,-405.5 2969,-361.5 2969,-361.5 2969,-355.5 2975,-349.5 2981,-349.5 2981,-349.5 3136,-349.5 3136,-349.5 3142,-349.5 3148,-355.5 3148,-361.5 3148,-361.5 3148,-405.5 3148,-405.5 3148,-411.5 3142,-417.5 3136,-417.5\"/>\n<text text-anchor=\"start\" x=\"3029\" y=\"-402.3\" font-family=\"Helvetica,sans-Serif\" font-size=\"14.00\" fill=\"#000000\">gini = 0.0</text>\n<text text-anchor=\"start\" x=\"3019\" y=\"-387.3\" font-family=\"Helvetica,sans-Serif\" font-size=\"14.00\" fill=\"#000000\">samples = 3</text>\n<text text-anchor=\"start\" x=\"3017\" y=\"-372.3\" font-family=\"Helvetica,sans-Serif\" font-size=\"14.00\" fill=\"#000000\">value = [3, 0]</text>\n<text text-anchor=\"start\" x=\"2977\" y=\"-357.3\" font-family=\"Helvetica,sans-Serif\" font-size=\"14.00\" fill=\"#000000\">class = NÃO DIABETICO</text>\n</g>\n<!-- 98&#45;&gt;99 -->\n<g id=\"edge99\" class=\"edge\">\n<title>98&#45;&gt;99</title>\n<path fill=\"none\" stroke=\"#000000\" d=\"M3117.0224,-460.8796C3108.4565,-449.5536 3099.17,-437.2748 3090.5717,-425.9058\"/>\n<polygon fill=\"#000000\" stroke=\"#000000\" points=\"3093.2762,-423.6795 3084.4525,-417.8149 3087.6931,-427.902 3093.2762,-423.6795\"/>\n</g>\n<!-- 100 -->\n<g id=\"node101\" class=\"node\">\n<title>100</title>\n<path fill=\"#399de5\" stroke=\"#000000\" d=\"M3298.5,-417.5C3298.5,-417.5 3178.5,-417.5 3178.5,-417.5 3172.5,-417.5 3166.5,-411.5 3166.5,-405.5 3166.5,-405.5 3166.5,-361.5 3166.5,-361.5 3166.5,-355.5 3172.5,-349.5 3178.5,-349.5 3178.5,-349.5 3298.5,-349.5 3298.5,-349.5 3304.5,-349.5 3310.5,-355.5 3310.5,-361.5 3310.5,-361.5 3310.5,-405.5 3310.5,-405.5 3310.5,-411.5 3304.5,-417.5 3298.5,-417.5\"/>\n<text text-anchor=\"start\" x=\"3209\" y=\"-402.3\" font-family=\"Helvetica,sans-Serif\" font-size=\"14.00\" fill=\"#000000\">gini = 0.0</text>\n<text text-anchor=\"start\" x=\"3199\" y=\"-387.3\" font-family=\"Helvetica,sans-Serif\" font-size=\"14.00\" fill=\"#000000\">samples = 1</text>\n<text text-anchor=\"start\" x=\"3197\" y=\"-372.3\" font-family=\"Helvetica,sans-Serif\" font-size=\"14.00\" fill=\"#000000\">value = [0, 1]</text>\n<text text-anchor=\"start\" x=\"3174.5\" y=\"-357.3\" font-family=\"Helvetica,sans-Serif\" font-size=\"14.00\" fill=\"#000000\">class = DIABÉTICO</text>\n</g>\n<!-- 98&#45;&gt;100 -->\n<g id=\"edge100\" class=\"edge\">\n<title>98&#45;&gt;100</title>\n<path fill=\"none\" stroke=\"#000000\" d=\"M3179.9776,-460.8796C3188.5435,-449.5536 3197.83,-437.2748 3206.4283,-425.9058\"/>\n<polygon fill=\"#000000\" stroke=\"#000000\" points=\"3209.3069,-427.902 3212.5475,-417.8149 3203.7238,-423.6795 3209.3069,-427.902\"/>\n</g>\n<!-- 105 -->\n<g id=\"node106\" class=\"node\">\n<title>105</title>\n<path fill=\"#3fa0e6\" stroke=\"#000000\" d=\"M3708,-782C3708,-782 3577,-782 3577,-782 3571,-782 3565,-776 3565,-770 3565,-770 3565,-711 3565,-711 3565,-705 3571,-699 3577,-699 3577,-699 3708,-699 3708,-699 3714,-699 3720,-705 3720,-711 3720,-711 3720,-770 3720,-770 3720,-776 3714,-782 3708,-782\"/>\n<text text-anchor=\"start\" x=\"3573\" y=\"-766.8\" font-family=\"Helvetica,sans-Serif\" font-size=\"14.00\" fill=\"#000000\">SkinThickness ≤ 42.5</text>\n<text text-anchor=\"start\" x=\"3604.5\" y=\"-751.8\" font-family=\"Helvetica,sans-Serif\" font-size=\"14.00\" fill=\"#000000\">gini = 0.056</text>\n<text text-anchor=\"start\" x=\"3598.5\" y=\"-736.8\" font-family=\"Helvetica,sans-Serif\" font-size=\"14.00\" fill=\"#000000\">samples = 35</text>\n<text text-anchor=\"start\" x=\"3597\" y=\"-721.8\" font-family=\"Helvetica,sans-Serif\" font-size=\"14.00\" fill=\"#000000\">value = [1, 34]</text>\n<text text-anchor=\"start\" x=\"3578.5\" y=\"-706.8\" font-family=\"Helvetica,sans-Serif\" font-size=\"14.00\" fill=\"#000000\">class = DIABÉTICO</text>\n</g>\n<!-- 104&#45;&gt;105 -->\n<g id=\"edge105\" class=\"edge\">\n<title>104&#45;&gt;105</title>\n<path fill=\"none\" stroke=\"#000000\" d=\"M3642.5,-817.8796C3642.5,-809.6838 3642.5,-800.9891 3642.5,-792.5013\"/>\n<polygon fill=\"#000000\" stroke=\"#000000\" points=\"3646.0001,-792.298 3642.5,-782.2981 3639.0001,-792.2981 3646.0001,-792.298\"/>\n</g>\n<!-- 110 -->\n<g id=\"node111\" class=\"node\">\n<title>110</title>\n<path fill=\"#9ccef2\" stroke=\"#000000\" d=\"M3891.5,-782C3891.5,-782 3771.5,-782 3771.5,-782 3765.5,-782 3759.5,-776 3759.5,-770 3759.5,-770 3759.5,-711 3759.5,-711 3759.5,-705 3765.5,-699 3771.5,-699 3771.5,-699 3891.5,-699 3891.5,-699 3897.5,-699 3903.5,-705 3903.5,-711 3903.5,-711 3903.5,-770 3903.5,-770 3903.5,-776 3897.5,-782 3891.5,-782\"/>\n<text text-anchor=\"start\" x=\"3792.5\" y=\"-766.8\" font-family=\"Helvetica,sans-Serif\" font-size=\"14.00\" fill=\"#000000\">BMI ≤ 33.25</text>\n<text text-anchor=\"start\" x=\"3793.5\" y=\"-751.8\" font-family=\"Helvetica,sans-Serif\" font-size=\"14.00\" fill=\"#000000\">gini = 0.444</text>\n<text text-anchor=\"start\" x=\"3792\" y=\"-736.8\" font-family=\"Helvetica,sans-Serif\" font-size=\"14.00\" fill=\"#000000\">samples = 3</text>\n<text text-anchor=\"start\" x=\"3790\" y=\"-721.8\" font-family=\"Helvetica,sans-Serif\" font-size=\"14.00\" fill=\"#000000\">value = [1, 2]</text>\n<text text-anchor=\"start\" x=\"3767.5\" y=\"-706.8\" font-family=\"Helvetica,sans-Serif\" font-size=\"14.00\" fill=\"#000000\">class = DIABÉTICO</text>\n</g>\n<!-- 104&#45;&gt;110 -->\n<g id=\"edge110\" class=\"edge\">\n<title>104&#45;&gt;110</title>\n<path fill=\"none\" stroke=\"#000000\" d=\"M3708.603,-817.8796C3724.1413,-808.0962 3740.8088,-797.6019 3756.6987,-787.5971\"/>\n<polygon fill=\"#000000\" stroke=\"#000000\" points=\"3758.8368,-790.3869 3765.4343,-782.0969 3755.1071,-784.4633 3758.8368,-790.3869\"/>\n</g>\n<!-- 106 -->\n<g id=\"node107\" class=\"node\">\n<title>106</title>\n<path fill=\"#399de5\" stroke=\"#000000\" d=\"M3549.5,-655.5C3549.5,-655.5 3429.5,-655.5 3429.5,-655.5 3423.5,-655.5 3417.5,-649.5 3417.5,-643.5 3417.5,-643.5 3417.5,-599.5 3417.5,-599.5 3417.5,-593.5 3423.5,-587.5 3429.5,-587.5 3429.5,-587.5 3549.5,-587.5 3549.5,-587.5 3555.5,-587.5 3561.5,-593.5 3561.5,-599.5 3561.5,-599.5 3561.5,-643.5 3561.5,-643.5 3561.5,-649.5 3555.5,-655.5 3549.5,-655.5\"/>\n<text text-anchor=\"start\" x=\"3460\" y=\"-640.3\" font-family=\"Helvetica,sans-Serif\" font-size=\"14.00\" fill=\"#000000\">gini = 0.0</text>\n<text text-anchor=\"start\" x=\"3445.5\" y=\"-625.3\" font-family=\"Helvetica,sans-Serif\" font-size=\"14.00\" fill=\"#000000\">samples = 32</text>\n<text text-anchor=\"start\" x=\"3444\" y=\"-610.3\" font-family=\"Helvetica,sans-Serif\" font-size=\"14.00\" fill=\"#000000\">value = [0, 32]</text>\n<text text-anchor=\"start\" x=\"3425.5\" y=\"-595.3\" font-family=\"Helvetica,sans-Serif\" font-size=\"14.00\" fill=\"#000000\">class = DIABÉTICO</text>\n</g>\n<!-- 105&#45;&gt;106 -->\n<g id=\"edge106\" class=\"edge\">\n<title>105&#45;&gt;106</title>\n<path fill=\"none\" stroke=\"#000000\" d=\"M3588.988,-698.8796C3573.7192,-687.0038 3557.1034,-674.0804 3541.9016,-662.2568\"/>\n<polygon fill=\"#000000\" stroke=\"#000000\" points=\"3543.6616,-659.1916 3533.6192,-655.8149 3539.3639,-664.7171 3543.6616,-659.1916\"/>\n</g>\n<!-- 107 -->\n<g id=\"node108\" class=\"node\">\n<title>107</title>\n<path fill=\"#9ccef2\" stroke=\"#000000\" d=\"M3711.5,-663C3711.5,-663 3591.5,-663 3591.5,-663 3585.5,-663 3579.5,-657 3579.5,-651 3579.5,-651 3579.5,-592 3579.5,-592 3579.5,-586 3585.5,-580 3591.5,-580 3591.5,-580 3711.5,-580 3711.5,-580 3717.5,-580 3723.5,-586 3723.5,-592 3723.5,-592 3723.5,-651 3723.5,-651 3723.5,-657 3717.5,-663 3711.5,-663\"/>\n<text text-anchor=\"start\" x=\"3616.5\" y=\"-647.8\" font-family=\"Helvetica,sans-Serif\" font-size=\"14.00\" fill=\"#000000\">Age ≤ 51.5</text>\n<text text-anchor=\"start\" x=\"3613.5\" y=\"-632.8\" font-family=\"Helvetica,sans-Serif\" font-size=\"14.00\" fill=\"#000000\">gini = 0.444</text>\n<text text-anchor=\"start\" x=\"3612\" y=\"-617.8\" font-family=\"Helvetica,sans-Serif\" font-size=\"14.00\" fill=\"#000000\">samples = 3</text>\n<text text-anchor=\"start\" x=\"3610\" y=\"-602.8\" font-family=\"Helvetica,sans-Serif\" font-size=\"14.00\" fill=\"#000000\">value = [1, 2]</text>\n<text text-anchor=\"start\" x=\"3587.5\" y=\"-587.8\" font-family=\"Helvetica,sans-Serif\" font-size=\"14.00\" fill=\"#000000\">class = DIABÉTICO</text>\n</g>\n<!-- 105&#45;&gt;107 -->\n<g id=\"edge107\" class=\"edge\">\n<title>105&#45;&gt;107</title>\n<path fill=\"none\" stroke=\"#000000\" d=\"M3645.6478,-698.8796C3646.2676,-690.6838 3646.9252,-681.9891 3647.5671,-673.5013\"/>\n<polygon fill=\"#000000\" stroke=\"#000000\" points=\"3651.0746,-673.5336 3648.3388,-663.2981 3644.0945,-673.0056 3651.0746,-673.5336\"/>\n</g>\n<!-- 108 -->\n<g id=\"node109\" class=\"node\">\n<title>108</title>\n<path fill=\"#e58139\" stroke=\"#000000\" d=\"M3652,-536.5C3652,-536.5 3497,-536.5 3497,-536.5 3491,-536.5 3485,-530.5 3485,-524.5 3485,-524.5 3485,-480.5 3485,-480.5 3485,-474.5 3491,-468.5 3497,-468.5 3497,-468.5 3652,-468.5 3652,-468.5 3658,-468.5 3664,-474.5 3664,-480.5 3664,-480.5 3664,-524.5 3664,-524.5 3664,-530.5 3658,-536.5 3652,-536.5\"/>\n<text text-anchor=\"start\" x=\"3545\" y=\"-521.3\" font-family=\"Helvetica,sans-Serif\" font-size=\"14.00\" fill=\"#000000\">gini = 0.0</text>\n<text text-anchor=\"start\" x=\"3535\" y=\"-506.3\" font-family=\"Helvetica,sans-Serif\" font-size=\"14.00\" fill=\"#000000\">samples = 1</text>\n<text text-anchor=\"start\" x=\"3533\" y=\"-491.3\" font-family=\"Helvetica,sans-Serif\" font-size=\"14.00\" fill=\"#000000\">value = [1, 0]</text>\n<text text-anchor=\"start\" x=\"3493\" y=\"-476.3\" font-family=\"Helvetica,sans-Serif\" font-size=\"14.00\" fill=\"#000000\">class = NÃO DIABETICO</text>\n</g>\n<!-- 107&#45;&gt;108 -->\n<g id=\"edge108\" class=\"edge\">\n<title>107&#45;&gt;108</title>\n<path fill=\"none\" stroke=\"#000000\" d=\"M3624.5691,-579.8796C3617.3117,-568.6636 3609.4497,-556.5131 3602.1535,-545.2372\"/>\n<polygon fill=\"#000000\" stroke=\"#000000\" points=\"3605.0748,-543.3093 3596.7038,-536.8149 3599.1978,-547.112 3605.0748,-543.3093\"/>\n</g>\n<!-- 109 -->\n<g id=\"node110\" class=\"node\">\n<title>109</title>\n<path fill=\"#399de5\" stroke=\"#000000\" d=\"M3814.5,-536.5C3814.5,-536.5 3694.5,-536.5 3694.5,-536.5 3688.5,-536.5 3682.5,-530.5 3682.5,-524.5 3682.5,-524.5 3682.5,-480.5 3682.5,-480.5 3682.5,-474.5 3688.5,-468.5 3694.5,-468.5 3694.5,-468.5 3814.5,-468.5 3814.5,-468.5 3820.5,-468.5 3826.5,-474.5 3826.5,-480.5 3826.5,-480.5 3826.5,-524.5 3826.5,-524.5 3826.5,-530.5 3820.5,-536.5 3814.5,-536.5\"/>\n<text text-anchor=\"start\" x=\"3725\" y=\"-521.3\" font-family=\"Helvetica,sans-Serif\" font-size=\"14.00\" fill=\"#000000\">gini = 0.0</text>\n<text text-anchor=\"start\" x=\"3715\" y=\"-506.3\" font-family=\"Helvetica,sans-Serif\" font-size=\"14.00\" fill=\"#000000\">samples = 2</text>\n<text text-anchor=\"start\" x=\"3713\" y=\"-491.3\" font-family=\"Helvetica,sans-Serif\" font-size=\"14.00\" fill=\"#000000\">value = [0, 2]</text>\n<text text-anchor=\"start\" x=\"3690.5\" y=\"-476.3\" font-family=\"Helvetica,sans-Serif\" font-size=\"14.00\" fill=\"#000000\">class = DIABÉTICO</text>\n</g>\n<!-- 107&#45;&gt;109 -->\n<g id=\"edge109\" class=\"edge\">\n<title>107&#45;&gt;109</title>\n<path fill=\"none\" stroke=\"#000000\" d=\"M3687.5244,-579.8796C3697.4227,-568.4436 3708.1619,-556.0363 3718.0822,-544.575\"/>\n<polygon fill=\"#000000\" stroke=\"#000000\" points=\"3720.9007,-546.6666 3724.7988,-536.8149 3715.6079,-542.0855 3720.9007,-546.6666\"/>\n</g>\n<!-- 111 -->\n<g id=\"node112\" class=\"node\">\n<title>111</title>\n<path fill=\"#e58139\" stroke=\"#000000\" d=\"M3909,-655.5C3909,-655.5 3754,-655.5 3754,-655.5 3748,-655.5 3742,-649.5 3742,-643.5 3742,-643.5 3742,-599.5 3742,-599.5 3742,-593.5 3748,-587.5 3754,-587.5 3754,-587.5 3909,-587.5 3909,-587.5 3915,-587.5 3921,-593.5 3921,-599.5 3921,-599.5 3921,-643.5 3921,-643.5 3921,-649.5 3915,-655.5 3909,-655.5\"/>\n<text text-anchor=\"start\" x=\"3802\" y=\"-640.3\" font-family=\"Helvetica,sans-Serif\" font-size=\"14.00\" fill=\"#000000\">gini = 0.0</text>\n<text text-anchor=\"start\" x=\"3792\" y=\"-625.3\" font-family=\"Helvetica,sans-Serif\" font-size=\"14.00\" fill=\"#000000\">samples = 1</text>\n<text text-anchor=\"start\" x=\"3790\" y=\"-610.3\" font-family=\"Helvetica,sans-Serif\" font-size=\"14.00\" fill=\"#000000\">value = [1, 0]</text>\n<text text-anchor=\"start\" x=\"3750\" y=\"-595.3\" font-family=\"Helvetica,sans-Serif\" font-size=\"14.00\" fill=\"#000000\">class = NÃO DIABETICO</text>\n</g>\n<!-- 110&#45;&gt;111 -->\n<g id=\"edge111\" class=\"edge\">\n<title>110&#45;&gt;111</title>\n<path fill=\"none\" stroke=\"#000000\" d=\"M3831.5,-698.8796C3831.5,-688.2134 3831.5,-676.7021 3831.5,-665.9015\"/>\n<polygon fill=\"#000000\" stroke=\"#000000\" points=\"3835.0001,-665.8149 3831.5,-655.8149 3828.0001,-665.815 3835.0001,-665.8149\"/>\n</g>\n<!-- 112 -->\n<g id=\"node113\" class=\"node\">\n<title>112</title>\n<path fill=\"#399de5\" stroke=\"#000000\" d=\"M4071.5,-655.5C4071.5,-655.5 3951.5,-655.5 3951.5,-655.5 3945.5,-655.5 3939.5,-649.5 3939.5,-643.5 3939.5,-643.5 3939.5,-599.5 3939.5,-599.5 3939.5,-593.5 3945.5,-587.5 3951.5,-587.5 3951.5,-587.5 4071.5,-587.5 4071.5,-587.5 4077.5,-587.5 4083.5,-593.5 4083.5,-599.5 4083.5,-599.5 4083.5,-643.5 4083.5,-643.5 4083.5,-649.5 4077.5,-655.5 4071.5,-655.5\"/>\n<text text-anchor=\"start\" x=\"3982\" y=\"-640.3\" font-family=\"Helvetica,sans-Serif\" font-size=\"14.00\" fill=\"#000000\">gini = 0.0</text>\n<text text-anchor=\"start\" x=\"3972\" y=\"-625.3\" font-family=\"Helvetica,sans-Serif\" font-size=\"14.00\" fill=\"#000000\">samples = 2</text>\n<text text-anchor=\"start\" x=\"3970\" y=\"-610.3\" font-family=\"Helvetica,sans-Serif\" font-size=\"14.00\" fill=\"#000000\">value = [0, 2]</text>\n<text text-anchor=\"start\" x=\"3947.5\" y=\"-595.3\" font-family=\"Helvetica,sans-Serif\" font-size=\"14.00\" fill=\"#000000\">class = DIABÉTICO</text>\n</g>\n<!-- 110&#45;&gt;112 -->\n<g id=\"edge112\" class=\"edge\">\n<title>110&#45;&gt;112</title>\n<path fill=\"none\" stroke=\"#000000\" d=\"M3894.4553,-698.8796C3912.8384,-686.7263 3932.8811,-673.4759 3951.1021,-661.4297\"/>\n<polygon fill=\"#000000\" stroke=\"#000000\" points=\"3953.4737,-664.0576 3959.8853,-655.623 3949.6133,-658.2183 3953.4737,-664.0576\"/>\n</g>\n</g>\n</svg>\n"
          },
          "metadata": {},
          "execution_count": 69
        }
      ]
    },
    {
      "cell_type": "markdown",
      "source": [
        "* Identificar as features que possuem mais importancia\n",
        "* Valor Indice Gini\n",
        "* O número de amostras classificads em cada nó\n",
        "* A classificação do target"
      ],
      "metadata": {
        "id": "aQDUPAw8utmR"
      }
    },
    {
      "cell_type": "code",
      "source": [
        "tree.plot_tree(modelo)\n",
        "plt.show()"
      ],
      "metadata": {
        "colab": {
          "base_uri": "https://localhost:8080/",
          "height": 248
        },
        "id": "Xz8Oju0luZZp",
        "outputId": "706d3b31-3e07-4071-9c74-e9df06061511"
      },
      "execution_count": null,
      "outputs": [
        {
          "output_type": "display_data",
          "data": {
            "text/plain": [
              "<Figure size 432x288 with 1 Axes>"
            ],
            "image/png": "[encoded data removed]"
          },
          "metadata": {
            "needs_background": "light"
          }
        }
      ]
    },
    {
      "cell_type": "markdown",
      "source": [
        "#Calculando acurácia do modelo\n",
        "A acurácia é uma das métricas que podemos utilizar para avaliar um modelo de ML. A acurácia é a proximidade de um resultado com o seu valor de referência real. Dessa forma, quanto maior o nível de acuracidade, mais proximo de referencia ou valor real."
      ],
      "metadata": {
        "id": "rUWC4Ijevvvw"
      }
    },
    {
      "cell_type": "code",
      "source": [
        "from sklearn.metrics import accuracy_score"
      ],
      "metadata": {
        "id": "YlxO7_yCvly5"
      },
      "execution_count": null,
      "outputs": []
    },
    {
      "cell_type": "code",
      "source": [
        "accuracy_score(y_test, y_pred)"
      ],
      "metadata": {
        "colab": {
          "base_uri": "https://localhost:8080/"
        },
        "id": "9Ct_COXqwKZ9",
        "outputId": "fc66f6e6-aee5-4e84-a6c5-2b3c58fec401"
      },
      "execution_count": null,
      "outputs": [
        {
          "output_type": "execute_result",
          "data": {
            "text/plain": [
              "0.75"
            ]
          },
          "metadata": {},
          "execution_count": 76
        }
      ]
    },
    {
      "cell_type": "markdown",
      "source": [
        "Observamos que para esse experimento, obtivemos uma acurácia de 75%. Ou seja, 75% de acerto em comparação a base real."
      ],
      "metadata": {
        "id": "5UkZD3UhwwXr"
      }
    },
    {
      "cell_type": "markdown",
      "source": [
        "#Parei em 1:36. Falta a Poda. "
      ],
      "metadata": {
        "id": "CP3CZa0PxI4F"
      }
    },
    {
      "cell_type": "code",
      "source": [],
      "metadata": {
        "id": "na4DvOGMwWJa"
      },
      "execution_count": null,
      "outputs": []
    }
  ]
}